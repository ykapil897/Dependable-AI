{
 "cells": [
  {
   "cell_type": "code",
   "execution_count": 1,
   "metadata": {},
   "outputs": [],
   "source": [
    "import numpy as np\n",
    "from multiprocessing import cpu_count\n",
    "import scipy.io\n",
    "import pandas as pd\n",
    "import matplotlib.pyplot as plt\n",
    "import time\n",
    "from joblib import Parallel, delayed\n",
    "from tqdm import tqdm\n",
    "import joblib\n",
    "import os\n",
    "import warnings\n",
    "warnings.filterwarnings('ignore')\n",
    "\n",
    "from sklearn.preprocessing import StandardScaler\n",
    "from sklearn.decomposition import PCA\n",
    "from sklearn.model_selection import train_test_split\n",
    "from sklearn.svm import LinearSVC\n",
    "from sklearn.linear_model import LogisticRegression\n",
    "from sklearn.tree import DecisionTreeClassifier\n",
    "from sklearn.neighbors import KNeighborsClassifier\n",
    "from sklearn.multiclass import OneVsRestClassifier\n",
    "from sklearn.metrics import accuracy_score, precision_score, recall_score, f1_score, hamming_loss\n"
   ]
  },
  {
   "cell_type": "code",
   "execution_count": 2,
   "metadata": {},
   "outputs": [
    {
     "name": "stdout",
     "output_type": "stream",
     "text": [
      "Train Features: (17665, 2048), Train Labels: (17665, 291)\n",
      "Test Features: (1962, 2048), Test Labels: (1962, 291)\n"
     ]
    }
   ],
   "source": [
    "\n",
    "# Training data\n",
    "train_features = scipy.io.loadmat(\"./IAPRTC/IAPRTC-12_TrainFeat.mat\")\n",
    "train_labels = scipy.io.loadmat(\"./IAPRTC/IAPRTC-12_TrainLabels.mat\")\n",
    "train_features = train_features['I_x_tr'][0][0]\n",
    "train_labels = train_labels['I_z_tr'][0][0]\n",
    "\n",
    "# Testing data\n",
    "test_features = scipy.io.loadmat(\"./IAPRTC/IAPRTC-12_TestFeat.mat\")\n",
    "test_labels = scipy.io.loadmat(\"./IAPRTC/IAPRTC-12_TestLabels.mat\")\n",
    "test_features = test_features['I_x_te'][0][0]\n",
    "test_labels = test_labels['I_z_te'][0][0]\n",
    "\n",
    "print(f\"Train Features: {train_features.shape}, Train Labels: {train_labels.shape}\")\n",
    "print(f\"Test Features: {test_features.shape}, Test Labels: {test_labels.shape}\")\n"
   ]
  },
  {
   "cell_type": "code",
   "execution_count": 10,
   "metadata": {},
   "outputs": [],
   "source": [
    "# Function to evaluate a model\n",
    "def evaluate_model(model, X_test, y_test):\n",
    "    \"\"\"\n",
    "    Evaluate a multilabel classification model using various metrics.\n",
    "    Returns a dictionary of evaluation metrics.\n",
    "    \"\"\"\n",
    "    y_pred = model.predict(X_test)\n",
    "    \n",
    "    # For multilabel classification\n",
    "    accuracy = accuracy_score(y_test, y_pred)\n",
    "    precision_micro = precision_score(y_test, y_pred, average='micro')\n",
    "    precision_macro = precision_score(y_test, y_pred, average='macro')\n",
    "    recall_micro = recall_score(y_test, y_pred, average='micro')\n",
    "    recall_macro = recall_score(y_test, y_pred, average='macro')\n",
    "    f1_micro = f1_score(y_test, y_pred, average='micro')\n",
    "    f1_macro = f1_score(y_test, y_pred, average='macro')\n",
    "    hamming = hamming_loss(y_test, y_pred)\n",
    "    \n",
    "    return {\n",
    "        'accuracy': accuracy,\n",
    "        'precision_micro': precision_micro,\n",
    "        'precision_macro': precision_macro,\n",
    "        'recall_micro': recall_micro,\n",
    "        'recall_macro': recall_macro,\n",
    "        'f1_micro': f1_micro,\n",
    "        'f1_macro': f1_macro,\n",
    "        'hamming_loss': hamming\n",
    "    }"
   ]
  },
  {
   "cell_type": "code",
   "execution_count": 26,
   "metadata": {},
   "outputs": [],
   "source": [
    "def train_and_evaluate_models(X_train, y_train, X_test, y_test):\n",
    "    \"\"\"\n",
    "    Train, evaluate, and save classification models sequentially.\n",
    "    Returns a dictionary of model performances.\n",
    "    \"\"\"\n",
    "    results = {}\n",
    "    \n",
    "    # Scale features\n",
    "    print(\"Scaling features...\")\n",
    "    if os.path.exists('scaler.pkl'):\n",
    "        scaler = joblib.load('scaler.pkl')\n",
    "        X_train_scaled = scaler.transform(X_train)\n",
    "        X_test_scaled = scaler.transform(X_test)\n",
    "    else:\n",
    "        scaler = StandardScaler()\n",
    "        X_train_scaled = scaler.fit_transform(X_train)\n",
    "        X_test_scaled = scaler.transform(X_test)\n",
    "        joblib.dump(scaler, 'scaler.pkl')  # Save the scaler\n",
    "\n",
    "    # Apply PCA to reduce dimensions\n",
    "    n_components = 200  # Reduce from 2048 to 100 dimensions\n",
    "    print(f\"Applying PCA to reduce dimensions to {n_components}\")\n",
    "    \n",
    "    if os.path.exists('pca_model.pkl'):\n",
    "        pca = joblib.load('pca_model.pkl')\n",
    "        X_train_reduced = pca.transform(X_train_scaled)\n",
    "        X_test_reduced = pca.transform(X_test_scaled)\n",
    "    else:\n",
    "        pca = PCA(n_components=n_components)\n",
    "        X_train_reduced = pca.fit_transform(X_train_scaled)\n",
    "        X_test_reduced = pca.transform(X_test_scaled)\n",
    "        joblib.dump(pca, 'pca_model.pkl')\n",
    "    \n",
    "    print(f\"Explained variance ratio: {sum(pca.explained_variance_ratio_):.2f}\")\n",
    "    \n",
    "    \n",
    "    models = {\n",
    "        'Linear SVM': OneVsRestClassifier(LinearSVC(max_iter=1)),\n",
    "        'Logistic Regression': OneVsRestClassifier(LogisticRegression(max_iter=1, n_jobs=1)),\n",
    "        'Softmax Regression': OneVsRestClassifier(LogisticRegression(multi_class='multinomial', solver='lbfgs', max_iter=1, n_jobs=1)),\n",
    "        'Decision Tree': OneVsRestClassifier(DecisionTreeClassifier(\n",
    "            criterion='gini',  # 'gini' or 'entropy', default is 'gini'\n",
    "            max_depth=5,  # Limit tree depth to prevent overfitting\n",
    "            min_samples_split=5,  # Minimum samples to split a node\n",
    "            min_samples_leaf=2,  # Minimum samples per leaf\n",
    "            random_state=42  # Ensure reproducibility\n",
    "        )),\n",
    "        'Weighted KNN': OneVsRestClassifier(KNeighborsClassifier(\n",
    "            weights='distance',  \n",
    "            n_neighbors=5,  \n",
    "            algorithm='auto',  # Automatically selects the best algorithm\n",
    "            leaf_size=30,  # Affects speed, default is 30\n",
    "            p=2,  # p=2 means Euclidean distance\n",
    "            n_jobs=1  # Single-threaded execution\n",
    "        ))\n",
    "    }\n",
    "    \n",
    "    trained_models = {}\n",
    "    \n",
    "    # for name, model in models.items():\n",
    "    #     print(f\"Training {name}...\")\n",
    "    #     start_time = time.time()\n",
    "    #     if name == 'Weighted KNN':\n",
    "    #         # Use PCA reduced data for KNN\n",
    "    #         model.fit(X_train_reduced, y_train)\n",
    "    #     else:\n",
    "    #         model.fit(X_train_scaled, y_train)\n",
    "    #     training_time = time.time() - start_time\n",
    "    #     joblib.dump(model, f'{name.replace(\" \", \"_\").lower()}.pkl')  # Save model\n",
    "        \n",
    "\n",
    "    \n",
    "    for name, model in models.items():\n",
    "        # Evaluate model\n",
    "        model = joblib.load(f'{name.replace(\" \", \"_\").lower()}.pkl')  # Load model\n",
    "        if name == 'Weighted KNN':\n",
    "            metrics = evaluate_model(model, X_test_reduced, y_test)\n",
    "        else:\n",
    "           metrics = evaluate_model(model, X_test_scaled, y_test)\n",
    "        results[name] = {'metrics': metrics, 'training_time': 10}\n",
    "        print(f\"{name} - Accuracy: {metrics['accuracy']:.4f}, \"\n",
    "              f\"Precision (Micro): {metrics['precision_micro']:.4f}, \"\n",
    "              f\"Precision (Macro): {metrics['precision_macro']:.4f}, \"\n",
    "              f\"Recall (Micro): {metrics['recall_micro']:.4f}, \"\n",
    "              f\"Recall (Macro): {metrics['recall_macro']:.4f}, \"\n",
    "              f\"F1 (Micro): {metrics['f1_micro']:.4f}, \"\n",
    "              f\"F1 (Macro): {metrics['f1_macro']:.4f}, \"\n",
    "              f\"Hamming Loss: {metrics['hamming_loss']:.4f}, \"\n",
    "              f\"Training Time: {results[name]['training_time']:.2f} seconds\")\n",
    "        trained_models[name] = model\n",
    "    \n",
    "    # Ensemble model\n",
    "    print(\"Training Multilabel Ensemble...\")\n",
    "    start_time = time.time()\n",
    "\n",
    "\n",
    "    def ensemble_predict(X):\n",
    "        predictions = np.array([\n",
    "            trained_models[name].predict(X) if name != 'Weighted KNN' \n",
    "            else trained_models['Weighted KNN'].predict(pca.transform(X)) \n",
    "            for name in trained_models\n",
    "        ])\n",
    "        print(f\"Predictions: {predictions}\")\n",
    "        print(f\"Predictions shape: {predictions.shape}\")\n",
    "        ensemble_pred = sum(predictions) >= 3  # Majority voting\n",
    "        return ensemble_pred.astype(int)\n",
    "    \n",
    "    print(X_test_scaled.shape)\n",
    "    y_pred_ensemble = ensemble_predict(X_test_scaled)\n",
    "    ensemble_time = time.time() - start_time\n",
    "    print(f\"Completed ensemble model in {ensemble_time:.2f} seconds.\")\n",
    "    \n",
    "    # Calculate metrics for ensemble\n",
    "    results['Ensemble'] = {\n",
    "        'metrics': {\n",
    "            'accuracy': accuracy_score(y_test, y_pred_ensemble),\n",
    "            'precision_micro': precision_score(y_test, y_pred_ensemble, average='micro'),\n",
    "            'precision_macro': precision_score(y_test, y_pred_ensemble, average='macro'),\n",
    "            'recall_micro': recall_score(y_test, y_pred_ensemble, average='micro'),\n",
    "            'recall_macro': recall_score(y_test, y_pred_ensemble, average='macro'),\n",
    "            'f1_micro': f1_score(y_test, y_pred_ensemble, average='micro'),\n",
    "            'f1_macro': f1_score(y_test, y_pred_ensemble, average='macro'),\n",
    "            'hamming_loss': hamming_loss(y_test, y_pred_ensemble)\n",
    "        },\n",
    "        'training_time': ensemble_time\n",
    "    }\n",
    "    \n",
    "    return results"
   ]
  },
  {
   "cell_type": "code",
   "execution_count": 27,
   "metadata": {},
   "outputs": [],
   "source": [
    "# Function to display results\n",
    "def display_results(results):\n",
    "    \"\"\"\n",
    "    Display the evaluation results in a table and plot the metrics\n",
    "    \"\"\"\n",
    "    # Create a table to display the metrics\n",
    "    metrics_df = pd.DataFrame(columns=[\n",
    "        'Model', 'Accuracy', 'Precision (micro)', 'Precision (macro)', \n",
    "        'Recall (micro)', 'Recall (macro)', 'F1 (micro)', 'F1 (macro)', \n",
    "        'Hamming Loss', 'Training Time (s)'\n",
    "    ])\n",
    "    \n",
    "    i = 0\n",
    "    for model, data in results.items():\n",
    "        metrics = data['metrics']\n",
    "        metrics_df.loc[i] = [\n",
    "            model,\n",
    "            f\"{metrics['accuracy']:.4f}\",\n",
    "            f\"{metrics['precision_micro']:.4f}\",\n",
    "            f\"{metrics['precision_macro']:.4f}\",\n",
    "            f\"{metrics['recall_micro']:.4f}\",\n",
    "            f\"{metrics['recall_macro']:.4f}\",\n",
    "            f\"{metrics['f1_micro']:.4f}\",\n",
    "            f\"{metrics['f1_macro']:.4f}\",\n",
    "            f\"{metrics['hamming_loss']:.4f}\",\n",
    "            f\"{data['training_time']:.2f}\"\n",
    "        ]\n",
    "        i += 1\n",
    "    \n",
    "    print(\"Evaluation Results:\")\n",
    "    print(metrics_df.to_string(index=False))\n",
    "    \n",
    "    # Create plots to visualize the metrics\n",
    "    fig, axes = plt.subplots(2, 3, figsize=(20, 12))\n",
    "    \n",
    "    # Extract model names and convert metrics to float\n",
    "    models = metrics_df['Model']\n",
    "    accuracy = metrics_df['Accuracy'].astype(float)\n",
    "    precision_micro = metrics_df['Precision (micro)'].astype(float)\n",
    "    recall_micro = metrics_df['Recall (micro)'].astype(float)\n",
    "    f1_micro = metrics_df['F1 (micro)'].astype(float)\n",
    "    hamming_loss = metrics_df['Hamming Loss'].astype(float)\n",
    "    training_time = metrics_df['Training Time (s)'].astype(float)\n",
    "    \n",
    "    # Accuracy\n",
    "    axes[0, 0].bar(models, accuracy)\n",
    "    axes[0, 0].set_title('Accuracy')\n",
    "    axes[0, 0].set_ylim([0, 1])\n",
    "    axes[0, 0].tick_params(axis='x', rotation=45)\n",
    "    \n",
    "    # Precision (micro)\n",
    "    axes[0, 1].bar(models, precision_micro)\n",
    "    axes[0, 1].set_title('Precision (micro)')\n",
    "    axes[0, 1].set_ylim([0, 1])\n",
    "    axes[0, 1].tick_params(axis='x', rotation=45)\n",
    "    \n",
    "    # Recall (micro)\n",
    "    axes[0, 2].bar(models, recall_micro)\n",
    "    axes[0, 2].set_title('Recall (micro)')\n",
    "    axes[0, 2].set_ylim([0, 1])\n",
    "    axes[0, 2].tick_params(axis='x', rotation=45)\n",
    "    \n",
    "    # F1 Score (micro)\n",
    "    axes[1, 0].bar(models, f1_micro)\n",
    "    axes[1, 0].set_title('F1 Score (micro)')\n",
    "    axes[1, 0].set_ylim([0, 1])\n",
    "    axes[1, 0].tick_params(axis='x', rotation=45)\n",
    "    \n",
    "    # Hamming Loss (lower is better)\n",
    "    axes[1, 1].bar(models, hamming_loss)\n",
    "    axes[1, 1].set_title('Hamming Loss (lower is better)')\n",
    "    axes[1, 1].tick_params(axis='x', rotation=45)\n",
    "    \n",
    "    # Training Time\n",
    "    axes[1, 2].bar(models, training_time)\n",
    "    axes[1, 2].set_title('Training Time (seconds)')\n",
    "    axes[1, 2].tick_params(axis='x', rotation=45)\n",
    "    \n",
    "    plt.tight_layout()\n",
    "    plt.show()"
   ]
  },
  {
   "cell_type": "code",
   "execution_count": 28,
   "metadata": {},
   "outputs": [
    {
     "name": "stdout",
     "output_type": "stream",
     "text": [
      "Starting Task 0: Classification Algorithms Evaluation\n",
      "Training and evaluating models...\n",
      "Scaling features...\n",
      "Applying PCA to reduce dimensions to 200\n",
      "Explained variance ratio: 0.72\n",
      "Linear SVM - Accuracy: 0.0183, Precision (Micro): 0.7566, Precision (Macro): 0.3211, Recall (Micro): 0.2255, Recall (Macro): 0.1026, F1 (Micro): 0.3475, F1 (Macro): 0.1398, Hamming Loss: 0.0164, Training Time: 10.00 seconds\n",
      "Logistic Regression - Accuracy: 0.0000, Precision (Micro): 0.0704, Precision (Macro): 0.0554, Recall (Micro): 0.8624, Recall (Macro): 0.8201, F1 (Micro): 0.1302, F1 (Macro): 0.0975, Hamming Loss: 0.2230, Training Time: 10.00 seconds\n",
      "Softmax Regression - Accuracy: 0.0000, Precision (Micro): 0.0704, Precision (Macro): 0.0554, Recall (Micro): 0.8624, Recall (Macro): 0.8201, F1 (Micro): 0.1302, F1 (Macro): 0.0975, Hamming Loss: 0.2230, Training Time: 10.00 seconds\n",
      "Decision Tree - Accuracy: 0.0102, Precision (Micro): 0.5300, Precision (Macro): 0.3606, Recall (Micro): 0.2440, Recall (Macro): 0.1702, F1 (Micro): 0.3342, F1 (Macro): 0.2157, Hamming Loss: 0.0188, Training Time: 10.00 seconds\n",
      "Weighted KNN - Accuracy: 0.0607, Precision (Micro): 0.6498, Precision (Macro): 0.5554, Recall (Micro): 0.3616, Recall (Macro): 0.2669, F1 (Micro): 0.4647, F1 (Macro): 0.3362, Hamming Loss: 0.0161, Training Time: 10.00 seconds\n",
      "Training Multilabel Ensemble...\n",
      "(1962, 2048)\n",
      "Predictions: [[[0 0 0 ... 0 0 0]\n",
      "  [0 0 0 ... 0 0 0]\n",
      "  [0 0 0 ... 0 0 0]\n",
      "  ...\n",
      "  [0 0 0 ... 0 0 0]\n",
      "  [0 0 0 ... 0 0 0]\n",
      "  [0 0 0 ... 0 0 0]]\n",
      "\n",
      " [[0 0 0 ... 0 0 0]\n",
      "  [0 0 0 ... 0 0 0]\n",
      "  [0 0 0 ... 0 0 0]\n",
      "  ...\n",
      "  [0 0 0 ... 1 0 1]\n",
      "  [0 0 0 ... 0 0 0]\n",
      "  [0 0 0 ... 1 0 0]]\n",
      "\n",
      " [[0 0 0 ... 0 0 0]\n",
      "  [0 0 0 ... 0 0 0]\n",
      "  [0 0 0 ... 0 0 0]\n",
      "  ...\n",
      "  [0 0 0 ... 1 0 1]\n",
      "  [0 0 0 ... 0 0 0]\n",
      "  [0 0 0 ... 1 0 0]]\n",
      "\n",
      " [[0 0 0 ... 0 0 0]\n",
      "  [0 0 0 ... 0 0 0]\n",
      "  [0 0 0 ... 0 0 0]\n",
      "  ...\n",
      "  [0 0 0 ... 0 0 0]\n",
      "  [0 0 0 ... 0 0 0]\n",
      "  [0 0 0 ... 0 0 0]]\n",
      "\n",
      " [[0 0 0 ... 0 0 0]\n",
      "  [0 0 0 ... 0 0 0]\n",
      "  [0 0 0 ... 0 0 0]\n",
      "  ...\n",
      "  [0 0 0 ... 0 0 0]\n",
      "  [0 0 0 ... 0 0 0]\n",
      "  [0 0 0 ... 0 0 0]]]\n",
      "Predictions shape: (5, 1962, 291)\n",
      "Completed ensemble model in 56.06 seconds.\n",
      "Evaluation Results:\n",
      "              Model Accuracy Precision (micro) Precision (macro) Recall (micro) Recall (macro) F1 (micro) F1 (macro) Hamming Loss Training Time (s)\n",
      "         Linear SVM   0.0183            0.7566            0.3211         0.2255         0.1026     0.3475     0.1398       0.0164             10.00\n",
      "Logistic Regression   0.0000            0.0704            0.0554         0.8624         0.8201     0.1302     0.0975       0.2230             10.00\n",
      " Softmax Regression   0.0000            0.0704            0.0554         0.8624         0.8201     0.1302     0.0975       0.2230             10.00\n",
      "      Decision Tree   0.0102            0.5300            0.3606         0.2440         0.1702     0.3342     0.2157       0.0188             10.00\n",
      "       Weighted KNN   0.0607            0.6498            0.5554         0.3616         0.2669     0.4647     0.3362       0.0161             10.00\n",
      "           Ensemble   0.0291            0.5572            0.4492         0.4347         0.3169     0.4884     0.3476       0.0176             56.06\n"
     ]
    },
    {
     "data": {
      "image/png": "[encoded data removed]",
      "text/plain": [
       "<Figure size 2000x1200 with 6 Axes>"
      ]
     },
     "metadata": {},
     "output_type": "display_data"
    },
    {
     "name": "stdout",
     "output_type": "stream",
     "text": [
      "Results saved to classification_results.csv\n"
     ]
    }
   ],
   "source": [
    "# Main execution\n",
    "print(\"Starting Task 0: Classification Algorithms Evaluation\")\n",
    "\n",
    "# Train and evaluate models\n",
    "print(\"Training and evaluating models...\")\n",
    "results = train_and_evaluate_models(train_features, train_labels, test_features, test_labels)\n",
    "\n",
    "# Display results\n",
    "display_results(results)\n",
    "\n",
    "# Save results to CSV\n",
    "results_df = pd.DataFrame()\n",
    "for model, data in results.items():\n",
    "    metrics = data['metrics']\n",
    "    row = {\n",
    "        'Model': model,\n",
    "        'Accuracy': metrics['accuracy'],\n",
    "        'Precision (micro)': metrics['precision_micro'],\n",
    "        'Precision (macro)': metrics['precision_macro'],\n",
    "        'Recall (micro)': metrics['recall_micro'],\n",
    "        'Recall (macro)': metrics['recall_macro'],\n",
    "        'F1 (micro)': metrics['f1_micro'],\n",
    "        'F1 (macro)': metrics['f1_macro'],\n",
    "        'Hamming Loss': metrics['hamming_loss'],\n",
    "        'Training Time (s)': data['training_time']\n",
    "    }\n",
    "    results_df = pd.concat([results_df, pd.DataFrame([row])])\n",
    "\n",
    "results_df.to_csv('classification_results.csv', index=False)\n",
    "print(\"Results saved to classification_results.csv\")"
   ]
  },
  {
   "cell_type": "code",
   "execution_count": 4,
   "metadata": {},
   "outputs": [],
   "source": [
    "model = joblib.load('logistic_regression.pkl')\n",
    "scaler = joblib.load('scaler.pkl')\n",
    "X_test_scaled = scaler.transform(test_features)\n",
    "y_pred = model.predict(X_test_scaled)\n"
   ]
  },
  {
   "cell_type": "code",
   "execution_count": 30,
   "metadata": {},
   "outputs": [
    {
     "data": {
      "text/plain": [
       "array([0, 0, 0, 0, 0, 0, 0, 0, 1, 0, 0, 0, 0, 0, 0, 0, 0, 1, 1, 0, 1, 0,\n",
       "       0, 0, 0, 0, 0, 0, 0, 0, 0, 0, 0, 1, 1, 0, 1, 0, 0, 0, 0, 0, 1, 0,\n",
       "       1, 0, 1, 0, 0, 1, 1, 0, 0, 1, 0, 0, 1, 0, 1, 1, 0, 1, 0, 0, 0, 0,\n",
       "       0, 1, 0, 0, 0, 0, 1, 1, 0, 0, 0, 0, 0, 1, 1, 0, 0, 0, 0, 1, 0, 1,\n",
       "       0, 0, 0, 1, 0, 0, 1, 0, 0, 0, 0, 1, 1, 1, 0, 1, 1, 0, 0, 0, 0, 1,\n",
       "       0, 0, 0, 0, 1, 1, 1, 0, 0, 0, 0, 0, 0, 0, 1, 0, 0, 1, 0, 0, 1, 0,\n",
       "       0, 0, 0, 0, 0, 0, 0, 0, 0, 0, 0, 1, 0, 1, 1, 0, 0, 1, 0, 1, 0, 0,\n",
       "       0, 0, 0, 0, 0, 1, 0, 0, 1, 0, 0, 0, 1, 0, 0, 1, 0, 1, 0, 1, 0, 1,\n",
       "       0, 0, 0, 1, 0, 0, 0, 0, 1, 0, 1, 0, 0, 1, 0, 0, 0, 0, 0, 0, 1, 0,\n",
       "       0, 0, 0, 1, 0, 1, 0, 0, 0, 0, 0, 0, 0, 1, 0, 1, 0, 0, 1, 0, 0, 0,\n",
       "       0, 0, 1, 0, 0, 0, 0, 0, 1, 0, 0, 0, 1, 1, 0, 0, 1, 0, 1, 0, 1, 0,\n",
       "       1, 1, 1, 1, 0, 1, 0, 1, 0, 1, 0, 0, 1, 0, 0, 0, 0, 0, 0, 0, 0, 0,\n",
       "       0, 0, 0, 0, 0, 1, 0, 0, 1, 0, 0, 0, 0, 0, 0, 1, 0, 0, 0, 0, 0, 0,\n",
       "       0, 1, 0, 0, 0])"
      ]
     },
     "execution_count": 30,
     "metadata": {},
     "output_type": "execute_result"
    }
   ],
   "source": [
    "y_pred[0]"
   ]
  },
  {
   "cell_type": "code",
   "execution_count": 31,
   "metadata": {},
   "outputs": [
    {
     "data": {
      "text/plain": [
       "array([0, 0, 0, 0, 0, 0, 0, 0, 0, 0, 0, 0, 0, 0, 0, 0, 0, 0, 0, 0, 0, 0,\n",
       "       0, 0, 0, 0, 0, 0, 0, 0, 0, 0, 0, 0, 1, 0, 0, 0, 0, 0, 0, 0, 1, 0,\n",
       "       0, 0, 1, 0, 0, 0, 0, 0, 0, 0, 0, 0, 0, 0, 0, 0, 0, 0, 0, 0, 0, 0,\n",
       "       0, 0, 0, 0, 0, 0, 0, 0, 0, 0, 0, 0, 0, 0, 0, 0, 0, 0, 0, 0, 0, 0,\n",
       "       0, 0, 0, 0, 0, 0, 0, 0, 0, 0, 0, 0, 0, 0, 0, 0, 0, 0, 0, 0, 0, 0,\n",
       "       0, 0, 0, 0, 0, 0, 0, 0, 0, 0, 0, 0, 0, 0, 0, 0, 0, 0, 0, 0, 0, 0,\n",
       "       0, 0, 0, 0, 0, 0, 0, 0, 0, 0, 0, 0, 0, 0, 0, 0, 0, 0, 0, 0, 0, 0,\n",
       "       0, 0, 0, 0, 0, 0, 0, 0, 0, 0, 0, 0, 0, 0, 0, 0, 0, 1, 0, 1, 0, 0,\n",
       "       0, 0, 0, 1, 0, 0, 1, 0, 0, 0, 0, 0, 0, 0, 0, 0, 0, 0, 0, 0, 0, 0,\n",
       "       0, 0, 0, 0, 0, 0, 0, 0, 0, 0, 0, 0, 0, 1, 0, 0, 0, 0, 0, 0, 0, 0,\n",
       "       0, 0, 0, 0, 0, 0, 0, 0, 0, 0, 0, 0, 0, 0, 0, 0, 0, 0, 0, 0, 0, 0,\n",
       "       0, 0, 0, 0, 0, 0, 0, 0, 0, 1, 0, 0, 0, 0, 0, 0, 0, 0, 0, 0, 0, 0,\n",
       "       0, 0, 0, 0, 0, 0, 0, 0, 1, 0, 0, 0, 0, 0, 0, 0, 0, 0, 0, 0, 0, 0,\n",
       "       0, 0, 0, 0, 0], dtype=uint8)"
      ]
     },
     "execution_count": 31,
     "metadata": {},
     "output_type": "execute_result"
    }
   ],
   "source": [
    "test_labels[0]"
   ]
  },
  {
   "cell_type": "code",
   "execution_count": 44,
   "metadata": {},
   "outputs": [
    {
     "data": {
      "text/plain": [
       "np.float64(0.9)"
      ]
     },
     "execution_count": 44,
     "metadata": {},
     "output_type": "execute_result"
    }
   ],
   "source": [
    "matching_indices = np.where((y_pred[0] == 1) & (test_labels[0] == 1) & (y_pred[0] == test_labels[0]))[0]\n",
    "matching_indices\n",
    "len(matching_indices)/np.sum(test_labels[0])"
   ]
  },
  {
   "cell_type": "code",
   "execution_count": 42,
   "metadata": {},
   "outputs": [
    {
     "data": {
      "text/plain": [
       "array([212, 236, 272, 284])"
      ]
     },
     "execution_count": 42,
     "metadata": {},
     "output_type": "execute_result"
    }
   ],
   "source": [
    "matching_indices = np.where((y_pred[1] == 1) & (test_labels[1] == 1) & (y_pred[1] == test_labels[1]))[0]\n",
    "matching_indices"
   ]
  },
  {
   "cell_type": "code",
   "execution_count": 43,
   "metadata": {},
   "outputs": [
    {
     "data": {
      "text/plain": [
       "np.float64(0.4444444444444444)"
      ]
     },
     "execution_count": 43,
     "metadata": {},
     "output_type": "execute_result"
    }
   ],
   "source": [
    "len(matching_indices)/np.sum(test_labels[1])"
   ]
  },
  {
   "cell_type": "code",
   "execution_count": 45,
   "metadata": {},
   "outputs": [],
   "source": [
    "model = joblib.load('softmax_regression.pkl')"
   ]
  },
  {
   "cell_type": "code",
   "execution_count": 46,
   "metadata": {},
   "outputs": [],
   "source": [
    "y_pred = model.predict(X_test_scaled)"
   ]
  },
  {
   "cell_type": "code",
   "execution_count": 47,
   "metadata": {},
   "outputs": [
    {
     "data": {
      "text/plain": [
       "array([0, 0, 0, 0, 0, 0, 0, 0, 1, 0, 0, 0, 0, 0, 0, 0, 0, 1, 1, 0, 1, 0,\n",
       "       0, 0, 0, 0, 0, 0, 0, 0, 0, 0, 0, 1, 1, 0, 1, 0, 0, 0, 0, 0, 1, 0,\n",
       "       1, 0, 1, 0, 0, 1, 1, 0, 0, 1, 0, 0, 1, 0, 1, 1, 0, 1, 0, 0, 0, 0,\n",
       "       0, 1, 0, 0, 0, 0, 1, 1, 0, 0, 0, 0, 0, 1, 1, 0, 0, 0, 0, 1, 0, 1,\n",
       "       0, 0, 0, 1, 0, 0, 1, 0, 0, 0, 0, 1, 1, 1, 0, 1, 1, 0, 0, 0, 0, 1,\n",
       "       0, 0, 0, 0, 1, 1, 1, 0, 0, 0, 0, 0, 0, 0, 1, 0, 0, 1, 0, 0, 1, 0,\n",
       "       0, 0, 0, 0, 0, 0, 0, 0, 0, 0, 0, 1, 0, 1, 1, 0, 0, 1, 0, 1, 0, 0,\n",
       "       0, 0, 0, 0, 0, 1, 0, 0, 1, 0, 0, 0, 1, 0, 0, 1, 0, 1, 0, 1, 0, 1,\n",
       "       0, 0, 0, 1, 0, 0, 0, 0, 1, 0, 1, 0, 0, 1, 0, 0, 0, 0, 0, 0, 1, 0,\n",
       "       0, 0, 0, 1, 0, 1, 0, 0, 0, 0, 0, 0, 0, 1, 0, 1, 0, 0, 1, 0, 0, 0,\n",
       "       0, 0, 1, 0, 0, 0, 0, 0, 1, 0, 0, 0, 1, 1, 0, 0, 1, 0, 1, 0, 1, 0,\n",
       "       1, 1, 1, 1, 0, 1, 0, 1, 0, 1, 0, 0, 1, 0, 0, 0, 0, 0, 0, 0, 0, 0,\n",
       "       0, 0, 0, 0, 0, 1, 0, 0, 1, 0, 0, 0, 0, 0, 0, 1, 0, 0, 0, 0, 0, 0,\n",
       "       0, 1, 0, 0, 0])"
      ]
     },
     "execution_count": 47,
     "metadata": {},
     "output_type": "execute_result"
    }
   ],
   "source": [
    "y_pred[0]"
   ]
  },
  {
   "cell_type": "code",
   "execution_count": 48,
   "metadata": {},
   "outputs": [
    {
     "data": {
      "text/plain": [
       "np.float64(0.9)"
      ]
     },
     "execution_count": 48,
     "metadata": {},
     "output_type": "execute_result"
    }
   ],
   "source": [
    "matching_indices = np.where((y_pred[0] == 1) & (test_labels[0] == 1) & (y_pred[0] == test_labels[0]))[0]\n",
    "matching_indices\n",
    "len(matching_indices)/np.sum(test_labels[0])"
   ]
  },
  {
   "cell_type": "code",
   "execution_count": 49,
   "metadata": {},
   "outputs": [
    {
     "data": {
      "text/plain": [
       "np.float64(0.4444444444444444)"
      ]
     },
     "execution_count": 49,
     "metadata": {},
     "output_type": "execute_result"
    }
   ],
   "source": [
    "matching_indices = np.where((y_pred[1] == 1) & (test_labels[1] == 1) & (y_pred[1] == test_labels[1]))[0]\n",
    "matching_indices\n",
    "len(matching_indices)/np.sum(test_labels[1])"
   ]
  },
  {
   "cell_type": "code",
   "execution_count": 50,
   "metadata": {},
   "outputs": [],
   "source": [
    "model = joblib.load('decision_tree.pkl')\n",
    "y_pred = model.predict(X_test_scaled)"
   ]
  },
  {
   "cell_type": "code",
   "execution_count": 51,
   "metadata": {},
   "outputs": [
    {
     "data": {
      "text/plain": [
       "array([0, 0, 0, 0, 0, 0, 0, 0, 0, 0, 0, 0, 0, 0, 0, 0, 0, 0, 0, 0, 0, 0,\n",
       "       0, 0, 0, 0, 0, 0, 0, 0, 0, 0, 0, 0, 1, 0, 0, 0, 0, 0, 0, 0, 0, 0,\n",
       "       0, 0, 0, 0, 0, 1, 0, 0, 0, 0, 0, 0, 0, 0, 0, 1, 0, 0, 0, 0, 0, 0,\n",
       "       0, 0, 0, 0, 0, 0, 0, 0, 0, 0, 0, 0, 0, 0, 0, 0, 0, 0, 0, 0, 0, 0,\n",
       "       0, 0, 0, 0, 0, 0, 0, 0, 0, 0, 0, 0, 0, 0, 0, 0, 0, 0, 0, 0, 0, 0,\n",
       "       0, 0, 0, 0, 0, 0, 0, 0, 0, 0, 0, 0, 0, 0, 0, 0, 0, 0, 0, 0, 0, 0,\n",
       "       0, 0, 0, 0, 0, 0, 0, 0, 0, 0, 0, 0, 0, 0, 0, 0, 0, 0, 0, 0, 0, 0,\n",
       "       0, 0, 0, 0, 0, 0, 0, 0, 0, 0, 0, 0, 0, 0, 0, 0, 0, 0, 0, 0, 0, 0,\n",
       "       0, 0, 0, 1, 0, 0, 0, 0, 0, 0, 0, 0, 0, 0, 0, 0, 0, 0, 0, 0, 0, 0,\n",
       "       0, 0, 0, 0, 0, 0, 0, 0, 0, 0, 0, 0, 0, 0, 0, 0, 0, 0, 0, 0, 0, 0,\n",
       "       0, 0, 0, 0, 0, 0, 0, 0, 0, 0, 0, 0, 0, 0, 0, 0, 0, 0, 0, 0, 0, 0,\n",
       "       0, 0, 0, 0, 0, 0, 0, 0, 0, 0, 0, 0, 0, 0, 0, 0, 0, 0, 0, 0, 0, 0,\n",
       "       0, 0, 0, 0, 0, 0, 0, 0, 1, 0, 0, 0, 0, 0, 0, 0, 0, 0, 0, 0, 0, 0,\n",
       "       0, 0, 0, 0, 0])"
      ]
     },
     "execution_count": 51,
     "metadata": {},
     "output_type": "execute_result"
    }
   ],
   "source": [
    "y_pred[0]"
   ]
  },
  {
   "cell_type": "code",
   "execution_count": 52,
   "metadata": {},
   "outputs": [
    {
     "data": {
      "text/plain": [
       "np.float64(0.3)"
      ]
     },
     "execution_count": 52,
     "metadata": {},
     "output_type": "execute_result"
    }
   ],
   "source": [
    "matching_indices = np.where((y_pred[0] == 1) & (test_labels[0] == 1) & (y_pred[0] == test_labels[0]))[0]\n",
    "matching_indices\n",
    "len(matching_indices)/np.sum(test_labels[0])"
   ]
  },
  {
   "cell_type": "code",
   "execution_count": 53,
   "metadata": {},
   "outputs": [
    {
     "data": {
      "text/plain": [
       "np.float64(0.1111111111111111)"
      ]
     },
     "execution_count": 53,
     "metadata": {},
     "output_type": "execute_result"
    }
   ],
   "source": [
    "matching_indices = np.where((y_pred[1] == 1) & (test_labels[1] == 1) & (y_pred[1] == test_labels[1]))[0]\n",
    "matching_indices\n",
    "len(matching_indices)/np.sum(test_labels[1])"
   ]
  },
  {
   "cell_type": "code",
   "execution_count": 5,
   "metadata": {},
   "outputs": [],
   "source": [
    "model = joblib.load('weighted_knn.pkl')\n",
    "pca = joblib.load('pca_model.pkl')\n",
    "X_test_reduced = pca.transform(X_test_scaled)\n"
   ]
  },
  {
   "cell_type": "code",
   "execution_count": 6,
   "metadata": {},
   "outputs": [],
   "source": [
    "y_pred = model.predict(X_test_reduced)"
   ]
  },
  {
   "cell_type": "code",
   "execution_count": 7,
   "metadata": {},
   "outputs": [
    {
     "data": {
      "text/plain": [
       "array([0, 0, 0, 0, 0, 0, 0, 0, 0, 0, 0, 0, 0, 0, 0, 0, 0, 0, 0, 0, 0, 0,\n",
       "       0, 0, 0, 0, 0, 0, 0, 0, 0, 0, 0, 0, 1, 0, 0, 0, 0, 0, 0, 0, 0, 0,\n",
       "       0, 0, 0, 0, 0, 0, 0, 0, 0, 0, 0, 0, 0, 0, 0, 0, 0, 0, 0, 0, 0, 0,\n",
       "       0, 0, 0, 0, 0, 0, 0, 0, 0, 0, 0, 0, 0, 0, 0, 0, 0, 0, 0, 0, 0, 0,\n",
       "       0, 0, 0, 0, 0, 0, 0, 0, 0, 0, 0, 0, 0, 0, 0, 0, 0, 0, 0, 0, 0, 0,\n",
       "       0, 0, 0, 0, 0, 0, 0, 0, 0, 0, 0, 0, 0, 0, 0, 0, 0, 0, 0, 0, 0, 0,\n",
       "       0, 0, 0, 0, 0, 0, 0, 0, 0, 0, 0, 0, 0, 0, 0, 0, 0, 0, 0, 0, 0, 0,\n",
       "       0, 0, 0, 0, 0, 0, 0, 0, 0, 0, 0, 0, 0, 0, 0, 0, 0, 0, 0, 0, 0, 0,\n",
       "       0, 0, 0, 1, 0, 0, 0, 0, 0, 0, 0, 0, 0, 0, 0, 0, 0, 0, 0, 0, 0, 0,\n",
       "       0, 0, 0, 0, 0, 0, 0, 0, 0, 0, 0, 0, 0, 0, 0, 0, 0, 0, 0, 0, 0, 0,\n",
       "       0, 0, 0, 0, 0, 0, 0, 0, 0, 0, 0, 0, 0, 0, 0, 0, 1, 0, 0, 0, 0, 0,\n",
       "       0, 0, 0, 0, 0, 0, 0, 0, 0, 1, 0, 0, 0, 0, 0, 0, 0, 0, 0, 0, 0, 0,\n",
       "       0, 0, 0, 0, 0, 0, 0, 0, 0, 0, 0, 0, 0, 0, 0, 0, 0, 0, 0, 0, 0, 0,\n",
       "       0, 0, 0, 0, 0])"
      ]
     },
     "execution_count": 7,
     "metadata": {},
     "output_type": "execute_result"
    }
   ],
   "source": [
    "y_pred[0]"
   ]
  },
  {
   "cell_type": "code",
   "execution_count": 8,
   "metadata": {},
   "outputs": [
    {
     "data": {
      "text/plain": [
       "np.float64(0.3)"
      ]
     },
     "execution_count": 8,
     "metadata": {},
     "output_type": "execute_result"
    }
   ],
   "source": [
    "matching_indices = np.where((y_pred[0] == 1) & (test_labels[0] == 1) & (y_pred[0] == test_labels[0]))[0]\n",
    "matching_indices\n",
    "len(matching_indices)/np.sum(test_labels[0])"
   ]
  },
  {
   "cell_type": "code",
   "execution_count": 9,
   "metadata": {},
   "outputs": [
    {
     "data": {
      "text/plain": [
       "np.float64(0.1111111111111111)"
      ]
     },
     "execution_count": 9,
     "metadata": {},
     "output_type": "execute_result"
    }
   ],
   "source": [
    "matching_indices = np.where((y_pred[1] == 1) & (test_labels[1] == 1) & (y_pred[1] == test_labels[1]))[0]\n",
    "matching_indices\n",
    "len(matching_indices)/np.sum(test_labels[1])"
   ]
  },
  {
   "cell_type": "code",
   "execution_count": 10,
   "metadata": {},
   "outputs": [],
   "source": [
    "model = joblib.load('linear_svm.pkl')\n",
    "y_pred = model.predict(X_test_scaled)"
   ]
  },
  {
   "cell_type": "code",
   "execution_count": 11,
   "metadata": {},
   "outputs": [
    {
     "data": {
      "text/plain": [
       "array([0, 0, 0, 0, 0, 0, 0, 0, 0, 0, 0, 0, 0, 0, 0, 0, 0, 0, 0, 0, 0, 0,\n",
       "       0, 0, 0, 0, 0, 0, 0, 0, 0, 0, 0, 0, 1, 0, 0, 0, 0, 0, 0, 0, 0, 0,\n",
       "       0, 0, 0, 0, 0, 0, 0, 0, 0, 0, 0, 0, 0, 0, 0, 0, 0, 0, 0, 0, 0, 0,\n",
       "       0, 0, 0, 0, 0, 0, 0, 0, 0, 0, 0, 0, 0, 0, 0, 0, 0, 0, 0, 0, 0, 0,\n",
       "       0, 0, 0, 0, 0, 0, 0, 0, 0, 0, 0, 0, 0, 0, 0, 0, 0, 0, 0, 0, 0, 0,\n",
       "       0, 0, 0, 0, 0, 0, 0, 0, 0, 0, 0, 0, 0, 0, 0, 0, 0, 0, 0, 0, 0, 0,\n",
       "       0, 0, 0, 0, 0, 0, 0, 0, 0, 0, 0, 0, 0, 0, 0, 0, 0, 0, 0, 0, 0, 0,\n",
       "       0, 0, 0, 0, 0, 0, 0, 0, 0, 0, 0, 0, 0, 0, 0, 0, 0, 0, 0, 0, 0, 0,\n",
       "       0, 0, 0, 1, 0, 0, 0, 0, 0, 0, 0, 0, 0, 0, 0, 0, 0, 0, 0, 0, 0, 0,\n",
       "       0, 0, 0, 0, 0, 0, 0, 0, 0, 0, 0, 0, 0, 0, 0, 0, 0, 0, 0, 0, 0, 0,\n",
       "       0, 0, 0, 0, 0, 0, 0, 0, 0, 0, 0, 0, 0, 0, 0, 0, 1, 0, 0, 0, 0, 0,\n",
       "       0, 0, 0, 0, 0, 0, 0, 0, 0, 0, 0, 0, 0, 0, 0, 0, 0, 0, 0, 0, 0, 0,\n",
       "       0, 0, 0, 0, 0, 0, 0, 0, 1, 0, 0, 0, 0, 0, 0, 0, 0, 0, 0, 0, 0, 0,\n",
       "       0, 0, 0, 0, 0])"
      ]
     },
     "execution_count": 11,
     "metadata": {},
     "output_type": "execute_result"
    }
   ],
   "source": [
    "y_pred[0]"
   ]
  },
  {
   "cell_type": "code",
   "execution_count": 12,
   "metadata": {},
   "outputs": [
    {
     "data": {
      "text/plain": [
       "np.float64(0.3)"
      ]
     },
     "execution_count": 12,
     "metadata": {},
     "output_type": "execute_result"
    }
   ],
   "source": [
    "matching_indices = np.where((y_pred[0] == 1) & (test_labels[0] == 1) & (y_pred[0] == test_labels[0]))[0]\n",
    "matching_indices\n",
    "len(matching_indices)/np.sum(test_labels[0])"
   ]
  },
  {
   "cell_type": "code",
   "execution_count": 13,
   "metadata": {},
   "outputs": [
    {
     "data": {
      "text/plain": [
       "np.float64(0.2222222222222222)"
      ]
     },
     "execution_count": 13,
     "metadata": {},
     "output_type": "execute_result"
    }
   ],
   "source": [
    "matching_indices = np.where((y_pred[1] == 1) & (test_labels[1] == 1) & (y_pred[1] == test_labels[1]))[0]\n",
    "matching_indices\n",
    "len(matching_indices)/np.sum(test_labels[1])"
   ]
  },
  {
   "cell_type": "code",
   "execution_count": null,
   "metadata": {},
   "outputs": [],
   "source": [
    "def calculate_precision_per_sample(all_predictions, true_labels, threshold=0.5):\n",
    "    \"\"\"\n",
    "    Calculate precision-based accuracy score using majority voting.\n",
    "    \n",
    "    Parameters:\n",
    "    -----------\n",
    "    all_predictions : list of arrays\n",
    "        List of model predictions (each array of shape (n_samples, n_labels))\n",
    "    true_labels : array-like\n",
    "        Ground truth labels (shape (n_samples, n_labels))\n",
    "    threshold : float, default=0.5\n",
    "        Proportion of models required to consider a label as predicted\n",
    "        \n",
    "    Returns:\n",
    "    --------\n",
    "    precision_scores : array\n",
    "        Precision score for each sample (TP / actual positives)\n",
    "    ensemble_predictions : array\n",
    "        Ensemble predictions after majority voting\n",
    "    support : array\n",
    "        Number of actual positive labels for each sample\n",
    "    \"\"\"\n",
    "    # Convert predictions to numpy array if not already\n",
    "    all_predictions = np.array(all_predictions)\n",
    "    \n",
    "    # Stack predictions for easier processing\n",
    "    stacked_preds = np.stack(all_predictions)\n",
    "    \n",
    "    # Get number of models\n",
    "    n_models = stacked_preds.shape[0]\n",
    "    \n",
    "    # Calculate threshold count (number of models needed to vote for a label)\n",
    "    threshold_count = int(n_models * threshold)\n",
    "    \n",
    "    # Apply majority voting\n",
    "    ensemble_pred = np.sum(stacked_preds, axis=0) >= threshold_count\n",
    "    ensemble_pred = ensemble_pred.astype(int)\n",
    "    \n",
    "    # Calculate precision per sample\n",
    "    precision_scores = []\n",
    "    support = []\n",
    "    \n",
    "    for i in range(true_labels.shape[0]):\n",
    "        # Find matching indices (true positives)\n",
    "        matching = np.where((ensemble_pred[i] == 1) & (true_labels[i] == 1))[0]\n",
    "        \n",
    "        # Count actual positives\n",
    "        actual_positives = np.sum(true_labels[i])\n",
    "        support.append(actual_positives)\n",
    "        \n",
    "        # Calculate precision (TP / actual positives)\n",
    "        if actual_positives > 0:\n",
    "            precision = len(matching) / actual_positives\n",
    "        else:\n",
    "            precision = 1.0 if np.sum(ensemble_pred[i]) == 0 else 0.0\n",
    "            \n",
    "        precision_scores.append(precision)\n",
    "    \n",
    "    return np.array(precision_scores), ensemble_pred, np.array(support)\n",
    "\n",
    "def evaluate_ensemble_precision(trained_models, X_test, y_test, pca=None, threshold=0.5):\n",
    "    \"\"\"\n",
    "    Evaluate ensemble precision using majority voting across all models.\n",
    "    \n",
    "    Parameters:\n",
    "    -----------\n",
    "    trained_models : dict\n",
    "        Dictionary of trained models\n",
    "    X_test : array-like\n",
    "        Test features\n",
    "    y_test : array-like\n",
    "        Test labels\n",
    "    pca : object, optional\n",
    "        PCA model for KNN\n",
    "    threshold : float, default=0.5\n",
    "        Threshold for majority voting\n",
    "        \n",
    "    Returns:\n",
    "    --------\n",
    "    results : dict\n",
    "        Dictionary containing evaluation results\n",
    "    \"\"\"\n",
    "    # Get predictions from all models\n",
    "    all_predictions = []\n",
    "    model_names = []\n",
    "    \n",
    "    print(\"Getting predictions from all models...\")\n",
    "    for name, model in trained_models.items():\n",
    "        try:\n",
    "            if name == 'Weighted KNN' and pca is not None:\n",
    "                X_test_reduced = pca.transform(X_test)\n",
    "                y_pred = model.predict(X_test_reduced)\n",
    "            else:\n",
    "                y_pred = model.predict(X_test)\n",
    "                \n",
    "            all_predictions.append(y_pred)\n",
    "            model_names.append(name)\n",
    "            print(f\"  Got predictions from {name}\")\n",
    "        except Exception as e:\n",
    "            print(f\"  Error getting predictions from {name}: {e}\")\n",
    "    \n",
    "    # Calculate precision scores for each sample\n",
    "    precision_scores, ensemble_pred, support = calculate_precision_per_sample(\n",
    "        all_predictions, y_test, threshold\n",
    "    )\n",
    "    \n",
    "    # Calculate overall metrics\n",
    "    mean_precision = np.mean(precision_scores)\n",
    "    weighted_precision = np.sum(precision_scores * support) / np.sum(support)\n",
    "    \n",
    "    # Calculate standard metrics\n",
    "    accuracy = accuracy_score(y_test, ensemble_pred)\n",
    "    precision_micro = precision_score(y_test, ensemble_pred, average='micro')\n",
    "    precision_macro = precision_score(y_test, ensemble_pred, average='macro')\n",
    "    recall_micro = recall_score(y_test, ensemble_pred, average='micro')\n",
    "    recall_macro = recall_score(y_test, ensemble_pred, average='macro')\n",
    "    f1_micro = f1_score(y_test, ensemble_pred, average='micro')\n",
    "    f1_macro = f1_score(y_test, ensemble_pred, average='macro')\n",
    "    hamming = hamming_loss(y_test, ensemble_pred)\n",
    "    \n",
    "    # Return results\n",
    "    results = {\n",
    "        'ensemble_precision_mean': mean_precision,\n",
    "        'ensemble_precision_weighted': weighted_precision,\n",
    "        'sample_precision_scores': precision_scores,\n",
    "        'ensemble_predictions': ensemble_pred,\n",
    "        'standard_metrics': {\n",
    "            'accuracy': accuracy,\n",
    "            'precision_micro': precision_micro,\n",
    "            'precision_macro': precision_macro,\n",
    "            'recall_micro': recall_micro,\n",
    "            'recall_macro': recall_macro,\n",
    "            'f1_micro': f1_micro,\n",
    "            'f1_macro': f1_macro,\n",
    "            'hamming_loss': hamming\n",
    "        },\n",
    "        'models_used': model_names,\n",
    "        'voting_threshold': threshold\n",
    "    }\n",
    "    \n",
    "    return results"
   ]
  }
 ],
 "metadata": {
  "kernelspec": {
   "display_name": "Python 3 (ipykernel)",
   "language": "python",
   "name": "python3"
  },
  "language_info": {
   "codemirror_mode": {
    "name": "ipython",
    "version": 3
   },
   "file_extension": ".py",
   "mimetype": "text/x-python",
   "name": "python",
   "nbconvert_exporter": "python",
   "pygments_lexer": "ipython3",
   "version": "3.12.3"
  }
 },
 "nbformat": 4,
 "nbformat_minor": 2
}
