{
 "cells": [
  {
   "cell_type": "code",
   "execution_count": 1,
   "metadata": {},
   "outputs": [],
   "source": [
    "from sklearn.datasets import load_svmlight_file\n",
    "import numpy as np\n",
    "import subprocess\n",
    "import os\n",
    "import pandas as pd\n",
    "import matplotlib.pyplot as plt\n"
   ]
  },
  {
   "cell_type": "code",
   "execution_count": 2,
   "metadata": {},
   "outputs": [
    {
     "name": "stdout",
     "output_type": "stream",
     "text": [
      "Current Working Directory: /home/ykapil897/DAI/assign_1\n"
     ]
    }
   ],
   "source": [
    "from pathlib import Path\n",
    "\n",
    "# Get the current working directory\n",
    "current_dir = Path.cwd()\n",
    "\n",
    "# Print it to verify\n",
    "print(\"Current Working Directory:\", current_dir)"
   ]
  },
  {
   "cell_type": "code",
   "execution_count": 3,
   "metadata": {},
   "outputs": [],
   "source": [
    "X_train, y_train = load_svmlight_file(\"AnnexML/iaprtc12_train.txt\", multilabel=True)\n",
    "X_test, y_test = load_svmlight_file(\"AnnexML/iaprtc12_test.txt\", multilabel=True)\n"
   ]
  },
  {
   "cell_type": "code",
   "execution_count": 4,
   "metadata": {},
   "outputs": [],
   "source": [
    "X_train_dense = X_train.toarray()\n",
    "X_test_dense = X_test.toarray()"
   ]
  },
  {
   "cell_type": "code",
   "execution_count": 5,
   "metadata": {},
   "outputs": [
    {
     "data": {
      "text/plain": [
       "(17665, 2048)"
      ]
     },
     "execution_count": 5,
     "metadata": {},
     "output_type": "execute_result"
    }
   ],
   "source": [
    "X_train_dense.shape"
   ]
  },
  {
   "cell_type": "code",
   "execution_count": 6,
   "metadata": {},
   "outputs": [],
   "source": [
    "def save_instance_as_svm(instance, file_path, label=None):\n",
    "    \"\"\"\n",
    "    Save a single data instance in SVM format.\n",
    "    \n",
    "    instance: NumPy array of shape (features,)\n",
    "    file_path: Path to save the file\n",
    "    label: Optional, set to 0 (dummy label) if not provided\n",
    "    \"\"\"\n",
    "    with open(file_path, \"w\") as f:\n",
    "        features = \" \".join([f\"{i+1}:{instance[i]}\" for i in range(len(instance))])\n",
    "        f.write(f\"{label if label is not None else 0} {features}\\n\")  # SVM format: <label> index:value ...\n"
   ]
  },
  {
   "cell_type": "code",
   "execution_count": 7,
   "metadata": {},
   "outputs": [],
   "source": [
    "\n",
    "def annexml_predict_svm(input_file, output_file=\"interpolated_output.txt\"):\n",
    "    \"\"\"\n",
    "    Run AnnexML prediction using subprocess.\n",
    "    \n",
    "    input_file: Path to the SVM-formatted input file\n",
    "    output_file: Path where predictions will be saved\n",
    "    \"\"\"\n",
    "    subprocess.run([\"AnnexML/src/annexml\", \"predict\", \"AnnexML/annexml-example.json\", f\"predict_file={input_file}\", f\"result_file={output_file}\", \"model_file=AnnexML/iaprtc12_model.bin\"], check=True)\n",
    "    \n",
    "    # Create an array of size 291 filled with zeros\n",
    "    num_classes = 291\n",
    "    predictions = np.zeros(num_classes)\n",
    "\n",
    "    # Read predictions\n",
    "    with open(output_file, \"r\") as f:\n",
    "        prediction_str = f.read().strip()  # Assuming AnnexML outputs probabilities in a readable format\n",
    "        \n",
    "        # Extract content after the first tab character (\\t), if present\n",
    "        if \"\\t\" in prediction_str:\n",
    "            prediction_str = prediction_str.split(\"\\t\", 1)[1]  # Take everything after the first tab\n",
    "\n",
    "        # Parse the string and fill in the array\n",
    "        for pair in prediction_str.split(\",\"):\n",
    "            index, value = map(float, pair.split(\":\"))\n",
    "            predictions[int(index)] = value\n",
    "\n",
    "        # Normalize to make it a probability distribution\n",
    "        predictions /= np.sum(predictions)\n",
    "    return predictions\n"
   ]
  },
  {
   "cell_type": "code",
   "execution_count": 8,
   "metadata": {},
   "outputs": [],
   "source": [
    "def integrated_gradients_annexml(sample_instance, baseline=None, steps=50, delta=1e-3):\n",
    "    \"\"\"\n",
    "    Approximate Integrated Gradients for AnnexML.\n",
    "    \n",
    "    sample_instance: NumPy array (1D)\n",
    "    baseline: Baseline input (default: zero vector)\n",
    "    steps: Number of steps for approximation\n",
    "    delta: Perturbation step size\n",
    "    \"\"\"\n",
    "    global example_index\n",
    "    if baseline is None:\n",
    "        baseline = np.zeros_like(sample_instance)  # Default baseline: zero vector\n",
    "    \n",
    "    # Generate interpolated samples along the path from baseline to input\n",
    "    interpolated_inputs = [baseline + (float(i) / steps) * (sample_instance - baseline) for i in range(steps + 1)]\n",
    "    \n",
    "    # Initialize attributions matrix (2048, 291)\n",
    "    attributions = np.zeros((2048, 291))\n",
    "\n",
    "    # Initialize DataFrame for storing predictions\n",
    "    num_classes = 291\n",
    "    df_columns = [str(i) for i in range(num_classes)]  # Column names as \"0\" to \"290\"\n",
    "    predictions_df = pd.DataFrame(columns=df_columns)\n",
    "\n",
    "    # First prediction (baseline)\n",
    "    x_i = interpolated_inputs[0]\n",
    "    save_instance_as_svm(x_i, \"I_Gradients/interpolated_xi.txt\")\n",
    "    pred_xi = annexml_predict_svm(\"I_Gradients/interpolated_xi.txt\", \"I_Gradients/interpolated_output_xi.txt\")\n",
    "    \n",
    "    # Convert to NumPy array and reshape to (1, 291) for DataFrame compatibility\n",
    "    pred_xi = np.array(pred_xi).reshape(1, -1)\n",
    "    predictions_df = pd.concat([predictions_df, pd.DataFrame(pred_xi, columns=df_columns)], ignore_index=True)\n",
    "\n",
    "    # Iterating over steps\n",
    "    for i in range(1, steps):\n",
    "        x_next = interpolated_inputs[i]\n",
    "        \n",
    "        # Save instances in SVM format for AnnexML\n",
    "        save_instance_as_svm(x_next, \"I_Gradients/interpolated_xi.txt\")\n",
    "\n",
    "        # Get predictions using AnnexML subprocess\n",
    "        pred_xnext = annexml_predict_svm(\"I_Gradients/interpolated_xi.txt\", \"I_Gradients/interpolated_output_xi.txt\")\n",
    "\n",
    "        # Convert to NumPy array and reshape\n",
    "        pred_xnext = np.array(pred_xnext).reshape(1, -1)\n",
    "        \n",
    "        # Append to DataFrame\n",
    "        predictions_df = pd.concat([predictions_df, pd.DataFrame(pred_xnext, columns=df_columns)], ignore_index=True)\n",
    "\n",
    "        for label in range(291):\n",
    "            attributions[:, label] += (pred_xnext[0, label] - pred_xi[0, label]) / (x_next - x_i + delta)\n",
    "        \n",
    "        pred_xi = pred_xnext\n",
    "        x_i = x_next\n",
    "\n",
    "        # Count nonzero attributions\n",
    "        nonzero_count = np.count_nonzero(attributions)\n",
    "\n",
    "        # Print the count of nonzero values\n",
    "        print(f\"Step {i}: Nonzero attributions count = {nonzero_count}\")\n",
    "\n",
    "    # Save DataFrame to CSV\n",
    "    predictions_df.to_csv(f\"I_Gradients/predictions_{example_index}.csv\", index=False)\n",
    "    \n",
    "    example_index += 1  # Increment the example index for saving files\n",
    "    # Aggregate attributions\n",
    "    integrated_gradients = (sample_instance[:, np.newaxis] - baseline[:, np.newaxis]) * attributions / steps\n",
    "    return integrated_gradients\n"
   ]
  },
  {
   "cell_type": "code",
   "execution_count": 15,
   "metadata": {},
   "outputs": [
    {
     "name": "stderr",
     "output_type": "stream",
     "text": [
      "Loaded model from AnnexML/iaprtc12_model.bin\n",
      "Total: 114.37 MB => labels: 0.55 MB, partitioning: 0.49 MB, embedding: 113.33 MB (matrix: 21.47 MB, embed: 90.44 MB) \n",
      "num_edge: 10, search_eps: 0.500000\n",
      "Build SearchIndex done! (16.32 sec, 23.33 MB)\n",
      "Load Predict Data: #data=1 #feature=2048 #label=0\n",
      "Done!\n",
      "Elapsed: 0.0247 sec, 24.6549 msec/sample (* 12 threads = 295.8584 msec/sample)\n",
      "Partitioning: 0.0024 sec, Embedding: 0.0219 sec, Aggregating: 0.0003 sec\n",
      "/tmp/ipykernel_17962/2613537384.py:32: FutureWarning: The behavior of DataFrame concatenation with empty or all-NA entries is deprecated. In a future version, this will no longer exclude empty or all-NA columns when determining the result dtypes. To retain the old behavior, exclude the relevant entries before the concat operation.\n",
      "  predictions_df = pd.concat([predictions_df, pd.DataFrame(pred_xi, columns=df_columns)], ignore_index=True)\n",
      "Loaded model from AnnexML/iaprtc12_model.bin\n",
      "Total: 114.37 MB => labels: 0.55 MB, partitioning: 0.49 MB, embedding: 113.33 MB (matrix: 21.47 MB, embed: 90.44 MB) \n",
      "num_edge: 10, search_eps: 0.500000\n",
      "Build SearchIndex done! (17.07 sec, 23.33 MB)\n",
      "Load Predict Data: #data=1 #feature=2048 #label=0\n",
      "Done!\n",
      "Elapsed: 0.0091 sec, 9.0742 msec/sample (* 12 threads = 108.8905 msec/sample)\n",
      "Partitioning: 0.0038 sec, Embedding: 0.0052 sec, Aggregating: 0.0001 sec\n"
     ]
    },
    {
     "name": "stdout",
     "output_type": "stream",
     "text": [
      "Step 1: Nonzero attributions count = 36864\n"
     ]
    },
    {
     "name": "stderr",
     "output_type": "stream",
     "text": [
      "Loaded model from AnnexML/iaprtc12_model.bin\n",
      "Total: 114.37 MB => labels: 0.55 MB, partitioning: 0.49 MB, embedding: 113.33 MB (matrix: 21.47 MB, embed: 90.44 MB) \n",
      "num_edge: 10, search_eps: 0.500000\n",
      "Build SearchIndex done! (16.51 sec, 23.33 MB)\n",
      "Load Predict Data: #data=1 #feature=2048 #label=0\n",
      "Done!\n",
      "Elapsed: 0.0073 sec, 7.2830 msec/sample (* 12 threads = 87.3957 msec/sample)\n",
      "Partitioning: 0.0023 sec, Embedding: 0.0047 sec, Aggregating: 0.0002 sec\n"
     ]
    },
    {
     "name": "stdout",
     "output_type": "stream",
     "text": [
      "Step 2: Nonzero attributions count = 36864\n"
     ]
    },
    {
     "name": "stderr",
     "output_type": "stream",
     "text": [
      "Loaded model from AnnexML/iaprtc12_model.bin\n",
      "Total: 114.37 MB => labels: 0.55 MB, partitioning: 0.49 MB, embedding: 113.33 MB (matrix: 21.47 MB, embed: 90.44 MB) \n",
      "num_edge: 10, search_eps: 0.500000\n",
      "Build SearchIndex done! (15.28 sec, 23.33 MB)\n",
      "Load Predict Data: #data=1 #feature=2048 #label=0\n",
      "Done!\n",
      "Elapsed: 0.0084 sec, 8.3549 msec/sample (* 12 threads = 100.2588 msec/sample)\n",
      "Partitioning: 0.0029 sec, Embedding: 0.0047 sec, Aggregating: 0.0007 sec\n"
     ]
    },
    {
     "name": "stdout",
     "output_type": "stream",
     "text": [
      "Step 3: Nonzero attributions count = 36864\n"
     ]
    },
    {
     "name": "stderr",
     "output_type": "stream",
     "text": [
      "Loaded model from AnnexML/iaprtc12_model.bin\n",
      "Total: 114.37 MB => labels: 0.55 MB, partitioning: 0.49 MB, embedding: 113.33 MB (matrix: 21.47 MB, embed: 90.44 MB) \n",
      "num_edge: 10, search_eps: 0.500000\n",
      "Build SearchIndex done! (15.12 sec, 23.33 MB)\n",
      "Load Predict Data: #data=1 #feature=2048 #label=0\n",
      "Done!\n",
      "Elapsed: 0.0092 sec, 9.1679 msec/sample (* 12 threads = 110.0149 msec/sample)\n",
      "Partitioning: 0.0027 sec, Embedding: 0.0062 sec, Aggregating: 0.0003 sec\n"
     ]
    },
    {
     "name": "stdout",
     "output_type": "stream",
     "text": [
      "Step 4: Nonzero attributions count = 36864\n"
     ]
    },
    {
     "name": "stderr",
     "output_type": "stream",
     "text": [
      "Loaded model from AnnexML/iaprtc12_model.bin\n",
      "Total: 114.37 MB => labels: 0.55 MB, partitioning: 0.49 MB, embedding: 113.33 MB (matrix: 21.47 MB, embed: 90.44 MB) \n",
      "num_edge: 10, search_eps: 0.500000\n",
      "Build SearchIndex done! (15.48 sec, 23.33 MB)\n",
      "Load Predict Data: #data=1 #feature=2048 #label=0\n",
      "Done!\n",
      "Elapsed: 0.0091 sec, 9.0940 msec/sample (* 12 threads = 109.1280 msec/sample)\n",
      "Partitioning: 0.0029 sec, Embedding: 0.0058 sec, Aggregating: 0.0003 sec\n"
     ]
    },
    {
     "name": "stdout",
     "output_type": "stream",
     "text": [
      "Step 5: Nonzero attributions count = 36864\n"
     ]
    },
    {
     "name": "stderr",
     "output_type": "stream",
     "text": [
      "Loaded model from AnnexML/iaprtc12_model.bin\n",
      "Total: 114.37 MB => labels: 0.55 MB, partitioning: 0.49 MB, embedding: 113.33 MB (matrix: 21.47 MB, embed: 90.44 MB) \n",
      "num_edge: 10, search_eps: 0.500000\n",
      "Build SearchIndex done! (15.20 sec, 23.33 MB)\n",
      "Load Predict Data: #data=1 #feature=2048 #label=0\n",
      "Done!\n",
      "Elapsed: 0.0086 sec, 8.5900 msec/sample (* 12 threads = 103.0798 msec/sample)\n",
      "Partitioning: 0.0022 sec, Embedding: 0.0056 sec, Aggregating: 0.0007 sec\n"
     ]
    },
    {
     "name": "stdout",
     "output_type": "stream",
     "text": [
      "Step 6: Nonzero attributions count = 36864\n"
     ]
    },
    {
     "name": "stderr",
     "output_type": "stream",
     "text": [
      "Loaded model from AnnexML/iaprtc12_model.bin\n",
      "Total: 114.37 MB => labels: 0.55 MB, partitioning: 0.49 MB, embedding: 113.33 MB (matrix: 21.47 MB, embed: 90.44 MB) \n",
      "num_edge: 10, search_eps: 0.500000\n",
      "Build SearchIndex done! (15.79 sec, 23.33 MB)\n",
      "Load Predict Data: #data=1 #feature=2048 #label=0\n",
      "Done!\n",
      "Elapsed: 0.0102 sec, 10.1981 msec/sample (* 12 threads = 122.3774 msec/sample)\n",
      "Partitioning: 0.0028 sec, Embedding: 0.0071 sec, Aggregating: 0.0003 sec\n"
     ]
    },
    {
     "name": "stdout",
     "output_type": "stream",
     "text": [
      "Step 7: Nonzero attributions count = 36864\n"
     ]
    },
    {
     "name": "stderr",
     "output_type": "stream",
     "text": [
      "Loaded model from AnnexML/iaprtc12_model.bin\n",
      "Total: 114.37 MB => labels: 0.55 MB, partitioning: 0.49 MB, embedding: 113.33 MB (matrix: 21.47 MB, embed: 90.44 MB) \n",
      "num_edge: 10, search_eps: 0.500000\n",
      "Build SearchIndex done! (17.37 sec, 23.33 MB)\n",
      "Load Predict Data: #data=1 #feature=2048 #label=0\n",
      "Done!\n",
      "Elapsed: 0.0079 sec, 7.8979 msec/sample (* 12 threads = 94.7742 msec/sample)\n",
      "Partitioning: 0.0022 sec, Embedding: 0.0055 sec, Aggregating: 0.0002 sec\n"
     ]
    },
    {
     "name": "stdout",
     "output_type": "stream",
     "text": [
      "Step 8: Nonzero attributions count = 36864\n"
     ]
    },
    {
     "name": "stderr",
     "output_type": "stream",
     "text": [
      "Loaded model from AnnexML/iaprtc12_model.bin\n",
      "Total: 114.37 MB => labels: 0.55 MB, partitioning: 0.49 MB, embedding: 113.33 MB (matrix: 21.47 MB, embed: 90.44 MB) \n",
      "num_edge: 10, search_eps: 0.500000\n",
      "Build SearchIndex done! (16.85 sec, 23.33 MB)\n",
      "Load Predict Data: #data=1 #feature=2048 #label=0\n",
      "Done!\n",
      "Elapsed: 0.0069 sec, 6.8781 msec/sample (* 12 threads = 82.5377 msec/sample)\n",
      "Partitioning: 0.0025 sec, Embedding: 0.0042 sec, Aggregating: 0.0002 sec\n"
     ]
    },
    {
     "name": "stdout",
     "output_type": "stream",
     "text": [
      "Step 9: Nonzero attributions count = 36864\n"
     ]
    },
    {
     "name": "stderr",
     "output_type": "stream",
     "text": [
      "Loaded model from AnnexML/iaprtc12_model.bin\n",
      "Total: 114.37 MB => labels: 0.55 MB, partitioning: 0.49 MB, embedding: 113.33 MB (matrix: 21.47 MB, embed: 90.44 MB) \n",
      "num_edge: 10, search_eps: 0.500000\n",
      "Build SearchIndex done! (15.46 sec, 23.33 MB)\n",
      "Load Predict Data: #data=1 #feature=2048 #label=0\n",
      "Done!\n",
      "Elapsed: 0.0091 sec, 9.0761 msec/sample (* 12 threads = 108.9134 msec/sample)\n",
      "Partitioning: 0.0026 sec, Embedding: 0.0063 sec, Aggregating: 0.0002 sec\n"
     ]
    },
    {
     "name": "stdout",
     "output_type": "stream",
     "text": [
      "Step 10: Nonzero attributions count = 36864\n"
     ]
    },
    {
     "name": "stderr",
     "output_type": "stream",
     "text": [
      "Loaded model from AnnexML/iaprtc12_model.bin\n",
      "Total: 114.37 MB => labels: 0.55 MB, partitioning: 0.49 MB, embedding: 113.33 MB (matrix: 21.47 MB, embed: 90.44 MB) \n",
      "num_edge: 10, search_eps: 0.500000\n",
      "Build SearchIndex done! (14.41 sec, 23.33 MB)\n",
      "Load Predict Data: #data=1 #feature=2048 #label=0\n",
      "Done!\n",
      "Elapsed: 0.0090 sec, 8.9581 msec/sample (* 12 threads = 107.4972 msec/sample)\n",
      "Partitioning: 0.0042 sec, Embedding: 0.0047 sec, Aggregating: 0.0001 sec\n"
     ]
    },
    {
     "name": "stdout",
     "output_type": "stream",
     "text": [
      "Step 11: Nonzero attributions count = 36864\n"
     ]
    },
    {
     "name": "stderr",
     "output_type": "stream",
     "text": [
      "Loaded model from AnnexML/iaprtc12_model.bin\n",
      "Total: 114.37 MB => labels: 0.55 MB, partitioning: 0.49 MB, embedding: 113.33 MB (matrix: 21.47 MB, embed: 90.44 MB) \n",
      "num_edge: 10, search_eps: 0.500000\n",
      "Build SearchIndex done! (16.87 sec, 23.33 MB)\n",
      "Load Predict Data: #data=1 #feature=2048 #label=0\n",
      "Done!\n",
      "Elapsed: 0.0074 sec, 7.3781 msec/sample (* 12 threads = 88.5372 msec/sample)\n",
      "Partitioning: 0.0025 sec, Embedding: 0.0045 sec, Aggregating: 0.0004 sec\n"
     ]
    },
    {
     "name": "stdout",
     "output_type": "stream",
     "text": [
      "Step 12: Nonzero attributions count = 36864\n"
     ]
    },
    {
     "name": "stderr",
     "output_type": "stream",
     "text": [
      "Loaded model from AnnexML/iaprtc12_model.bin\n",
      "Total: 114.37 MB => labels: 0.55 MB, partitioning: 0.49 MB, embedding: 113.33 MB (matrix: 21.47 MB, embed: 90.44 MB) \n",
      "num_edge: 10, search_eps: 0.500000\n",
      "Build SearchIndex done! (14.29 sec, 23.33 MB)\n",
      "Load Predict Data: #data=1 #feature=2048 #label=0\n",
      "Done!\n",
      "Elapsed: 0.0081 sec, 8.0948 msec/sample (* 12 threads = 97.1375 msec/sample)\n",
      "Partitioning: 0.0024 sec, Embedding: 0.0055 sec, Aggregating: 0.0002 sec\n"
     ]
    },
    {
     "name": "stdout",
     "output_type": "stream",
     "text": [
      "Step 13: Nonzero attributions count = 36864\n"
     ]
    },
    {
     "name": "stderr",
     "output_type": "stream",
     "text": [
      "Loaded model from AnnexML/iaprtc12_model.bin\n",
      "Total: 114.37 MB => labels: 0.55 MB, partitioning: 0.49 MB, embedding: 113.33 MB (matrix: 21.47 MB, embed: 90.44 MB) \n",
      "num_edge: 10, search_eps: 0.500000\n",
      "Build SearchIndex done! (13.91 sec, 23.33 MB)\n",
      "Load Predict Data: #data=1 #feature=2048 #label=0\n",
      "Done!\n",
      "Elapsed: 0.0081 sec, 8.1460 msec/sample (* 12 threads = 97.7526 msec/sample)\n",
      "Partitioning: 0.0026 sec, Embedding: 0.0053 sec, Aggregating: 0.0002 sec\n"
     ]
    },
    {
     "name": "stdout",
     "output_type": "stream",
     "text": [
      "Step 14: Nonzero attributions count = 36864\n"
     ]
    },
    {
     "name": "stderr",
     "output_type": "stream",
     "text": [
      "Loaded model from AnnexML/iaprtc12_model.bin\n",
      "Total: 114.37 MB => labels: 0.55 MB, partitioning: 0.49 MB, embedding: 113.33 MB (matrix: 21.47 MB, embed: 90.44 MB) \n",
      "num_edge: 10, search_eps: 0.500000\n",
      "Build SearchIndex done! (13.93 sec, 23.33 MB)\n",
      "Load Predict Data: #data=1 #feature=2048 #label=0\n",
      "Done!\n",
      "Elapsed: 0.0081 sec, 8.1358 msec/sample (* 12 threads = 97.6295 msec/sample)\n",
      "Partitioning: 0.0022 sec, Embedding: 0.0054 sec, Aggregating: 0.0004 sec\n"
     ]
    },
    {
     "name": "stdout",
     "output_type": "stream",
     "text": [
      "Step 15: Nonzero attributions count = 36864\n"
     ]
    },
    {
     "name": "stderr",
     "output_type": "stream",
     "text": [
      "Loaded model from AnnexML/iaprtc12_model.bin\n",
      "Total: 114.37 MB => labels: 0.55 MB, partitioning: 0.49 MB, embedding: 113.33 MB (matrix: 21.47 MB, embed: 90.44 MB) \n",
      "num_edge: 10, search_eps: 0.500000\n",
      "Build SearchIndex done! (13.89 sec, 23.33 MB)\n",
      "Load Predict Data: #data=1 #feature=2048 #label=0\n",
      "Done!\n",
      "Elapsed: 0.0082 sec, 8.1720 msec/sample (* 12 threads = 98.0644 msec/sample)\n",
      "Partitioning: 0.0029 sec, Embedding: 0.0050 sec, Aggregating: 0.0002 sec\n"
     ]
    },
    {
     "name": "stdout",
     "output_type": "stream",
     "text": [
      "Step 16: Nonzero attributions count = 36864\n"
     ]
    },
    {
     "name": "stderr",
     "output_type": "stream",
     "text": [
      "Loaded model from AnnexML/iaprtc12_model.bin\n",
      "Total: 114.37 MB => labels: 0.55 MB, partitioning: 0.49 MB, embedding: 113.33 MB (matrix: 21.47 MB, embed: 90.44 MB) \n",
      "num_edge: 10, search_eps: 0.500000\n",
      "Build SearchIndex done! (14.04 sec, 23.33 MB)\n",
      "Load Predict Data: #data=1 #feature=2048 #label=0\n",
      "Done!\n",
      "Elapsed: 0.0094 sec, 9.3861 msec/sample (* 12 threads = 112.6328 msec/sample)\n",
      "Partitioning: 0.0022 sec, Embedding: 0.0069 sec, Aggregating: 0.0003 sec\n"
     ]
    },
    {
     "name": "stdout",
     "output_type": "stream",
     "text": [
      "Step 17: Nonzero attributions count = 36864\n"
     ]
    },
    {
     "name": "stderr",
     "output_type": "stream",
     "text": [
      "Loaded model from AnnexML/iaprtc12_model.bin\n",
      "Total: 114.37 MB => labels: 0.55 MB, partitioning: 0.49 MB, embedding: 113.33 MB (matrix: 21.47 MB, embed: 90.44 MB) \n",
      "num_edge: 10, search_eps: 0.500000\n",
      "Build SearchIndex done! (14.10 sec, 23.33 MB)\n",
      "Load Predict Data: #data=1 #feature=2048 #label=0\n",
      "Done!\n",
      "Elapsed: 0.0083 sec, 8.2591 msec/sample (* 12 threads = 99.1087 msec/sample)\n",
      "Partitioning: 0.0026 sec, Embedding: 0.0054 sec, Aggregating: 0.0003 sec\n"
     ]
    },
    {
     "name": "stdout",
     "output_type": "stream",
     "text": [
      "Step 18: Nonzero attributions count = 36864\n"
     ]
    },
    {
     "name": "stderr",
     "output_type": "stream",
     "text": [
      "Loaded model from AnnexML/iaprtc12_model.bin\n",
      "Total: 114.37 MB => labels: 0.55 MB, partitioning: 0.49 MB, embedding: 113.33 MB (matrix: 21.47 MB, embed: 90.44 MB) \n",
      "num_edge: 10, search_eps: 0.500000\n",
      "Build SearchIndex done! (13.72 sec, 23.33 MB)\n",
      "Load Predict Data: #data=1 #feature=2048 #label=0\n",
      "Done!\n",
      "Elapsed: 0.0075 sec, 7.5152 msec/sample (* 12 threads = 90.1823 msec/sample)\n",
      "Partitioning: 0.0025 sec, Embedding: 0.0046 sec, Aggregating: 0.0004 sec\n"
     ]
    },
    {
     "name": "stdout",
     "output_type": "stream",
     "text": [
      "Step 19: Nonzero attributions count = 36864\n"
     ]
    },
    {
     "name": "stderr",
     "output_type": "stream",
     "text": [
      "Loaded model from AnnexML/iaprtc12_model.bin\n",
      "Total: 114.37 MB => labels: 0.55 MB, partitioning: 0.49 MB, embedding: 113.33 MB (matrix: 21.47 MB, embed: 90.44 MB) \n",
      "num_edge: 10, search_eps: 0.500000\n",
      "Build SearchIndex done! (15.60 sec, 23.33 MB)\n",
      "Load Predict Data: #data=1 #feature=2048 #label=0\n",
      "Done!\n",
      "Elapsed: 0.0084 sec, 8.4071 msec/sample (* 12 threads = 100.8854 msec/sample)\n",
      "Partitioning: 0.0026 sec, Embedding: 0.0056 sec, Aggregating: 0.0002 sec\n"
     ]
    },
    {
     "name": "stdout",
     "output_type": "stream",
     "text": [
      "Step 20: Nonzero attributions count = 36864\n"
     ]
    },
    {
     "name": "stderr",
     "output_type": "stream",
     "text": [
      "Loaded model from AnnexML/iaprtc12_model.bin\n",
      "Total: 114.37 MB => labels: 0.55 MB, partitioning: 0.49 MB, embedding: 113.33 MB (matrix: 21.47 MB, embed: 90.44 MB) \n",
      "num_edge: 10, search_eps: 0.500000\n",
      "Build SearchIndex done! (14.38 sec, 23.33 MB)\n",
      "Load Predict Data: #data=1 #feature=2048 #label=0\n",
      "Done!\n",
      "Elapsed: 0.0077 sec, 7.7000 msec/sample (* 12 threads = 92.3996 msec/sample)\n",
      "Partitioning: 0.0022 sec, Embedding: 0.0053 sec, Aggregating: 0.0002 sec\n"
     ]
    },
    {
     "name": "stdout",
     "output_type": "stream",
     "text": [
      "Step 21: Nonzero attributions count = 36864\n"
     ]
    },
    {
     "name": "stderr",
     "output_type": "stream",
     "text": [
      "Loaded model from AnnexML/iaprtc12_model.bin\n",
      "Total: 114.37 MB => labels: 0.55 MB, partitioning: 0.49 MB, embedding: 113.33 MB (matrix: 21.47 MB, embed: 90.44 MB) \n",
      "num_edge: 10, search_eps: 0.500000\n",
      "Build SearchIndex done! (14.11 sec, 23.33 MB)\n",
      "Load Predict Data: #data=1 #feature=2048 #label=0\n",
      "Done!\n",
      "Elapsed: 0.0097 sec, 9.7430 msec/sample (* 12 threads = 116.9157 msec/sample)\n",
      "Partitioning: 0.0027 sec, Embedding: 0.0067 sec, Aggregating: 0.0003 sec\n"
     ]
    },
    {
     "name": "stdout",
     "output_type": "stream",
     "text": [
      "Step 22: Nonzero attributions count = 36864\n"
     ]
    },
    {
     "name": "stderr",
     "output_type": "stream",
     "text": [
      "Loaded model from AnnexML/iaprtc12_model.bin\n",
      "Total: 114.37 MB => labels: 0.55 MB, partitioning: 0.49 MB, embedding: 113.33 MB (matrix: 21.47 MB, embed: 90.44 MB) \n",
      "num_edge: 10, search_eps: 0.500000\n",
      "Build SearchIndex done! (14.01 sec, 23.33 MB)\n",
      "Load Predict Data: #data=1 #feature=2048 #label=0\n",
      "Done!\n",
      "Elapsed: 0.0087 sec, 8.6999 msec/sample (* 12 threads = 104.3987 msec/sample)\n",
      "Partitioning: 0.0025 sec, Embedding: 0.0059 sec, Aggregating: 0.0003 sec\n"
     ]
    },
    {
     "name": "stdout",
     "output_type": "stream",
     "text": [
      "Step 23: Nonzero attributions count = 36864\n"
     ]
    },
    {
     "name": "stderr",
     "output_type": "stream",
     "text": [
      "Loaded model from AnnexML/iaprtc12_model.bin\n",
      "Total: 114.37 MB => labels: 0.55 MB, partitioning: 0.49 MB, embedding: 113.33 MB (matrix: 21.47 MB, embed: 90.44 MB) \n",
      "num_edge: 10, search_eps: 0.500000\n",
      "Build SearchIndex done! (13.92 sec, 23.33 MB)\n",
      "Load Predict Data: #data=1 #feature=2048 #label=0\n",
      "Done!\n",
      "Elapsed: 0.0085 sec, 8.4641 msec/sample (* 12 threads = 101.5692 msec/sample)\n",
      "Partitioning: 0.0030 sec, Embedding: 0.0053 sec, Aggregating: 0.0002 sec\n"
     ]
    },
    {
     "name": "stdout",
     "output_type": "stream",
     "text": [
      "Step 24: Nonzero attributions count = 36864\n"
     ]
    },
    {
     "name": "stderr",
     "output_type": "stream",
     "text": [
      "Loaded model from AnnexML/iaprtc12_model.bin\n",
      "Total: 114.37 MB => labels: 0.55 MB, partitioning: 0.49 MB, embedding: 113.33 MB (matrix: 21.47 MB, embed: 90.44 MB) \n",
      "num_edge: 10, search_eps: 0.500000\n",
      "Build SearchIndex done! (13.86 sec, 23.33 MB)\n",
      "Load Predict Data: #data=1 #feature=2048 #label=0\n",
      "Done!\n",
      "Elapsed: 0.0080 sec, 7.9892 msec/sample (* 12 threads = 95.8700 msec/sample)\n",
      "Partitioning: 0.0027 sec, Embedding: 0.0049 sec, Aggregating: 0.0003 sec\n"
     ]
    },
    {
     "name": "stdout",
     "output_type": "stream",
     "text": [
      "Step 25: Nonzero attributions count = 36864\n"
     ]
    },
    {
     "name": "stderr",
     "output_type": "stream",
     "text": [
      "Loaded model from AnnexML/iaprtc12_model.bin\n",
      "Total: 114.37 MB => labels: 0.55 MB, partitioning: 0.49 MB, embedding: 113.33 MB (matrix: 21.47 MB, embed: 90.44 MB) \n",
      "num_edge: 10, search_eps: 0.500000\n",
      "Build SearchIndex done! (13.73 sec, 23.33 MB)\n",
      "Load Predict Data: #data=1 #feature=2048 #label=0\n",
      "Done!\n",
      "Elapsed: 0.0089 sec, 8.8570 msec/sample (* 12 threads = 106.2841 msec/sample)\n",
      "Partitioning: 0.0026 sec, Embedding: 0.0061 sec, Aggregating: 0.0002 sec\n"
     ]
    },
    {
     "name": "stdout",
     "output_type": "stream",
     "text": [
      "Step 26: Nonzero attributions count = 36864\n"
     ]
    },
    {
     "name": "stderr",
     "output_type": "stream",
     "text": [
      "Loaded model from AnnexML/iaprtc12_model.bin\n",
      "Total: 114.37 MB => labels: 0.55 MB, partitioning: 0.49 MB, embedding: 113.33 MB (matrix: 21.47 MB, embed: 90.44 MB) \n",
      "num_edge: 10, search_eps: 0.500000\n",
      "Build SearchIndex done! (14.24 sec, 23.33 MB)\n",
      "Load Predict Data: #data=1 #feature=2048 #label=0\n",
      "Done!\n",
      "Elapsed: 0.0079 sec, 7.9350 msec/sample (* 12 threads = 95.2206 msec/sample)\n",
      "Partitioning: 0.0027 sec, Embedding: 0.0050 sec, Aggregating: 0.0002 sec\n"
     ]
    },
    {
     "name": "stdout",
     "output_type": "stream",
     "text": [
      "Step 27: Nonzero attributions count = 36864\n"
     ]
    },
    {
     "name": "stderr",
     "output_type": "stream",
     "text": [
      "Loaded model from AnnexML/iaprtc12_model.bin\n",
      "Total: 114.37 MB => labels: 0.55 MB, partitioning: 0.49 MB, embedding: 113.33 MB (matrix: 21.47 MB, embed: 90.44 MB) \n",
      "num_edge: 10, search_eps: 0.500000\n",
      "Build SearchIndex done! (13.98 sec, 23.33 MB)\n",
      "Load Predict Data: #data=1 #feature=2048 #label=0\n",
      "Done!\n",
      "Elapsed: 0.0082 sec, 8.1549 msec/sample (* 12 threads = 97.8584 msec/sample)\n",
      "Partitioning: 0.0027 sec, Embedding: 0.0052 sec, Aggregating: 0.0002 sec\n"
     ]
    },
    {
     "name": "stdout",
     "output_type": "stream",
     "text": [
      "Step 28: Nonzero attributions count = 36864\n"
     ]
    },
    {
     "name": "stderr",
     "output_type": "stream",
     "text": [
      "Loaded model from AnnexML/iaprtc12_model.bin\n",
      "Total: 114.37 MB => labels: 0.55 MB, partitioning: 0.49 MB, embedding: 113.33 MB (matrix: 21.47 MB, embed: 90.44 MB) \n",
      "num_edge: 10, search_eps: 0.500000\n",
      "Build SearchIndex done! (14.16 sec, 23.33 MB)\n",
      "Load Predict Data: #data=1 #feature=2048 #label=0\n",
      "Done!\n",
      "Elapsed: 0.0089 sec, 8.9219 msec/sample (* 12 threads = 107.0623 msec/sample)\n",
      "Partitioning: 0.0028 sec, Embedding: 0.0059 sec, Aggregating: 0.0002 sec\n"
     ]
    },
    {
     "name": "stdout",
     "output_type": "stream",
     "text": [
      "Step 29: Nonzero attributions count = 36864\n"
     ]
    },
    {
     "name": "stderr",
     "output_type": "stream",
     "text": [
      "Loaded model from AnnexML/iaprtc12_model.bin\n",
      "Total: 114.37 MB => labels: 0.55 MB, partitioning: 0.49 MB, embedding: 113.33 MB (matrix: 21.47 MB, embed: 90.44 MB) \n",
      "num_edge: 10, search_eps: 0.500000\n",
      "Build SearchIndex done! (14.59 sec, 23.33 MB)\n",
      "Load Predict Data: #data=1 #feature=2048 #label=0\n",
      "Done!\n",
      "Elapsed: 0.0090 sec, 9.0489 msec/sample (* 12 threads = 108.5873 msec/sample)\n",
      "Partitioning: 0.0028 sec, Embedding: 0.0060 sec, Aggregating: 0.0002 sec\n"
     ]
    },
    {
     "name": "stdout",
     "output_type": "stream",
     "text": [
      "Step 30: Nonzero attributions count = 36864\n"
     ]
    },
    {
     "name": "stderr",
     "output_type": "stream",
     "text": [
      "Loaded model from AnnexML/iaprtc12_model.bin\n",
      "Total: 114.37 MB => labels: 0.55 MB, partitioning: 0.49 MB, embedding: 113.33 MB (matrix: 21.47 MB, embed: 90.44 MB) \n",
      "num_edge: 10, search_eps: 0.500000\n",
      "Build SearchIndex done! (14.47 sec, 23.33 MB)\n",
      "Load Predict Data: #data=1 #feature=2048 #label=0\n",
      "Done!\n",
      "Elapsed: 0.0078 sec, 7.8330 msec/sample (* 12 threads = 93.9960 msec/sample)\n",
      "Partitioning: 0.0028 sec, Embedding: 0.0048 sec, Aggregating: 0.0002 sec\n"
     ]
    },
    {
     "name": "stdout",
     "output_type": "stream",
     "text": [
      "Step 31: Nonzero attributions count = 36864\n"
     ]
    },
    {
     "name": "stderr",
     "output_type": "stream",
     "text": [
      "Loaded model from AnnexML/iaprtc12_model.bin\n",
      "Total: 114.37 MB => labels: 0.55 MB, partitioning: 0.49 MB, embedding: 113.33 MB (matrix: 21.47 MB, embed: 90.44 MB) \n",
      "num_edge: 10, search_eps: 0.500000\n",
      "Build SearchIndex done! (14.18 sec, 23.33 MB)\n",
      "Load Predict Data: #data=1 #feature=2048 #label=0\n",
      "Done!\n",
      "Elapsed: 0.0083 sec, 8.3210 msec/sample (* 12 threads = 99.8526 msec/sample)\n",
      "Partitioning: 0.0029 sec, Embedding: 0.0051 sec, Aggregating: 0.0003 sec\n"
     ]
    },
    {
     "name": "stdout",
     "output_type": "stream",
     "text": [
      "Step 32: Nonzero attributions count = 36864\n"
     ]
    },
    {
     "name": "stderr",
     "output_type": "stream",
     "text": [
      "Loaded model from AnnexML/iaprtc12_model.bin\n",
      "Total: 114.37 MB => labels: 0.55 MB, partitioning: 0.49 MB, embedding: 113.33 MB (matrix: 21.47 MB, embed: 90.44 MB) \n",
      "num_edge: 10, search_eps: 0.500000\n",
      "Build SearchIndex done! (14.47 sec, 23.33 MB)\n",
      "Load Predict Data: #data=1 #feature=2048 #label=0\n",
      "Done!\n",
      "Elapsed: 0.0076 sec, 7.6182 msec/sample (* 12 threads = 91.4183 msec/sample)\n",
      "Partitioning: 0.0024 sec, Embedding: 0.0051 sec, Aggregating: 0.0001 sec\n"
     ]
    },
    {
     "name": "stdout",
     "output_type": "stream",
     "text": [
      "Step 33: Nonzero attributions count = 36864\n"
     ]
    },
    {
     "name": "stderr",
     "output_type": "stream",
     "text": [
      "Loaded model from AnnexML/iaprtc12_model.bin\n",
      "Total: 114.37 MB => labels: 0.55 MB, partitioning: 0.49 MB, embedding: 113.33 MB (matrix: 21.47 MB, embed: 90.44 MB) \n",
      "num_edge: 10, search_eps: 0.500000\n",
      "Build SearchIndex done! (14.15 sec, 23.33 MB)\n",
      "Load Predict Data: #data=1 #feature=2048 #label=0\n",
      "Done!\n",
      "Elapsed: 0.0089 sec, 8.8699 msec/sample (* 12 threads = 106.4386 msec/sample)\n",
      "Partitioning: 0.0027 sec, Embedding: 0.0058 sec, Aggregating: 0.0003 sec\n"
     ]
    },
    {
     "name": "stdout",
     "output_type": "stream",
     "text": [
      "Step 34: Nonzero attributions count = 36864\n"
     ]
    },
    {
     "name": "stderr",
     "output_type": "stream",
     "text": [
      "Loaded model from AnnexML/iaprtc12_model.bin\n",
      "Total: 114.37 MB => labels: 0.55 MB, partitioning: 0.49 MB, embedding: 113.33 MB (matrix: 21.47 MB, embed: 90.44 MB) \n",
      "num_edge: 10, search_eps: 0.500000\n",
      "Build SearchIndex done! (14.51 sec, 23.33 MB)\n",
      "Load Predict Data: #data=1 #feature=2048 #label=0\n",
      "Done!\n",
      "Elapsed: 0.0084 sec, 8.4109 msec/sample (* 12 threads = 100.9312 msec/sample)\n",
      "Partitioning: 0.0028 sec, Embedding: 0.0053 sec, Aggregating: 0.0003 sec\n"
     ]
    },
    {
     "name": "stdout",
     "output_type": "stream",
     "text": [
      "Step 35: Nonzero attributions count = 36864\n"
     ]
    },
    {
     "name": "stderr",
     "output_type": "stream",
     "text": [
      "Loaded model from AnnexML/iaprtc12_model.bin\n",
      "Total: 114.37 MB => labels: 0.55 MB, partitioning: 0.49 MB, embedding: 113.33 MB (matrix: 21.47 MB, embed: 90.44 MB) \n",
      "num_edge: 10, search_eps: 0.500000\n",
      "Build SearchIndex done! (14.14 sec, 23.33 MB)\n",
      "Load Predict Data: #data=1 #feature=2048 #label=0\n",
      "Done!\n",
      "Elapsed: 0.0086 sec, 8.5580 msec/sample (* 12 threads = 102.6964 msec/sample)\n",
      "Partitioning: 0.0025 sec, Embedding: 0.0059 sec, Aggregating: 0.0002 sec\n"
     ]
    },
    {
     "name": "stdout",
     "output_type": "stream",
     "text": [
      "Step 36: Nonzero attributions count = 36864\n"
     ]
    },
    {
     "name": "stderr",
     "output_type": "stream",
     "text": [
      "Loaded model from AnnexML/iaprtc12_model.bin\n",
      "Total: 114.37 MB => labels: 0.55 MB, partitioning: 0.49 MB, embedding: 113.33 MB (matrix: 21.47 MB, embed: 90.44 MB) \n",
      "num_edge: 10, search_eps: 0.500000\n",
      "Build SearchIndex done! (14.33 sec, 23.33 MB)\n",
      "Load Predict Data: #data=1 #feature=2048 #label=0\n",
      "Done!\n",
      "Elapsed: 0.0081 sec, 8.0791 msec/sample (* 12 threads = 96.9486 msec/sample)\n",
      "Partitioning: 0.0027 sec, Embedding: 0.0052 sec, Aggregating: 0.0001 sec\n"
     ]
    },
    {
     "name": "stdout",
     "output_type": "stream",
     "text": [
      "Step 37: Nonzero attributions count = 36864\n"
     ]
    },
    {
     "name": "stderr",
     "output_type": "stream",
     "text": [
      "Loaded model from AnnexML/iaprtc12_model.bin\n",
      "Total: 114.37 MB => labels: 0.55 MB, partitioning: 0.49 MB, embedding: 113.33 MB (matrix: 21.47 MB, embed: 90.44 MB) \n",
      "num_edge: 10, search_eps: 0.500000\n",
      "Build SearchIndex done! (13.76 sec, 23.33 MB)\n",
      "Load Predict Data: #data=1 #feature=2048 #label=0\n",
      "Done!\n",
      "Elapsed: 0.0079 sec, 7.9300 msec/sample (* 12 threads = 95.1605 msec/sample)\n",
      "Partitioning: 0.0025 sec, Embedding: 0.0051 sec, Aggregating: 0.0003 sec\n"
     ]
    },
    {
     "name": "stdout",
     "output_type": "stream",
     "text": [
      "Step 38: Nonzero attributions count = 36864\n"
     ]
    },
    {
     "name": "stderr",
     "output_type": "stream",
     "text": [
      "Loaded model from AnnexML/iaprtc12_model.bin\n",
      "Total: 114.37 MB => labels: 0.55 MB, partitioning: 0.49 MB, embedding: 113.33 MB (matrix: 21.47 MB, embed: 90.44 MB) \n",
      "num_edge: 10, search_eps: 0.500000\n",
      "Build SearchIndex done! (14.16 sec, 23.33 MB)\n",
      "Load Predict Data: #data=1 #feature=2048 #label=0\n",
      "Done!\n",
      "Elapsed: 0.0095 sec, 9.5301 msec/sample (* 12 threads = 114.3608 msec/sample)\n",
      "Partitioning: 0.0026 sec, Embedding: 0.0066 sec, Aggregating: 0.0003 sec\n"
     ]
    },
    {
     "name": "stdout",
     "output_type": "stream",
     "text": [
      "Step 39: Nonzero attributions count = 36864\n"
     ]
    },
    {
     "name": "stderr",
     "output_type": "stream",
     "text": [
      "Loaded model from AnnexML/iaprtc12_model.bin\n",
      "Total: 114.37 MB => labels: 0.55 MB, partitioning: 0.49 MB, embedding: 113.33 MB (matrix: 21.47 MB, embed: 90.44 MB) \n",
      "num_edge: 10, search_eps: 0.500000\n",
      "Build SearchIndex done! (14.04 sec, 23.33 MB)\n",
      "Load Predict Data: #data=1 #feature=2048 #label=0\n",
      "Done!\n",
      "Elapsed: 0.0084 sec, 8.3599 msec/sample (* 12 threads = 100.3189 msec/sample)\n",
      "Partitioning: 0.0027 sec, Embedding: 0.0054 sec, Aggregating: 0.0002 sec\n"
     ]
    },
    {
     "name": "stdout",
     "output_type": "stream",
     "text": [
      "Step 40: Nonzero attributions count = 36864\n"
     ]
    },
    {
     "name": "stderr",
     "output_type": "stream",
     "text": [
      "Loaded model from AnnexML/iaprtc12_model.bin\n",
      "Total: 114.37 MB => labels: 0.55 MB, partitioning: 0.49 MB, embedding: 113.33 MB (matrix: 21.47 MB, embed: 90.44 MB) \n",
      "num_edge: 10, search_eps: 0.500000\n",
      "Build SearchIndex done! (14.32 sec, 23.33 MB)\n",
      "Load Predict Data: #data=1 #feature=2048 #label=0\n",
      "Done!\n",
      "Elapsed: 0.0083 sec, 8.3241 msec/sample (* 12 threads = 99.8898 msec/sample)\n",
      "Partitioning: 0.0026 sec, Embedding: 0.0052 sec, Aggregating: 0.0005 sec\n"
     ]
    },
    {
     "name": "stdout",
     "output_type": "stream",
     "text": [
      "Step 41: Nonzero attributions count = 36864\n"
     ]
    },
    {
     "name": "stderr",
     "output_type": "stream",
     "text": [
      "Loaded model from AnnexML/iaprtc12_model.bin\n",
      "Total: 114.37 MB => labels: 0.55 MB, partitioning: 0.49 MB, embedding: 113.33 MB (matrix: 21.47 MB, embed: 90.44 MB) \n",
      "num_edge: 10, search_eps: 0.500000\n",
      "Build SearchIndex done! (13.97 sec, 23.33 MB)\n",
      "Load Predict Data: #data=1 #feature=2048 #label=0\n",
      "Done!\n",
      "Elapsed: 0.0086 sec, 8.5540 msec/sample (* 12 threads = 102.6478 msec/sample)\n",
      "Partitioning: 0.0031 sec, Embedding: 0.0051 sec, Aggregating: 0.0003 sec\n"
     ]
    },
    {
     "name": "stdout",
     "output_type": "stream",
     "text": [
      "Step 42: Nonzero attributions count = 36864\n"
     ]
    },
    {
     "name": "stderr",
     "output_type": "stream",
     "text": [
      "Loaded model from AnnexML/iaprtc12_model.bin\n",
      "Total: 114.37 MB => labels: 0.55 MB, partitioning: 0.49 MB, embedding: 113.33 MB (matrix: 21.47 MB, embed: 90.44 MB) \n",
      "num_edge: 10, search_eps: 0.500000\n",
      "Build SearchIndex done! (14.00 sec, 23.33 MB)\n",
      "Load Predict Data: #data=1 #feature=2048 #label=0\n",
      "Done!\n",
      "Elapsed: 0.0075 sec, 7.4980 msec/sample (* 12 threads = 89.9763 msec/sample)\n",
      "Partitioning: 0.0018 sec, Embedding: 0.0050 sec, Aggregating: 0.0006 sec\n"
     ]
    },
    {
     "name": "stdout",
     "output_type": "stream",
     "text": [
      "Step 43: Nonzero attributions count = 36864\n"
     ]
    },
    {
     "name": "stderr",
     "output_type": "stream",
     "text": [
      "Loaded model from AnnexML/iaprtc12_model.bin\n",
      "Total: 114.37 MB => labels: 0.55 MB, partitioning: 0.49 MB, embedding: 113.33 MB (matrix: 21.47 MB, embed: 90.44 MB) \n",
      "num_edge: 10, search_eps: 0.500000\n",
      "Build SearchIndex done! (13.86 sec, 23.33 MB)\n",
      "Load Predict Data: #data=1 #feature=2048 #label=0\n",
      "Done!\n",
      "Elapsed: 0.0084 sec, 8.3749 msec/sample (* 12 threads = 100.4992 msec/sample)\n",
      "Partitioning: 0.0030 sec, Embedding: 0.0052 sec, Aggregating: 0.0002 sec\n"
     ]
    },
    {
     "name": "stdout",
     "output_type": "stream",
     "text": [
      "Step 44: Nonzero attributions count = 36864\n"
     ]
    },
    {
     "name": "stderr",
     "output_type": "stream",
     "text": [
      "Loaded model from AnnexML/iaprtc12_model.bin\n",
      "Total: 114.37 MB => labels: 0.55 MB, partitioning: 0.49 MB, embedding: 113.33 MB (matrix: 21.47 MB, embed: 90.44 MB) \n",
      "num_edge: 10, search_eps: 0.500000\n",
      "Build SearchIndex done! (13.75 sec, 23.33 MB)\n",
      "Load Predict Data: #data=1 #feature=2048 #label=0\n",
      "Done!\n",
      "Elapsed: 0.0073 sec, 7.2660 msec/sample (* 12 threads = 87.1925 msec/sample)\n",
      "Partitioning: 0.0024 sec, Embedding: 0.0047 sec, Aggregating: 0.0002 sec\n"
     ]
    },
    {
     "name": "stdout",
     "output_type": "stream",
     "text": [
      "Step 45: Nonzero attributions count = 36864\n"
     ]
    },
    {
     "name": "stderr",
     "output_type": "stream",
     "text": [
      "Loaded model from AnnexML/iaprtc12_model.bin\n",
      "Total: 114.37 MB => labels: 0.55 MB, partitioning: 0.49 MB, embedding: 113.33 MB (matrix: 21.47 MB, embed: 90.44 MB) \n",
      "num_edge: 10, search_eps: 0.500000\n",
      "Build SearchIndex done! (14.11 sec, 23.33 MB)\n",
      "Load Predict Data: #data=1 #feature=2048 #label=0\n",
      "Done!\n",
      "Elapsed: 0.0081 sec, 8.1270 msec/sample (* 12 threads = 97.5237 msec/sample)\n",
      "Partitioning: 0.0026 sec, Embedding: 0.0053 sec, Aggregating: 0.0002 sec\n"
     ]
    },
    {
     "name": "stdout",
     "output_type": "stream",
     "text": [
      "Step 46: Nonzero attributions count = 36864\n"
     ]
    },
    {
     "name": "stderr",
     "output_type": "stream",
     "text": [
      "Loaded model from AnnexML/iaprtc12_model.bin\n",
      "Total: 114.37 MB => labels: 0.55 MB, partitioning: 0.49 MB, embedding: 113.33 MB (matrix: 21.47 MB, embed: 90.44 MB) \n",
      "num_edge: 10, search_eps: 0.500000\n",
      "Build SearchIndex done! (14.03 sec, 23.33 MB)\n",
      "Load Predict Data: #data=1 #feature=2048 #label=0\n",
      "Done!\n",
      "Elapsed: 0.0085 sec, 8.5399 msec/sample (* 12 threads = 102.4790 msec/sample)\n",
      "Partitioning: 0.0034 sec, Embedding: 0.0047 sec, Aggregating: 0.0004 sec\n"
     ]
    },
    {
     "name": "stdout",
     "output_type": "stream",
     "text": [
      "Step 47: Nonzero attributions count = 36864\n"
     ]
    },
    {
     "name": "stderr",
     "output_type": "stream",
     "text": [
      "Loaded model from AnnexML/iaprtc12_model.bin\n",
      "Total: 114.37 MB => labels: 0.55 MB, partitioning: 0.49 MB, embedding: 113.33 MB (matrix: 21.47 MB, embed: 90.44 MB) \n",
      "num_edge: 10, search_eps: 0.500000\n",
      "Build SearchIndex done! (14.05 sec, 23.33 MB)\n",
      "Load Predict Data: #data=1 #feature=2048 #label=0\n",
      "Done!\n",
      "Elapsed: 0.0081 sec, 8.0521 msec/sample (* 12 threads = 96.6253 msec/sample)\n",
      "Partitioning: 0.0029 sec, Embedding: 0.0047 sec, Aggregating: 0.0004 sec\n"
     ]
    },
    {
     "name": "stdout",
     "output_type": "stream",
     "text": [
      "Step 48: Nonzero attributions count = 36864\n"
     ]
    },
    {
     "name": "stderr",
     "output_type": "stream",
     "text": [
      "Loaded model from AnnexML/iaprtc12_model.bin\n",
      "Total: 114.37 MB => labels: 0.55 MB, partitioning: 0.49 MB, embedding: 113.33 MB (matrix: 21.47 MB, embed: 90.44 MB) \n",
      "num_edge: 10, search_eps: 0.500000\n",
      "Build SearchIndex..."
     ]
    },
    {
     "name": "stdout",
     "output_type": "stream",
     "text": [
      "Step 49: Nonzero attributions count = 36864\n"
     ]
    },
    {
     "name": "stderr",
     "output_type": "stream",
     "text": [
      "Build SearchIndex done! (14.10 sec, 23.33 MB)\n",
      "Load Predict Data: #data=1 #feature=2048 #label=0\n",
      "Done!\n",
      "Elapsed: 0.0094 sec, 9.4011 msec/sample (* 12 threads = 112.8130 msec/sample)\n",
      "Partitioning: 0.0028 sec, Embedding: 0.0061 sec, Aggregating: 0.0005 sec\n"
     ]
    }
   ],
   "source": [
    "# Usage example\n",
    "sample_input = X_test_dense[0]  # Pick one test instance\n",
    "example_index = 0  # Reset the example index\n",
    "feature_importance = integrated_gradients_annexml(sample_input)\n",
    "\n"
   ]
  },
  {
   "cell_type": "code",
   "execution_count": 20,
   "metadata": {},
   "outputs": [
    {
     "name": "stdout",
     "output_type": "stream",
     "text": [
      "Column 13 top three rows with highest values: [2044 1616 1600]\n",
      "Column 34 top three rows with highest values: [1880 1724 1647]\n",
      "Column 42 top three rows with highest values: [1880 1724 1647]\n",
      "Column 59 top three rows with highest values: [1880 1724 1647]\n",
      "Column 85 top three rows with highest values: [1880 1724 1647]\n",
      "Column 89 top three rows with highest values: [2044 1616 1600]\n",
      "Column 101 top three rows with highest values: [1880 1724 1647]\n",
      "Column 117 top three rows with highest values: [2044 1616 1600]\n",
      "Column 130 top three rows with highest values: [2044 1616 1600]\n",
      "Column 144 top three rows with highest values: [2044 1616 1600]\n",
      "Column 162 top three rows with highest values: [2044 1616 1600]\n",
      "Column 179 top three rows with highest values: [1880 1724 1647]\n",
      "Column 236 top three rows with highest values: [2044 1616 1600]\n",
      "Column 257 top three rows with highest values: [2044 1616 1600]\n",
      "Column 269 top three rows with highest values: [1880 1724 1647]\n",
      "Column 272 top three rows with highest values: [1880 1724 1647]\n",
      "Column 282 top three rows with highest values: [2044 1616 1600]\n",
      "Column 287 top three rows with highest values: [1880 1724 1647]\n"
     ]
    }
   ],
   "source": [
    "# Find the column numbers with non-zero values\n",
    "non_zero_columns = np.where(np.any(feature_importance != 0, axis=0))[0]\n",
    "\n",
    "# Dictionary to store the top three rows for each non-zero column\n",
    "top_three_rows_per_column = {}\n",
    "\n",
    "for col in non_zero_columns:\n",
    "    # Get the values in the column\n",
    "    column_values = feature_importance[:, col]\n",
    "    \n",
    "    # Get the indices of the top three values\n",
    "    top_three_indices = np.argsort(column_values)[-3:][::-1]\n",
    "    \n",
    "    # Store the top three rows in the dictionary\n",
    "    top_three_rows_per_column[col] = top_three_indices\n",
    "\n",
    "# Print the results\n",
    "for col, rows in top_three_rows_per_column.items():\n",
    "    print(f\"Column {col} top three rows with highest values: {rows}\")"
   ]
  },
  {
   "cell_type": "code",
   "execution_count": null,
   "metadata": {},
   "outputs": [
    {
     "name": "stdout",
     "output_type": "stream",
     "text": [
      "Classes sorted in descending order based on maximum values:\n",
      "Class 34: Max value = 0.1622368202089609, Feature number = 1880\n",
      "Class 272: Max value = 0.12696794625049113, Feature number = 1880\n",
      "Class 101: Max value = 0.1058066218754093, Feature number = 1880\n",
      "Class 42: Max value = 0.08464529750032744, Feature number = 1880\n",
      "Class 287: Max value = 0.08464529750032744, Feature number = 1880\n",
      "Class 59: Max value = 0.0775915227086335, Feature number = 1880\n",
      "Class 85: Max value = 0.0775915227086335, Feature number = 1880\n",
      "Class 269: Max value = 0.04937642354185768, Feature number = 1880\n",
      "Class 179: Max value = 0.010051629078163885, Feature number = 1880\n",
      "Class 13: Max value = -0.0, Feature number = 0\n",
      "Class 89: Max value = -0.0, Feature number = 0\n",
      "Class 117: Max value = -0.0, Feature number = 0\n",
      "Class 130: Max value = -0.0, Feature number = 0\n",
      "Class 144: Max value = -0.0, Feature number = 0\n",
      "Class 162: Max value = -0.0, Feature number = 0\n",
      "Class 236: Max value = -0.0, Feature number = 0\n",
      "Class 257: Max value = -0.0, Feature number = 0\n",
      "Class 282: Max value = -0.0, Feature number = 0\n"
     ]
    }
   ],
   "source": [
    "# Assuming feature_importance is already defined\n",
    "# feature_importance = ...\n",
    "\n",
    "# Find the column numbers with non-zero values\n",
    "non_zero_columns = np.where(np.any(feature_importance != 0, axis=0))[0]\n",
    "\n",
    "# Dictionary to store the maximum value and its row number for each non-zero column\n",
    "max_value_per_column = {}\n",
    "\n",
    "for col in non_zero_columns:\n",
    "    # Get the values in the column\n",
    "    column_values = feature_importance[:, col]\n",
    "    \n",
    "    # Find the maximum value and its row number\n",
    "    max_value = np.max(column_values)\n",
    "    max_row = np.argmax(column_values)\n",
    "    \n",
    "    # Store the maximum value and its row number in the dictionary\n",
    "    max_value_per_column[col] = (max_value, max_row)\n",
    "\n",
    "# Sort the columns in descending order based on the maximum values\n",
    "sorted_columns = sorted(max_value_per_column.items(), key=lambda x: x[1][0], reverse=True)\n",
    "\n",
    "# Print the results\n",
    "print(\"Classes sorted in descending order based on maximum values:\")\n",
    "for col, (max_value, max_row) in sorted_columns:\n",
    "    print(f\"Class {col}: Max value = {max_value}, Feature number = {max_row}\")"
   ]
  },
  {
   "cell_type": "code",
   "execution_count": 46,
   "metadata": {},
   "outputs": [
    {
     "data": {
      "image/png": "[encoded data removed]",
      "text/plain": [
       "<Figure size 1200x600 with 1 Axes>"
      ]
     },
     "metadata": {},
     "output_type": "display_data"
    },
    {
     "name": "stdout",
     "output_type": "stream",
     "text": [
      "Classes sorted in descending order based on maximum values:\n",
      "Class 34: Max value = 0.1622368202089609, Feature number = 1880\n",
      "Class 272: Max value = 0.12696794625049113, Feature number = 1880\n",
      "Class 101: Max value = 0.1058066218754093, Feature number = 1880\n",
      "Class 42: Max value = 0.08464529750032744, Feature number = 1880\n",
      "Class 287: Max value = 0.08464529750032744, Feature number = 1880\n",
      "Class 59: Max value = 0.0775915227086335, Feature number = 1880\n",
      "Class 85: Max value = 0.0775915227086335, Feature number = 1880\n",
      "Class 269: Max value = 0.04937642354185768, Feature number = 1880\n",
      "Class 179: Max value = 0.010051629078163885, Feature number = 1880\n"
     ]
    }
   ],
   "source": [
    "import numpy as np\n",
    "import matplotlib.pyplot as plt\n",
    "\n",
    "# Assuming feature_importance is already defined\n",
    "# feature_importance = ...\n",
    "\n",
    "# Find the column numbers with strictly non-zero values\n",
    "non_zero_columns = np.where(np.any(feature_importance != 0, axis=0))[0]\n",
    "\n",
    "# Dictionary to store the maximum value and its row number for each non-zero column\n",
    "max_value_per_column = {}\n",
    "\n",
    "for col in non_zero_columns:\n",
    "    # Get the values in the column\n",
    "    column_values = feature_importance[:, col]\n",
    "    \n",
    "    # Find the maximum value and its row number\n",
    "    max_value = np.max(column_values)\n",
    "    max_row = np.argmax(column_values)\n",
    "    \n",
    "    # Store the maximum value and its row number in the dictionary\n",
    "    if max_value != 0:\n",
    "        max_value_per_column[col] = (max_value, max_row)\n",
    "\n",
    "# Sort the columns in descending order based on the maximum values\n",
    "sorted_columns = sorted(max_value_per_column.items(), key=lambda x: x[1][0], reverse=True)\n",
    "\n",
    "# Extract the class values and corresponding feature values\n",
    "classes = [col for col, _ in sorted_columns]\n",
    "max_values = [max_value for _, (max_value, _) in sorted_columns]\n",
    "feature_numbers = [max_row for _, (_, max_row) in sorted_columns]\n",
    "\n",
    "# Plot the results\n",
    "plt.figure(figsize=(12, 6))\n",
    "bars = plt.bar(classes, max_values, color='blue', alpha=0.7)\n",
    "\n",
    "# Highlight the bars with non-zero values and annotate them with their values, class numbers, and feature numbers\n",
    "for bar, max_value, class_num, feature_num in zip(bars, max_values, classes, feature_numbers):\n",
    "    bar.set_color('red')\n",
    "    plt.text(bar.get_x() + bar.get_width() / 2, bar.get_height(), f'Value: {max_value:.2f}\\nClass: {class_num}\\nFeature: {feature_num}', ha='center', va='bottom', color='black', fontsize=8)\n",
    "\n",
    "plt.xlabel('Class')\n",
    "plt.ylabel('Max Value')\n",
    "plt.title('Classes sorted in descending order based on maximum values')\n",
    "plt.xticks(rotation=90)\n",
    "plt.show()\n",
    "\n",
    "# Print the results\n",
    "print(\"Classes sorted in descending order based on maximum values:\")\n",
    "for col, (max_value, max_row) in sorted_columns:\n",
    "    print(f\"Class {col}: Max value = {max_value}, Feature number = {max_row}\")"
   ]
  },
  {
   "cell_type": "code",
   "execution_count": 9,
   "metadata": {},
   "outputs": [
    {
     "name": "stderr",
     "output_type": "stream",
     "text": [
      "Loaded model from AnnexML/iaprtc12_model.bin\n",
      "Total: 114.37 MB => labels: 0.55 MB, partitioning: 0.49 MB, embedding: 113.33 MB (matrix: 21.47 MB, embed: 90.44 MB) \n",
      "num_edge: 10, search_eps: 0.500000\n",
      "Build SearchIndex done! (14.92 sec, 23.33 MB)\n",
      "Load Predict Data: #data=1 #feature=2048 #label=0\n",
      "Done!\n",
      "Elapsed: 0.0250 sec, 24.9770 msec/sample (* 12 threads = 299.7236 msec/sample)\n",
      "Partitioning: 0.0029 sec, Embedding: 0.0218 sec, Aggregating: 0.0002 sec\n",
      "/tmp/ipykernel_5547/2613537384.py:32: FutureWarning: The behavior of DataFrame concatenation with empty or all-NA entries is deprecated. In a future version, this will no longer exclude empty or all-NA columns when determining the result dtypes. To retain the old behavior, exclude the relevant entries before the concat operation.\n",
      "  predictions_df = pd.concat([predictions_df, pd.DataFrame(pred_xi, columns=df_columns)], ignore_index=True)\n",
      "Loaded model from AnnexML/iaprtc12_model.bin\n",
      "Total: 114.37 MB => labels: 0.55 MB, partitioning: 0.49 MB, embedding: 113.33 MB (matrix: 21.47 MB, embed: 90.44 MB) \n",
      "num_edge: 10, search_eps: 0.500000\n",
      "Build SearchIndex done! (15.20 sec, 23.33 MB)\n",
      "Load Predict Data: #data=1 #feature=2048 #label=0\n",
      "Done!\n",
      "Elapsed: 0.0072 sec, 7.2470 msec/sample (* 12 threads = 86.9637 msec/sample)\n",
      "Partitioning: 0.0024 sec, Embedding: 0.0047 sec, Aggregating: 0.0001 sec\n"
     ]
    },
    {
     "name": "stdout",
     "output_type": "stream",
     "text": [
      "Step 1: Nonzero attributions count = 38912\n"
     ]
    },
    {
     "name": "stderr",
     "output_type": "stream",
     "text": [
      "Loaded model from AnnexML/iaprtc12_model.bin\n",
      "Total: 114.37 MB => labels: 0.55 MB, partitioning: 0.49 MB, embedding: 113.33 MB (matrix: 21.47 MB, embed: 90.44 MB) \n",
      "num_edge: 10, search_eps: 0.500000\n",
      "Build SearchIndex done! (14.95 sec, 23.33 MB)\n",
      "Load Predict Data: #data=1 #feature=2048 #label=0\n",
      "Done!\n",
      "Elapsed: 0.0083 sec, 8.3220 msec/sample (* 12 threads = 99.8640 msec/sample)\n",
      "Partitioning: 0.0027 sec, Embedding: 0.0056 sec, Aggregating: 0.0001 sec\n"
     ]
    },
    {
     "name": "stdout",
     "output_type": "stream",
     "text": [
      "Step 2: Nonzero attributions count = 38912\n"
     ]
    },
    {
     "name": "stderr",
     "output_type": "stream",
     "text": [
      "Loaded model from AnnexML/iaprtc12_model.bin\n",
      "Total: 114.37 MB => labels: 0.55 MB, partitioning: 0.49 MB, embedding: 113.33 MB (matrix: 21.47 MB, embed: 90.44 MB) \n",
      "num_edge: 10, search_eps: 0.500000\n",
      "Build SearchIndex done! (15.20 sec, 23.33 MB)\n",
      "Load Predict Data: #data=1 #feature=2048 #label=0\n",
      "Done!\n",
      "Elapsed: 0.0082 sec, 8.2171 msec/sample (* 12 threads = 98.6052 msec/sample)\n",
      "Partitioning: 0.0029 sec, Embedding: 0.0051 sec, Aggregating: 0.0002 sec\n"
     ]
    },
    {
     "name": "stdout",
     "output_type": "stream",
     "text": [
      "Step 3: Nonzero attributions count = 38912\n"
     ]
    },
    {
     "name": "stderr",
     "output_type": "stream",
     "text": [
      "Loaded model from AnnexML/iaprtc12_model.bin\n",
      "Total: 114.37 MB => labels: 0.55 MB, partitioning: 0.49 MB, embedding: 113.33 MB (matrix: 21.47 MB, embed: 90.44 MB) \n",
      "num_edge: 10, search_eps: 0.500000\n",
      "Build SearchIndex done! (15.07 sec, 23.33 MB)\n",
      "Load Predict Data: #data=1 #feature=2048 #label=0\n",
      "Done!\n",
      "Elapsed: 0.0080 sec, 8.0221 msec/sample (* 12 threads = 96.2648 msec/sample)\n",
      "Partitioning: 0.0025 sec, Embedding: 0.0052 sec, Aggregating: 0.0003 sec\n"
     ]
    },
    {
     "name": "stdout",
     "output_type": "stream",
     "text": [
      "Step 4: Nonzero attributions count = 38912\n"
     ]
    },
    {
     "name": "stderr",
     "output_type": "stream",
     "text": [
      "Loaded model from AnnexML/iaprtc12_model.bin\n",
      "Total: 114.37 MB => labels: 0.55 MB, partitioning: 0.49 MB, embedding: 113.33 MB (matrix: 21.47 MB, embed: 90.44 MB) \n",
      "num_edge: 10, search_eps: 0.500000\n",
      "Build SearchIndex done! (15.11 sec, 23.33 MB)\n",
      "Load Predict Data: #data=1 #feature=2048 #label=0\n",
      "Done!\n",
      "Elapsed: 0.0078 sec, 7.7541 msec/sample (* 12 threads = 93.0490 msec/sample)\n",
      "Partitioning: 0.0027 sec, Embedding: 0.0048 sec, Aggregating: 0.0002 sec\n"
     ]
    },
    {
     "name": "stdout",
     "output_type": "stream",
     "text": [
      "Step 5: Nonzero attributions count = 38912\n"
     ]
    },
    {
     "name": "stderr",
     "output_type": "stream",
     "text": [
      "Loaded model from AnnexML/iaprtc12_model.bin\n",
      "Total: 114.37 MB => labels: 0.55 MB, partitioning: 0.49 MB, embedding: 113.33 MB (matrix: 21.47 MB, embed: 90.44 MB) \n",
      "num_edge: 10, search_eps: 0.500000\n",
      "Build SearchIndex done! (15.00 sec, 23.33 MB)\n",
      "Load Predict Data: #data=1 #feature=2048 #label=0\n",
      "Done!\n",
      "Elapsed: 0.0079 sec, 7.9300 msec/sample (* 12 threads = 95.1605 msec/sample)\n",
      "Partitioning: 0.0023 sec, Embedding: 0.0054 sec, Aggregating: 0.0002 sec\n"
     ]
    },
    {
     "name": "stdout",
     "output_type": "stream",
     "text": [
      "Step 6: Nonzero attributions count = 38912\n"
     ]
    },
    {
     "name": "stderr",
     "output_type": "stream",
     "text": [
      "Loaded model from AnnexML/iaprtc12_model.bin\n",
      "Total: 114.37 MB => labels: 0.55 MB, partitioning: 0.49 MB, embedding: 113.33 MB (matrix: 21.47 MB, embed: 90.44 MB) \n",
      "num_edge: 10, search_eps: 0.500000\n",
      "Build SearchIndex done! (16.30 sec, 23.33 MB)\n",
      "Load Predict Data: #data=1 #feature=2048 #label=0\n",
      "Done!\n",
      "Elapsed: 0.0084 sec, 8.4369 msec/sample (* 12 threads = 101.2430 msec/sample)\n",
      "Partitioning: 0.0024 sec, Embedding: 0.0058 sec, Aggregating: 0.0002 sec\n"
     ]
    },
    {
     "name": "stdout",
     "output_type": "stream",
     "text": [
      "Step 7: Nonzero attributions count = 38912\n"
     ]
    },
    {
     "name": "stderr",
     "output_type": "stream",
     "text": [
      "Loaded model from AnnexML/iaprtc12_model.bin\n",
      "Total: 114.37 MB => labels: 0.55 MB, partitioning: 0.49 MB, embedding: 113.33 MB (matrix: 21.47 MB, embed: 90.44 MB) \n",
      "num_edge: 10, search_eps: 0.500000\n",
      "Build SearchIndex done! (14.90 sec, 23.33 MB)\n",
      "Load Predict Data: #data=1 #feature=2048 #label=0\n",
      "Done!\n",
      "Elapsed: 0.0081 sec, 8.0562 msec/sample (* 12 threads = 96.6740 msec/sample)\n",
      "Partitioning: 0.0032 sec, Embedding: 0.0046 sec, Aggregating: 0.0003 sec\n"
     ]
    },
    {
     "name": "stdout",
     "output_type": "stream",
     "text": [
      "Step 8: Nonzero attributions count = 38912\n"
     ]
    },
    {
     "name": "stderr",
     "output_type": "stream",
     "text": [
      "Loaded model from AnnexML/iaprtc12_model.bin\n",
      "Total: 114.37 MB => labels: 0.55 MB, partitioning: 0.49 MB, embedding: 113.33 MB (matrix: 21.47 MB, embed: 90.44 MB) \n",
      "num_edge: 10, search_eps: 0.500000\n",
      "Build SearchIndex done! (15.58 sec, 23.33 MB)\n",
      "Load Predict Data: #data=1 #feature=2048 #label=0\n",
      "Done!\n",
      "Elapsed: 0.0082 sec, 8.2052 msec/sample (* 12 threads = 98.4621 msec/sample)\n",
      "Partitioning: 0.0027 sec, Embedding: 0.0052 sec, Aggregating: 0.0002 sec\n"
     ]
    },
    {
     "name": "stdout",
     "output_type": "stream",
     "text": [
      "Step 9: Nonzero attributions count = 38912\n"
     ]
    },
    {
     "name": "stderr",
     "output_type": "stream",
     "text": [
      "Loaded model from AnnexML/iaprtc12_model.bin\n",
      "Total: 114.37 MB => labels: 0.55 MB, partitioning: 0.49 MB, embedding: 113.33 MB (matrix: 21.47 MB, embed: 90.44 MB) \n",
      "num_edge: 10, search_eps: 0.500000\n",
      "Build SearchIndex done! (15.97 sec, 23.33 MB)\n",
      "Load Predict Data: #data=1 #feature=2048 #label=0\n",
      "Done!\n",
      "Elapsed: 0.0070 sec, 7.0372 msec/sample (* 12 threads = 84.4460 msec/sample)\n",
      "Partitioning: 0.0019 sec, Embedding: 0.0049 sec, Aggregating: 0.0002 sec\n"
     ]
    },
    {
     "name": "stdout",
     "output_type": "stream",
     "text": [
      "Step 10: Nonzero attributions count = 38912\n"
     ]
    },
    {
     "name": "stderr",
     "output_type": "stream",
     "text": [
      "Loaded model from AnnexML/iaprtc12_model.bin\n",
      "Total: 114.37 MB => labels: 0.55 MB, partitioning: 0.49 MB, embedding: 113.33 MB (matrix: 21.47 MB, embed: 90.44 MB) \n",
      "num_edge: 10, search_eps: 0.500000\n",
      "Build SearchIndex done! (14.28 sec, 23.33 MB)\n",
      "Load Predict Data: #data=1 #feature=2048 #label=0\n",
      "Done!\n",
      "Elapsed: 0.0075 sec, 7.4699 msec/sample (* 12 threads = 89.6387 msec/sample)\n",
      "Partitioning: 0.0029 sec, Embedding: 0.0041 sec, Aggregating: 0.0004 sec\n"
     ]
    },
    {
     "name": "stdout",
     "output_type": "stream",
     "text": [
      "Step 11: Nonzero attributions count = 38912\n"
     ]
    },
    {
     "name": "stderr",
     "output_type": "stream",
     "text": [
      "Loaded model from AnnexML/iaprtc12_model.bin\n",
      "Total: 114.37 MB => labels: 0.55 MB, partitioning: 0.49 MB, embedding: 113.33 MB (matrix: 21.47 MB, embed: 90.44 MB) \n",
      "num_edge: 10, search_eps: 0.500000\n",
      "Build SearchIndex done! (13.90 sec, 23.33 MB)\n",
      "Load Predict Data: #data=1 #feature=2048 #label=0\n",
      "Done!\n",
      "Elapsed: 0.0082 sec, 8.2481 msec/sample (* 12 threads = 98.9771 msec/sample)\n",
      "Partitioning: 0.0022 sec, Embedding: 0.0059 sec, Aggregating: 0.0002 sec\n"
     ]
    },
    {
     "name": "stdout",
     "output_type": "stream",
     "text": [
      "Step 12: Nonzero attributions count = 38912\n"
     ]
    },
    {
     "name": "stderr",
     "output_type": "stream",
     "text": [
      "Loaded model from AnnexML/iaprtc12_model.bin\n",
      "Total: 114.37 MB => labels: 0.55 MB, partitioning: 0.49 MB, embedding: 113.33 MB (matrix: 21.47 MB, embed: 90.44 MB) \n",
      "num_edge: 10, search_eps: 0.500000\n",
      "Build SearchIndex done! (13.92 sec, 23.33 MB)\n",
      "Load Predict Data: #data=1 #feature=2048 #label=0\n",
      "Done!\n",
      "Elapsed: 0.0082 sec, 8.2462 msec/sample (* 12 threads = 98.9542 msec/sample)\n",
      "Partitioning: 0.0024 sec, Embedding: 0.0057 sec, Aggregating: 0.0002 sec\n"
     ]
    },
    {
     "name": "stdout",
     "output_type": "stream",
     "text": [
      "Step 13: Nonzero attributions count = 38912\n"
     ]
    },
    {
     "name": "stderr",
     "output_type": "stream",
     "text": [
      "Loaded model from AnnexML/iaprtc12_model.bin\n",
      "Total: 114.37 MB => labels: 0.55 MB, partitioning: 0.49 MB, embedding: 113.33 MB (matrix: 21.47 MB, embed: 90.44 MB) \n",
      "num_edge: 10, search_eps: 0.500000\n",
      "Build SearchIndex done! (17.63 sec, 23.33 MB)\n",
      "Load Predict Data: #data=1 #feature=2048 #label=0\n",
      "Done!\n",
      "Elapsed: 0.0071 sec, 7.0651 msec/sample (* 12 threads = 84.7807 msec/sample)\n",
      "Partitioning: 0.0024 sec, Embedding: 0.0045 sec, Aggregating: 0.0001 sec\n"
     ]
    },
    {
     "name": "stdout",
     "output_type": "stream",
     "text": [
      "Step 14: Nonzero attributions count = 38912\n"
     ]
    },
    {
     "name": "stderr",
     "output_type": "stream",
     "text": [
      "Loaded model from AnnexML/iaprtc12_model.bin\n",
      "Total: 114.37 MB => labels: 0.55 MB, partitioning: 0.49 MB, embedding: 113.33 MB (matrix: 21.47 MB, embed: 90.44 MB) \n",
      "num_edge: 10, search_eps: 0.500000\n",
      "Build SearchIndex done! (14.11 sec, 23.33 MB)\n",
      "Load Predict Data: #data=1 #feature=2048 #label=0\n",
      "Done!\n",
      "Elapsed: 0.0073 sec, 7.2680 msec/sample (* 12 threads = 87.2154 msec/sample)\n",
      "Partitioning: 0.0024 sec, Embedding: 0.0046 sec, Aggregating: 0.0002 sec\n"
     ]
    },
    {
     "name": "stdout",
     "output_type": "stream",
     "text": [
      "Step 15: Nonzero attributions count = 38912\n"
     ]
    },
    {
     "name": "stderr",
     "output_type": "stream",
     "text": [
      "Loaded model from AnnexML/iaprtc12_model.bin\n",
      "Total: 114.37 MB => labels: 0.55 MB, partitioning: 0.49 MB, embedding: 113.33 MB (matrix: 21.47 MB, embed: 90.44 MB) \n",
      "num_edge: 10, search_eps: 0.500000\n",
      "Build SearchIndex done! (14.98 sec, 23.33 MB)\n",
      "Load Predict Data: #data=1 #feature=2048 #label=0\n",
      "Done!\n",
      "Elapsed: 0.0109 sec, 10.9282 msec/sample (* 12 threads = 131.1378 msec/sample)\n",
      "Partitioning: 0.0028 sec, Embedding: 0.0078 sec, Aggregating: 0.0003 sec\n"
     ]
    },
    {
     "name": "stdout",
     "output_type": "stream",
     "text": [
      "Step 16: Nonzero attributions count = 38912\n"
     ]
    },
    {
     "name": "stderr",
     "output_type": "stream",
     "text": [
      "Loaded model from AnnexML/iaprtc12_model.bin\n",
      "Total: 114.37 MB => labels: 0.55 MB, partitioning: 0.49 MB, embedding: 113.33 MB (matrix: 21.47 MB, embed: 90.44 MB) \n",
      "num_edge: 10, search_eps: 0.500000\n",
      "Build SearchIndex done! (14.49 sec, 23.33 MB)\n",
      "Load Predict Data: #data=1 #feature=2048 #label=0\n",
      "Done!\n",
      "Elapsed: 0.0072 sec, 7.2479 msec/sample (* 12 threads = 86.9751 msec/sample)\n",
      "Partitioning: 0.0023 sec, Embedding: 0.0048 sec, Aggregating: 0.0002 sec\n"
     ]
    },
    {
     "name": "stdout",
     "output_type": "stream",
     "text": [
      "Step 17: Nonzero attributions count = 38912\n"
     ]
    },
    {
     "name": "stderr",
     "output_type": "stream",
     "text": [
      "Loaded model from AnnexML/iaprtc12_model.bin\n",
      "Total: 114.37 MB => labels: 0.55 MB, partitioning: 0.49 MB, embedding: 113.33 MB (matrix: 21.47 MB, embed: 90.44 MB) \n",
      "num_edge: 10, search_eps: 0.500000\n",
      "Build SearchIndex done! (14.90 sec, 23.33 MB)\n",
      "Load Predict Data: #data=1 #feature=2048 #label=0\n",
      "Done!\n",
      "Elapsed: 0.0067 sec, 6.7461 msec/sample (* 12 threads = 80.9526 msec/sample)\n",
      "Partitioning: 0.0023 sec, Embedding: 0.0042 sec, Aggregating: 0.0002 sec\n"
     ]
    },
    {
     "name": "stdout",
     "output_type": "stream",
     "text": [
      "Step 18: Nonzero attributions count = 38912\n"
     ]
    },
    {
     "name": "stderr",
     "output_type": "stream",
     "text": [
      "Loaded model from AnnexML/iaprtc12_model.bin\n",
      "Total: 114.37 MB => labels: 0.55 MB, partitioning: 0.49 MB, embedding: 113.33 MB (matrix: 21.47 MB, embed: 90.44 MB) \n",
      "num_edge: 10, search_eps: 0.500000\n",
      "Build SearchIndex done! (15.81 sec, 23.33 MB)\n",
      "Load Predict Data: #data=1 #feature=2048 #label=0\n",
      "Done!\n",
      "Elapsed: 0.0073 sec, 7.3490 msec/sample (* 12 threads = 88.1882 msec/sample)\n",
      "Partitioning: 0.0023 sec, Embedding: 0.0048 sec, Aggregating: 0.0002 sec\n"
     ]
    },
    {
     "name": "stdout",
     "output_type": "stream",
     "text": [
      "Step 19: Nonzero attributions count = 38912\n"
     ]
    },
    {
     "name": "stderr",
     "output_type": "stream",
     "text": [
      "Loaded model from AnnexML/iaprtc12_model.bin\n",
      "Total: 114.37 MB => labels: 0.55 MB, partitioning: 0.49 MB, embedding: 113.33 MB (matrix: 21.47 MB, embed: 90.44 MB) \n",
      "num_edge: 10, search_eps: 0.500000\n",
      "Build SearchIndex done! (15.38 sec, 23.33 MB)\n",
      "Load Predict Data: #data=1 #feature=2048 #label=0\n",
      "Done!\n",
      "Elapsed: 0.0077 sec, 7.6518 msec/sample (* 12 threads = 91.8217 msec/sample)\n",
      "Partitioning: 0.0024 sec, Embedding: 0.0052 sec, Aggregating: 0.0001 sec\n"
     ]
    },
    {
     "name": "stdout",
     "output_type": "stream",
     "text": [
      "Step 20: Nonzero attributions count = 38912\n"
     ]
    },
    {
     "name": "stderr",
     "output_type": "stream",
     "text": [
      "Loaded model from AnnexML/iaprtc12_model.bin\n",
      "Total: 114.37 MB => labels: 0.55 MB, partitioning: 0.49 MB, embedding: 113.33 MB (matrix: 21.47 MB, embed: 90.44 MB) \n",
      "num_edge: 10, search_eps: 0.500000\n",
      "Build SearchIndex done! (14.60 sec, 23.33 MB)\n",
      "Load Predict Data: #data=1 #feature=2048 #label=0\n",
      "Done!\n",
      "Elapsed: 0.0080 sec, 7.9980 msec/sample (* 12 threads = 95.9759 msec/sample)\n",
      "Partitioning: 0.0024 sec, Embedding: 0.0053 sec, Aggregating: 0.0002 sec\n"
     ]
    },
    {
     "name": "stdout",
     "output_type": "stream",
     "text": [
      "Step 21: Nonzero attributions count = 38912\n"
     ]
    },
    {
     "name": "stderr",
     "output_type": "stream",
     "text": [
      "Loaded model from AnnexML/iaprtc12_model.bin\n",
      "Total: 114.37 MB => labels: 0.55 MB, partitioning: 0.49 MB, embedding: 113.33 MB (matrix: 21.47 MB, embed: 90.44 MB) \n",
      "num_edge: 10, search_eps: 0.500000\n",
      "Build SearchIndex done! (16.50 sec, 23.33 MB)\n",
      "Load Predict Data: #data=1 #feature=2048 #label=0\n",
      "Done!\n",
      "Elapsed: 0.0074 sec, 7.3612 msec/sample (* 12 threads = 88.3341 msec/sample)\n",
      "Partitioning: 0.0026 sec, Embedding: 0.0047 sec, Aggregating: 0.0001 sec\n"
     ]
    },
    {
     "name": "stdout",
     "output_type": "stream",
     "text": [
      "Step 22: Nonzero attributions count = 38912\n"
     ]
    },
    {
     "name": "stderr",
     "output_type": "stream",
     "text": [
      "Loaded model from AnnexML/iaprtc12_model.bin\n",
      "Total: 114.37 MB => labels: 0.55 MB, partitioning: 0.49 MB, embedding: 113.33 MB (matrix: 21.47 MB, embed: 90.44 MB) \n",
      "num_edge: 10, search_eps: 0.500000\n",
      "Build SearchIndex done! (14.63 sec, 23.33 MB)\n",
      "Load Predict Data: #data=1 #feature=2048 #label=0\n",
      "Done!\n",
      "Elapsed: 0.0073 sec, 7.3092 msec/sample (* 12 threads = 87.7104 msec/sample)\n",
      "Partitioning: 0.0028 sec, Embedding: 0.0043 sec, Aggregating: 0.0002 sec\n"
     ]
    },
    {
     "name": "stdout",
     "output_type": "stream",
     "text": [
      "Step 23: Nonzero attributions count = 38912\n"
     ]
    },
    {
     "name": "stderr",
     "output_type": "stream",
     "text": [
      "Loaded model from AnnexML/iaprtc12_model.bin\n",
      "Total: 114.37 MB => labels: 0.55 MB, partitioning: 0.49 MB, embedding: 113.33 MB (matrix: 21.47 MB, embed: 90.44 MB) \n",
      "num_edge: 10, search_eps: 0.500000\n",
      "Build SearchIndex done! (18.12 sec, 23.33 MB)\n",
      "Load Predict Data: #data=1 #feature=2048 #label=0\n",
      "Done!\n",
      "Elapsed: 0.0080 sec, 7.9889 msec/sample (* 12 threads = 95.8672 msec/sample)\n",
      "Partitioning: 0.0023 sec, Embedding: 0.0054 sec, Aggregating: 0.0002 sec\n"
     ]
    },
    {
     "name": "stdout",
     "output_type": "stream",
     "text": [
      "Step 24: Nonzero attributions count = 38912\n"
     ]
    },
    {
     "name": "stderr",
     "output_type": "stream",
     "text": [
      "Loaded model from AnnexML/iaprtc12_model.bin\n",
      "Total: 114.37 MB => labels: 0.55 MB, partitioning: 0.49 MB, embedding: 113.33 MB (matrix: 21.47 MB, embed: 90.44 MB) \n",
      "num_edge: 10, search_eps: 0.500000\n",
      "Build SearchIndex done! (14.12 sec, 23.33 MB)\n",
      "Load Predict Data: #data=1 #feature=2048 #label=0\n",
      "Done!\n",
      "Elapsed: 0.0070 sec, 6.9761 msec/sample (* 12 threads = 83.7135 msec/sample)\n",
      "Partitioning: 0.0022 sec, Embedding: 0.0045 sec, Aggregating: 0.0003 sec\n"
     ]
    },
    {
     "name": "stdout",
     "output_type": "stream",
     "text": [
      "Step 25: Nonzero attributions count = 38912\n"
     ]
    },
    {
     "name": "stderr",
     "output_type": "stream",
     "text": [
      "Loaded model from AnnexML/iaprtc12_model.bin\n",
      "Total: 114.37 MB => labels: 0.55 MB, partitioning: 0.49 MB, embedding: 113.33 MB (matrix: 21.47 MB, embed: 90.44 MB) \n",
      "num_edge: 10, search_eps: 0.500000\n",
      "Build SearchIndex done! (16.06 sec, 23.33 MB)\n",
      "Load Predict Data: #data=1 #feature=2048 #label=0\n",
      "Done!\n",
      "Elapsed: 0.0079 sec, 7.8990 msec/sample (* 12 threads = 94.7886 msec/sample)\n",
      "Partitioning: 0.0026 sec, Embedding: 0.0051 sec, Aggregating: 0.0002 sec\n"
     ]
    },
    {
     "name": "stdout",
     "output_type": "stream",
     "text": [
      "Step 26: Nonzero attributions count = 38912\n"
     ]
    },
    {
     "name": "stderr",
     "output_type": "stream",
     "text": [
      "Loaded model from AnnexML/iaprtc12_model.bin\n",
      "Total: 114.37 MB => labels: 0.55 MB, partitioning: 0.49 MB, embedding: 113.33 MB (matrix: 21.47 MB, embed: 90.44 MB) \n",
      "num_edge: 10, search_eps: 0.500000\n",
      "Build SearchIndex done! (16.67 sec, 23.33 MB)\n",
      "Load Predict Data: #data=1 #feature=2048 #label=0\n",
      "Done!\n",
      "Elapsed: 0.0076 sec, 7.5610 msec/sample (* 12 threads = 90.7316 msec/sample)\n",
      "Partitioning: 0.0022 sec, Embedding: 0.0051 sec, Aggregating: 0.0002 sec\n"
     ]
    },
    {
     "name": "stdout",
     "output_type": "stream",
     "text": [
      "Step 27: Nonzero attributions count = 38912\n"
     ]
    },
    {
     "name": "stderr",
     "output_type": "stream",
     "text": [
      "Loaded model from AnnexML/iaprtc12_model.bin\n",
      "Total: 114.37 MB => labels: 0.55 MB, partitioning: 0.49 MB, embedding: 113.33 MB (matrix: 21.47 MB, embed: 90.44 MB) \n",
      "num_edge: 10, search_eps: 0.500000\n",
      "Build SearchIndex done! (15.14 sec, 23.33 MB)\n",
      "Load Predict Data: #data=1 #feature=2048 #label=0\n",
      "Done!\n",
      "Elapsed: 0.0059 sec, 5.9369 msec/sample (* 12 threads = 71.2423 msec/sample)\n",
      "Partitioning: 0.0022 sec, Embedding: 0.0035 sec, Aggregating: 0.0003 sec\n"
     ]
    },
    {
     "name": "stdout",
     "output_type": "stream",
     "text": [
      "Step 28: Nonzero attributions count = 38912\n"
     ]
    },
    {
     "name": "stderr",
     "output_type": "stream",
     "text": [
      "Loaded model from AnnexML/iaprtc12_model.bin\n",
      "Total: 114.37 MB => labels: 0.55 MB, partitioning: 0.49 MB, embedding: 113.33 MB (matrix: 21.47 MB, embed: 90.44 MB) \n",
      "num_edge: 10, search_eps: 0.500000\n",
      "Build SearchIndex done! (15.88 sec, 23.33 MB)\n",
      "Load Predict Data: #data=1 #feature=2048 #label=0\n",
      "Done!\n",
      "Elapsed: 0.0073 sec, 7.3299 msec/sample (* 12 threads = 87.9593 msec/sample)\n",
      "Partitioning: 0.0023 sec, Embedding: 0.0048 sec, Aggregating: 0.0002 sec\n"
     ]
    },
    {
     "name": "stdout",
     "output_type": "stream",
     "text": [
      "Step 29: Nonzero attributions count = 38912\n"
     ]
    },
    {
     "name": "stderr",
     "output_type": "stream",
     "text": [
      "Loaded model from AnnexML/iaprtc12_model.bin\n",
      "Total: 114.37 MB => labels: 0.55 MB, partitioning: 0.49 MB, embedding: 113.33 MB (matrix: 21.47 MB, embed: 90.44 MB) \n",
      "num_edge: 10, search_eps: 0.500000\n",
      "Build SearchIndex done! (15.48 sec, 23.33 MB)\n",
      "Load Predict Data: #data=1 #feature=2048 #label=0\n",
      "Done!\n",
      "Elapsed: 0.0080 sec, 8.0450 msec/sample (* 12 threads = 96.5395 msec/sample)\n",
      "Partitioning: 0.0027 sec, Embedding: 0.0050 sec, Aggregating: 0.0003 sec\n"
     ]
    },
    {
     "name": "stdout",
     "output_type": "stream",
     "text": [
      "Step 30: Nonzero attributions count = 38912\n"
     ]
    },
    {
     "name": "stderr",
     "output_type": "stream",
     "text": [
      "Loaded model from AnnexML/iaprtc12_model.bin\n",
      "Total: 114.37 MB => labels: 0.55 MB, partitioning: 0.49 MB, embedding: 113.33 MB (matrix: 21.47 MB, embed: 90.44 MB) \n",
      "num_edge: 10, search_eps: 0.500000\n",
      "Build SearchIndex done! (14.37 sec, 23.33 MB)\n",
      "Load Predict Data: #data=1 #feature=2048 #label=0\n",
      "Done!\n",
      "Elapsed: 0.0076 sec, 7.6239 msec/sample (* 12 threads = 91.4869 msec/sample)\n",
      "Partitioning: 0.0020 sec, Embedding: 0.0052 sec, Aggregating: 0.0004 sec\n"
     ]
    },
    {
     "name": "stdout",
     "output_type": "stream",
     "text": [
      "Step 31: Nonzero attributions count = 38912\n"
     ]
    },
    {
     "name": "stderr",
     "output_type": "stream",
     "text": [
      "Loaded model from AnnexML/iaprtc12_model.bin\n",
      "Total: 114.37 MB => labels: 0.55 MB, partitioning: 0.49 MB, embedding: 113.33 MB (matrix: 21.47 MB, embed: 90.44 MB) \n",
      "num_edge: 10, search_eps: 0.500000\n",
      "Build SearchIndex done! (14.78 sec, 23.33 MB)\n",
      "Load Predict Data: #data=1 #feature=2048 #label=0\n",
      "Done!\n",
      "Elapsed: 0.0073 sec, 7.3261 msec/sample (* 12 threads = 87.9135 msec/sample)\n",
      "Partitioning: 0.0029 sec, Embedding: 0.0040 sec, Aggregating: 0.0004 sec\n"
     ]
    },
    {
     "name": "stdout",
     "output_type": "stream",
     "text": [
      "Step 32: Nonzero attributions count = 38912\n"
     ]
    },
    {
     "name": "stderr",
     "output_type": "stream",
     "text": [
      "Loaded model from AnnexML/iaprtc12_model.bin\n",
      "Total: 114.37 MB => labels: 0.55 MB, partitioning: 0.49 MB, embedding: 113.33 MB (matrix: 21.47 MB, embed: 90.44 MB) \n",
      "num_edge: 10, search_eps: 0.500000\n",
      "Build SearchIndex done! (16.21 sec, 23.33 MB)\n",
      "Load Predict Data: #data=1 #feature=2048 #label=0\n",
      "Done!\n",
      "Elapsed: 0.0081 sec, 8.1310 msec/sample (* 12 threads = 97.5723 msec/sample)\n",
      "Partitioning: 0.0027 sec, Embedding: 0.0045 sec, Aggregating: 0.0010 sec\n"
     ]
    },
    {
     "name": "stdout",
     "output_type": "stream",
     "text": [
      "Step 33: Nonzero attributions count = 38912\n"
     ]
    },
    {
     "name": "stderr",
     "output_type": "stream",
     "text": [
      "Loaded model from AnnexML/iaprtc12_model.bin\n",
      "Total: 114.37 MB => labels: 0.55 MB, partitioning: 0.49 MB, embedding: 113.33 MB (matrix: 21.47 MB, embed: 90.44 MB) \n",
      "num_edge: 10, search_eps: 0.500000\n",
      "Build SearchIndex done! (17.73 sec, 23.33 MB)\n",
      "Load Predict Data: #data=1 #feature=2048 #label=0\n",
      "Done!\n",
      "Elapsed: 0.0106 sec, 10.5689 msec/sample (* 12 threads = 126.8263 msec/sample)\n",
      "Partitioning: 0.0027 sec, Embedding: 0.0076 sec, Aggregating: 0.0002 sec\n"
     ]
    },
    {
     "name": "stdout",
     "output_type": "stream",
     "text": [
      "Step 34: Nonzero attributions count = 38912\n"
     ]
    },
    {
     "name": "stderr",
     "output_type": "stream",
     "text": [
      "Loaded model from AnnexML/iaprtc12_model.bin\n",
      "Total: 114.37 MB => labels: 0.55 MB, partitioning: 0.49 MB, embedding: 113.33 MB (matrix: 21.47 MB, embed: 90.44 MB) \n",
      "num_edge: 10, search_eps: 0.500000\n",
      "Build SearchIndex done! (16.01 sec, 23.33 MB)\n",
      "Load Predict Data: #data=1 #feature=2048 #label=0\n",
      "Done!\n",
      "Elapsed: 0.0072 sec, 7.2041 msec/sample (* 12 threads = 86.4487 msec/sample)\n",
      "Partitioning: 0.0021 sec, Embedding: 0.0046 sec, Aggregating: 0.0005 sec\n"
     ]
    },
    {
     "name": "stdout",
     "output_type": "stream",
     "text": [
      "Step 35: Nonzero attributions count = 38912\n"
     ]
    },
    {
     "name": "stderr",
     "output_type": "stream",
     "text": [
      "Loaded model from AnnexML/iaprtc12_model.bin\n",
      "Total: 114.37 MB => labels: 0.55 MB, partitioning: 0.49 MB, embedding: 113.33 MB (matrix: 21.47 MB, embed: 90.44 MB) \n",
      "num_edge: 10, search_eps: 0.500000\n",
      "Build SearchIndex done! (16.59 sec, 23.33 MB)\n",
      "Load Predict Data: #data=1 #feature=2048 #label=0\n",
      "Done!\n",
      "Elapsed: 0.0093 sec, 9.2790 msec/sample (* 12 threads = 111.3482 msec/sample)\n",
      "Partitioning: 0.0035 sec, Embedding: 0.0053 sec, Aggregating: 0.0004 sec\n"
     ]
    },
    {
     "name": "stdout",
     "output_type": "stream",
     "text": [
      "Step 36: Nonzero attributions count = 38912\n"
     ]
    },
    {
     "name": "stderr",
     "output_type": "stream",
     "text": [
      "Loaded model from AnnexML/iaprtc12_model.bin\n",
      "Total: 114.37 MB => labels: 0.55 MB, partitioning: 0.49 MB, embedding: 113.33 MB (matrix: 21.47 MB, embed: 90.44 MB) \n",
      "num_edge: 10, search_eps: 0.500000\n",
      "Build SearchIndex done! (16.41 sec, 23.33 MB)\n",
      "Load Predict Data: #data=1 #feature=2048 #label=0\n",
      "Done!\n",
      "Elapsed: 0.0070 sec, 7.0040 msec/sample (* 12 threads = 84.0483 msec/sample)\n",
      "Partitioning: 0.0024 sec, Embedding: 0.0044 sec, Aggregating: 0.0002 sec\n"
     ]
    },
    {
     "name": "stdout",
     "output_type": "stream",
     "text": [
      "Step 37: Nonzero attributions count = 38912\n"
     ]
    },
    {
     "name": "stderr",
     "output_type": "stream",
     "text": [
      "Loaded model from AnnexML/iaprtc12_model.bin\n",
      "Total: 114.37 MB => labels: 0.55 MB, partitioning: 0.49 MB, embedding: 113.33 MB (matrix: 21.47 MB, embed: 90.44 MB) \n",
      "num_edge: 10, search_eps: 0.500000\n",
      "Build SearchIndex done! (15.03 sec, 23.33 MB)\n",
      "Load Predict Data: #data=1 #feature=2048 #label=0\n",
      "Done!\n",
      "Elapsed: 0.0079 sec, 7.8902 msec/sample (* 12 threads = 94.6827 msec/sample)\n",
      "Partitioning: 0.0031 sec, Embedding: 0.0046 sec, Aggregating: 0.0002 sec\n"
     ]
    },
    {
     "name": "stdout",
     "output_type": "stream",
     "text": [
      "Step 38: Nonzero attributions count = 38912\n"
     ]
    },
    {
     "name": "stderr",
     "output_type": "stream",
     "text": [
      "Loaded model from AnnexML/iaprtc12_model.bin\n",
      "Total: 114.37 MB => labels: 0.55 MB, partitioning: 0.49 MB, embedding: 113.33 MB (matrix: 21.47 MB, embed: 90.44 MB) \n",
      "num_edge: 10, search_eps: 0.500000\n",
      "Build SearchIndex done! (16.09 sec, 23.33 MB)\n",
      "Load Predict Data: #data=1 #feature=2048 #label=0\n",
      "Done!\n",
      "Elapsed: 0.0086 sec, 8.6129 msec/sample (* 12 threads = 103.3545 msec/sample)\n",
      "Partitioning: 0.0025 sec, Embedding: 0.0056 sec, Aggregating: 0.0004 sec\n"
     ]
    },
    {
     "name": "stdout",
     "output_type": "stream",
     "text": [
      "Step 39: Nonzero attributions count = 38912\n"
     ]
    },
    {
     "name": "stderr",
     "output_type": "stream",
     "text": [
      "Loaded model from AnnexML/iaprtc12_model.bin\n",
      "Total: 114.37 MB => labels: 0.55 MB, partitioning: 0.49 MB, embedding: 113.33 MB (matrix: 21.47 MB, embed: 90.44 MB) \n",
      "num_edge: 10, search_eps: 0.500000\n",
      "Build SearchIndex done! (16.75 sec, 23.33 MB)\n",
      "Load Predict Data: #data=1 #feature=2048 #label=0\n",
      "Done!\n",
      "Elapsed: 0.0070 sec, 6.9551 msec/sample (* 12 threads = 83.4618 msec/sample)\n",
      "Partitioning: 0.0023 sec, Embedding: 0.0043 sec, Aggregating: 0.0004 sec\n"
     ]
    },
    {
     "name": "stdout",
     "output_type": "stream",
     "text": [
      "Step 40: Nonzero attributions count = 38912\n"
     ]
    },
    {
     "name": "stderr",
     "output_type": "stream",
     "text": [
      "Loaded model from AnnexML/iaprtc12_model.bin\n",
      "Total: 114.37 MB => labels: 0.55 MB, partitioning: 0.49 MB, embedding: 113.33 MB (matrix: 21.47 MB, embed: 90.44 MB) \n",
      "num_edge: 10, search_eps: 0.500000\n",
      "Build SearchIndex done! (16.78 sec, 23.33 MB)\n",
      "Load Predict Data: #data=1 #feature=2048 #label=0\n",
      "Done!\n",
      "Elapsed: 0.0090 sec, 8.9512 msec/sample (* 12 threads = 107.4142 msec/sample)\n",
      "Partitioning: 0.0025 sec, Embedding: 0.0060 sec, Aggregating: 0.0003 sec\n"
     ]
    },
    {
     "name": "stdout",
     "output_type": "stream",
     "text": [
      "Step 41: Nonzero attributions count = 38912\n"
     ]
    },
    {
     "name": "stderr",
     "output_type": "stream",
     "text": [
      "Loaded model from AnnexML/iaprtc12_model.bin\n",
      "Total: 114.37 MB => labels: 0.55 MB, partitioning: 0.49 MB, embedding: 113.33 MB (matrix: 21.47 MB, embed: 90.44 MB) \n",
      "num_edge: 10, search_eps: 0.500000\n",
      "Build SearchIndex done! (16.84 sec, 23.33 MB)\n",
      "Load Predict Data: #data=1 #feature=2048 #label=0\n",
      "Done!\n",
      "Elapsed: 0.0074 sec, 7.4050 msec/sample (* 12 threads = 88.8605 msec/sample)\n",
      "Partitioning: 0.0023 sec, Embedding: 0.0049 sec, Aggregating: 0.0002 sec\n"
     ]
    },
    {
     "name": "stdout",
     "output_type": "stream",
     "text": [
      "Step 42: Nonzero attributions count = 38912\n"
     ]
    },
    {
     "name": "stderr",
     "output_type": "stream",
     "text": [
      "Loaded model from AnnexML/iaprtc12_model.bin\n",
      "Total: 114.37 MB => labels: 0.55 MB, partitioning: 0.49 MB, embedding: 113.33 MB (matrix: 21.47 MB, embed: 90.44 MB) \n",
      "num_edge: 10, search_eps: 0.500000\n",
      "Build SearchIndex done! (15.37 sec, 23.33 MB)\n",
      "Load Predict Data: #data=1 #feature=2048 #label=0\n",
      "Done!\n",
      "Elapsed: 0.0083 sec, 8.3210 msec/sample (* 12 threads = 99.8526 msec/sample)\n",
      "Partitioning: 0.0022 sec, Embedding: 0.0059 sec, Aggregating: 0.0002 sec\n"
     ]
    },
    {
     "name": "stdout",
     "output_type": "stream",
     "text": [
      "Step 43: Nonzero attributions count = 38912\n"
     ]
    },
    {
     "name": "stderr",
     "output_type": "stream",
     "text": [
      "Loaded model from AnnexML/iaprtc12_model.bin\n",
      "Total: 114.37 MB => labels: 0.55 MB, partitioning: 0.49 MB, embedding: 113.33 MB (matrix: 21.47 MB, embed: 90.44 MB) \n",
      "num_edge: 10, search_eps: 0.500000\n",
      "Build SearchIndex done! (16.64 sec, 23.33 MB)\n",
      "Load Predict Data: #data=1 #feature=2048 #label=0\n",
      "Done!\n",
      "Elapsed: 0.0070 sec, 7.0422 msec/sample (* 12 threads = 84.5060 msec/sample)\n",
      "Partitioning: 0.0023 sec, Embedding: 0.0046 sec, Aggregating: 0.0001 sec\n"
     ]
    },
    {
     "name": "stdout",
     "output_type": "stream",
     "text": [
      "Step 44: Nonzero attributions count = 38912\n"
     ]
    },
    {
     "name": "stderr",
     "output_type": "stream",
     "text": [
      "Loaded model from AnnexML/iaprtc12_model.bin\n",
      "Total: 114.37 MB => labels: 0.55 MB, partitioning: 0.49 MB, embedding: 113.33 MB (matrix: 21.47 MB, embed: 90.44 MB) \n",
      "num_edge: 10, search_eps: 0.500000\n",
      "Build SearchIndex done! (17.79 sec, 23.33 MB)\n",
      "Load Predict Data: #data=1 #feature=2048 #label=0\n",
      "Done!\n",
      "Elapsed: 0.0075 sec, 7.4739 msec/sample (* 12 threads = 89.6873 msec/sample)\n",
      "Partitioning: 0.0023 sec, Embedding: 0.0048 sec, Aggregating: 0.0002 sec\n"
     ]
    },
    {
     "name": "stdout",
     "output_type": "stream",
     "text": [
      "Step 45: Nonzero attributions count = 38912\n"
     ]
    },
    {
     "name": "stderr",
     "output_type": "stream",
     "text": [
      "Loaded model from AnnexML/iaprtc12_model.bin\n",
      "Total: 114.37 MB => labels: 0.55 MB, partitioning: 0.49 MB, embedding: 113.33 MB (matrix: 21.47 MB, embed: 90.44 MB) \n",
      "num_edge: 10, search_eps: 0.500000\n",
      "Build SearchIndex done! (16.16 sec, 23.33 MB)\n",
      "Load Predict Data: #data=1 #feature=2048 #label=0\n",
      "Done!\n",
      "Elapsed: 0.0081 sec, 8.0872 msec/sample (* 12 threads = 97.0459 msec/sample)\n",
      "Partitioning: 0.0025 sec, Embedding: 0.0052 sec, Aggregating: 0.0003 sec\n"
     ]
    },
    {
     "name": "stdout",
     "output_type": "stream",
     "text": [
      "Step 46: Nonzero attributions count = 38912\n"
     ]
    },
    {
     "name": "stderr",
     "output_type": "stream",
     "text": [
      "Loaded model from AnnexML/iaprtc12_model.bin\n",
      "Total: 114.37 MB => labels: 0.55 MB, partitioning: 0.49 MB, embedding: 113.33 MB (matrix: 21.47 MB, embed: 90.44 MB) \n",
      "num_edge: 10, search_eps: 0.500000\n",
      "Build SearchIndex done! (15.73 sec, 23.33 MB)\n",
      "Load Predict Data: #data=1 #feature=2048 #label=0\n",
      "Done!\n",
      "Elapsed: 0.0073 sec, 7.3469 msec/sample (* 12 threads = 88.1624 msec/sample)\n",
      "Partitioning: 0.0027 sec, Embedding: 0.0045 sec, Aggregating: 0.0002 sec\n"
     ]
    },
    {
     "name": "stdout",
     "output_type": "stream",
     "text": [
      "Step 47: Nonzero attributions count = 38912\n"
     ]
    },
    {
     "name": "stderr",
     "output_type": "stream",
     "text": [
      "Loaded model from AnnexML/iaprtc12_model.bin\n",
      "Total: 114.37 MB => labels: 0.55 MB, partitioning: 0.49 MB, embedding: 113.33 MB (matrix: 21.47 MB, embed: 90.44 MB) \n",
      "num_edge: 10, search_eps: 0.500000\n",
      "Build SearchIndex done! (16.71 sec, 23.33 MB)\n",
      "Load Predict Data: #data=1 #feature=2048 #label=0\n",
      "Done!\n",
      "Elapsed: 0.0075 sec, 7.4961 msec/sample (* 12 threads = 89.9534 msec/sample)\n",
      "Partitioning: 0.0022 sec, Embedding: 0.0051 sec, Aggregating: 0.0001 sec\n"
     ]
    },
    {
     "name": "stdout",
     "output_type": "stream",
     "text": [
      "Step 48: Nonzero attributions count = 38912\n"
     ]
    },
    {
     "name": "stderr",
     "output_type": "stream",
     "text": [
      "Loaded model from AnnexML/iaprtc12_model.bin\n",
      "Total: 114.37 MB => labels: 0.55 MB, partitioning: 0.49 MB, embedding: 113.33 MB (matrix: 21.47 MB, embed: 90.44 MB) \n",
      "num_edge: 10, search_eps: 0.500000\n",
      "Build SearchIndex..."
     ]
    },
    {
     "name": "stdout",
     "output_type": "stream",
     "text": [
      "Step 49: Nonzero attributions count = 38912\n"
     ]
    },
    {
     "name": "stderr",
     "output_type": "stream",
     "text": [
      "Build SearchIndex done! (15.86 sec, 23.33 MB)\n",
      "Load Predict Data: #data=1 #feature=2048 #label=0\n",
      "Done!\n",
      "Elapsed: 0.0074 sec, 7.3972 msec/sample (* 12 threads = 88.7661 msec/sample)\n",
      "Partitioning: 0.0021 sec, Embedding: 0.0051 sec, Aggregating: 0.0002 sec\n"
     ]
    }
   ],
   "source": [
    "# Usage example\n",
    "sample_input_1 = X_test_dense[1]  # Pick one test instance\n",
    "example_index = 1 \n",
    "feature_importance_1 = integrated_gradients_annexml(sample_input_1)\n",
    "\n"
   ]
  },
  {
   "cell_type": "code",
   "execution_count": 11,
   "metadata": {},
   "outputs": [
    {
     "name": "stdout",
     "output_type": "stream",
     "text": [
      "Column 13 top three rows with highest values: [2040 1569 1567]\n",
      "Column 52 top three rows with highest values: [1606  373  379]\n",
      "Column 89 top three rows with highest values: [2040 1569 1567]\n",
      "Column 117 top three rows with highest values: [2040 1569 1567]\n",
      "Column 130 top three rows with highest values: [2040 1569 1567]\n",
      "Column 139 top three rows with highest values: [1606  373  379]\n",
      "Column 144 top three rows with highest values: [2040 1569 1567]\n",
      "Column 150 top three rows with highest values: [1606  373  379]\n",
      "Column 160 top three rows with highest values: [1606  373  379]\n",
      "Column 162 top three rows with highest values: [2040 1569 1567]\n",
      "Column 179 top three rows with highest values: [2040 1569 1567]\n",
      "Column 212 top three rows with highest values: [1606  373  379]\n",
      "Column 236 top three rows with highest values: [2040 1569 1567]\n",
      "Column 257 top three rows with highest values: [2040 1569 1567]\n",
      "Column 267 top three rows with highest values: [1606  373  379]\n",
      "Column 272 top three rows with highest values: [1606  373  379]\n",
      "Column 282 top three rows with highest values: [2040 1569 1567]\n",
      "Column 283 top three rows with highest values: [1606  373  379]\n",
      "Column 284 top three rows with highest values: [1606  373  379]\n"
     ]
    }
   ],
   "source": [
    "# Find the column numbers with non-zero values\n",
    "non_zero_columns = np.where(np.any(feature_importance_1 != 0, axis=0))[0]\n",
    "\n",
    "# Dictionary to store the top three rows for each non-zero column\n",
    "top_three_rows_per_column = {}\n",
    "\n",
    "for col in non_zero_columns:\n",
    "    # Get the values in the column\n",
    "    column_values = feature_importance_1[:, col]\n",
    "    \n",
    "    # Get the indices of the top three values\n",
    "    top_three_indices = np.argsort(column_values)[-3:][::-1]\n",
    "    \n",
    "    # Store the top three rows in the dictionary\n",
    "    top_three_rows_per_column[col] = top_three_indices\n",
    "\n",
    "# Print the results\n",
    "for col, rows in top_three_rows_per_column.items():\n",
    "    print(f\"Column {col} top three rows with highest values: {rows}\")"
   ]
  },
  {
   "cell_type": "code",
   "execution_count": 12,
   "metadata": {},
   "outputs": [
    {
     "name": "stdout",
     "output_type": "stream",
     "text": [
      "Classes sorted in descending order based on maximum values:\n",
      "Class 284: Max value = 0.3391313340294602, Feature number = 1606\n",
      "Class 52: Max value = 0.1403302071846042, Feature number = 1606\n",
      "Class 212: Max value = 0.09355347145640282, Feature number = 1606\n",
      "Class 139: Max value = 0.08185928752435245, Feature number = 1606\n",
      "Class 272: Max value = 0.0701651035923021, Feature number = 1606\n",
      "Class 160: Max value = 0.05847091966025176, Feature number = 1606\n",
      "Class 267: Max value = 0.05847091966025176, Feature number = 1606\n",
      "Class 283: Max value = 0.05847091966025176, Feature number = 1606\n",
      "Class 150: Max value = 0.04677673572820141, Feature number = 1606\n",
      "Class 13: Max value = -0.0, Feature number = 9\n",
      "Class 89: Max value = -0.0, Feature number = 9\n",
      "Class 117: Max value = -0.0, Feature number = 9\n",
      "Class 130: Max value = -0.0, Feature number = 9\n",
      "Class 144: Max value = -0.0, Feature number = 9\n",
      "Class 162: Max value = -0.0, Feature number = 9\n",
      "Class 179: Max value = -0.0, Feature number = 9\n",
      "Class 236: Max value = -0.0, Feature number = 9\n",
      "Class 257: Max value = -0.0, Feature number = 9\n",
      "Class 282: Max value = -0.0, Feature number = 9\n"
     ]
    }
   ],
   "source": [
    "# Assuming feature_importance is already defined\n",
    "# feature_importance = ...\n",
    "\n",
    "# Find the column numbers with non-zero values\n",
    "non_zero_columns = np.where(np.any(feature_importance_1 != 0, axis=0))[0]\n",
    "\n",
    "# Dictionary to store the maximum value and its row number for each non-zero column\n",
    "max_value_per_column = {}\n",
    "\n",
    "for col in non_zero_columns:\n",
    "    # Get the values in the column\n",
    "    column_values = feature_importance_1[:, col]\n",
    "    \n",
    "    # Find the maximum value and its row number\n",
    "    max_value = np.max(column_values)\n",
    "    max_row = np.argmax(column_values)\n",
    "    \n",
    "    # Store the maximum value and its row number in the dictionary\n",
    "    max_value_per_column[col] = (max_value, max_row)\n",
    "\n",
    "# Sort the columns in descending order based on the maximum values\n",
    "sorted_columns = sorted(max_value_per_column.items(), key=lambda x: x[1][0], reverse=True)\n",
    "\n",
    "# Print the results\n",
    "print(\"Classes sorted in descending order based on maximum values:\")\n",
    "for col, (max_value, max_row) in sorted_columns:\n",
    "    print(f\"Class {col}: Max value = {max_value}, Feature number = {max_row}\")"
   ]
  },
  {
   "cell_type": "code",
   "execution_count": 13,
   "metadata": {},
   "outputs": [
    {
     "data": {
      "image/png": "[encoded data removed]",
      "text/plain": [
       "<Figure size 1200x600 with 1 Axes>"
      ]
     },
     "metadata": {},
     "output_type": "display_data"
    },
    {
     "name": "stdout",
     "output_type": "stream",
     "text": [
      "Classes sorted in descending order based on maximum values:\n",
      "Class 284: Max value = 0.3391313340294602, Feature number = 1606\n",
      "Class 52: Max value = 0.1403302071846042, Feature number = 1606\n",
      "Class 212: Max value = 0.09355347145640282, Feature number = 1606\n",
      "Class 139: Max value = 0.08185928752435245, Feature number = 1606\n",
      "Class 272: Max value = 0.0701651035923021, Feature number = 1606\n",
      "Class 160: Max value = 0.05847091966025176, Feature number = 1606\n",
      "Class 267: Max value = 0.05847091966025176, Feature number = 1606\n",
      "Class 283: Max value = 0.05847091966025176, Feature number = 1606\n",
      "Class 150: Max value = 0.04677673572820141, Feature number = 1606\n"
     ]
    }
   ],
   "source": [
    "import numpy as np\n",
    "import matplotlib.pyplot as plt\n",
    "\n",
    "# Assuming feature_importance is already defined\n",
    "# feature_importance = ...\n",
    "\n",
    "# Find the column numbers with strictly non-zero values\n",
    "non_zero_columns = np.where(np.any(feature_importance_1 != 0, axis=0))[0]\n",
    "\n",
    "# Dictionary to store the maximum value and its row number for each non-zero column\n",
    "max_value_per_column = {}\n",
    "\n",
    "for col in non_zero_columns:\n",
    "    # Get the values in the column\n",
    "    column_values = feature_importance_1[:, col]\n",
    "    \n",
    "    # Find the maximum value and its row number\n",
    "    max_value = np.max(column_values)\n",
    "    max_row = np.argmax(column_values)\n",
    "    \n",
    "    # Store the maximum value and its row number in the dictionary\n",
    "    if max_value != 0:\n",
    "        max_value_per_column[col] = (max_value, max_row)\n",
    "\n",
    "# Sort the columns in descending order based on the maximum values\n",
    "sorted_columns = sorted(max_value_per_column.items(), key=lambda x: x[1][0], reverse=True)\n",
    "\n",
    "# Extract the class values and corresponding feature values\n",
    "classes = [col for col, _ in sorted_columns]\n",
    "max_values = [max_value for _, (max_value, _) in sorted_columns]\n",
    "feature_numbers = [max_row for _, (_, max_row) in sorted_columns]\n",
    "\n",
    "# Plot the results\n",
    "plt.figure(figsize=(12, 6))\n",
    "bars = plt.bar(classes, max_values, color='blue', alpha=0.7)\n",
    "\n",
    "# Highlight the bars with non-zero values and annotate them with their values, class numbers, and feature numbers\n",
    "for bar, max_value, class_num, feature_num in zip(bars, max_values, classes, feature_numbers):\n",
    "    bar.set_color('red')\n",
    "    plt.text(bar.get_x() + bar.get_width() / 2, bar.get_height(), f'Value: {max_value:.2f}\\nClass: {class_num}\\nFeature: {feature_num}', ha='center', va='bottom', color='black', fontsize=8)\n",
    "\n",
    "plt.xlabel('Class')\n",
    "plt.ylabel('Max Value')\n",
    "plt.title('Classes sorted in descending order based on maximum values')\n",
    "plt.xticks(rotation=90)\n",
    "plt.show()\n",
    "\n",
    "# Print the results\n",
    "print(\"Classes sorted in descending order based on maximum values:\")\n",
    "for col, (max_value, max_row) in sorted_columns:\n",
    "    print(f\"Class {col}: Max value = {max_value}, Feature number = {max_row}\")"
   ]
  },
  {
   "cell_type": "code",
   "execution_count": 14,
   "metadata": {},
   "outputs": [
    {
     "name": "stderr",
     "output_type": "stream",
     "text": [
      "Loaded model from AnnexML/iaprtc12_model.bin\n",
      "Total: 114.37 MB => labels: 0.55 MB, partitioning: 0.49 MB, embedding: 113.33 MB (matrix: 21.47 MB, embed: 90.44 MB) \n",
      "num_edge: 10, search_eps: 0.500000\n",
      "Build SearchIndex done! (14.93 sec, 23.33 MB)\n",
      "Load Predict Data: #data=1 #feature=2048 #label=0\n",
      "Done!\n",
      "Elapsed: 0.0242 sec, 24.1649 msec/sample (* 12 threads = 289.9790 msec/sample)\n",
      "Partitioning: 0.0035 sec, Embedding: 0.0205 sec, Aggregating: 0.0001 sec\n",
      "/tmp/ipykernel_5547/2613537384.py:32: FutureWarning: The behavior of DataFrame concatenation with empty or all-NA entries is deprecated. In a future version, this will no longer exclude empty or all-NA columns when determining the result dtypes. To retain the old behavior, exclude the relevant entries before the concat operation.\n",
      "  predictions_df = pd.concat([predictions_df, pd.DataFrame(pred_xi, columns=df_columns)], ignore_index=True)\n",
      "Loaded model from AnnexML/iaprtc12_model.bin\n",
      "Total: 114.37 MB => labels: 0.55 MB, partitioning: 0.49 MB, embedding: 113.33 MB (matrix: 21.47 MB, embed: 90.44 MB) \n",
      "num_edge: 10, search_eps: 0.500000\n",
      "Build SearchIndex done! (15.02 sec, 23.33 MB)\n",
      "Load Predict Data: #data=1 #feature=2048 #label=0\n",
      "Done!\n",
      "Elapsed: 0.0082 sec, 8.2500 msec/sample (* 12 threads = 99.0000 msec/sample)\n",
      "Partitioning: 0.0026 sec, Embedding: 0.0051 sec, Aggregating: 0.0005 sec\n"
     ]
    },
    {
     "name": "stdout",
     "output_type": "stream",
     "text": [
      "Step 1: Nonzero attributions count = 38912\n"
     ]
    },
    {
     "name": "stderr",
     "output_type": "stream",
     "text": [
      "Loaded model from AnnexML/iaprtc12_model.bin\n",
      "Total: 114.37 MB => labels: 0.55 MB, partitioning: 0.49 MB, embedding: 113.33 MB (matrix: 21.47 MB, embed: 90.44 MB) \n",
      "num_edge: 10, search_eps: 0.500000\n",
      "Build SearchIndex done! (14.75 sec, 23.33 MB)\n",
      "Load Predict Data: #data=1 #feature=2048 #label=0\n",
      "Done!\n",
      "Elapsed: 0.0084 sec, 8.4169 msec/sample (* 12 threads = 101.0027 msec/sample)\n",
      "Partitioning: 0.0029 sec, Embedding: 0.0052 sec, Aggregating: 0.0003 sec\n"
     ]
    },
    {
     "name": "stdout",
     "output_type": "stream",
     "text": [
      "Step 2: Nonzero attributions count = 38912\n"
     ]
    },
    {
     "name": "stderr",
     "output_type": "stream",
     "text": [
      "Loaded model from AnnexML/iaprtc12_model.bin\n",
      "Total: 114.37 MB => labels: 0.55 MB, partitioning: 0.49 MB, embedding: 113.33 MB (matrix: 21.47 MB, embed: 90.44 MB) \n",
      "num_edge: 10, search_eps: 0.500000\n",
      "Build SearchIndex done! (15.55 sec, 23.33 MB)\n",
      "Load Predict Data: #data=1 #feature=2048 #label=0\n",
      "Done!\n",
      "Elapsed: 0.0079 sec, 7.9410 msec/sample (* 12 threads = 95.2921 msec/sample)\n",
      "Partitioning: 0.0025 sec, Embedding: 0.0053 sec, Aggregating: 0.0001 sec\n"
     ]
    },
    {
     "name": "stdout",
     "output_type": "stream",
     "text": [
      "Step 3: Nonzero attributions count = 38912\n"
     ]
    },
    {
     "name": "stderr",
     "output_type": "stream",
     "text": [
      "Loaded model from AnnexML/iaprtc12_model.bin\n",
      "Total: 114.37 MB => labels: 0.55 MB, partitioning: 0.49 MB, embedding: 113.33 MB (matrix: 21.47 MB, embed: 90.44 MB) \n",
      "num_edge: 10, search_eps: 0.500000\n",
      "Build SearchIndex done! (14.72 sec, 23.33 MB)\n",
      "Load Predict Data: #data=1 #feature=2048 #label=0\n",
      "Done!\n",
      "Elapsed: 0.0083 sec, 8.3241 msec/sample (* 12 threads = 99.8898 msec/sample)\n",
      "Partitioning: 0.0024 sec, Embedding: 0.0057 sec, Aggregating: 0.0002 sec\n"
     ]
    },
    {
     "name": "stdout",
     "output_type": "stream",
     "text": [
      "Step 4: Nonzero attributions count = 38912\n"
     ]
    },
    {
     "name": "stderr",
     "output_type": "stream",
     "text": [
      "Loaded model from AnnexML/iaprtc12_model.bin\n",
      "Total: 114.37 MB => labels: 0.55 MB, partitioning: 0.49 MB, embedding: 113.33 MB (matrix: 21.47 MB, embed: 90.44 MB) \n",
      "num_edge: 10, search_eps: 0.500000\n",
      "Build SearchIndex done! (15.78 sec, 23.33 MB)\n",
      "Load Predict Data: #data=1 #feature=2048 #label=0\n",
      "Done!\n",
      "Elapsed: 0.0075 sec, 7.4990 msec/sample (* 12 threads = 89.9878 msec/sample)\n",
      "Partitioning: 0.0024 sec, Embedding: 0.0049 sec, Aggregating: 0.0002 sec\n"
     ]
    },
    {
     "name": "stdout",
     "output_type": "stream",
     "text": [
      "Step 5: Nonzero attributions count = 38912\n"
     ]
    },
    {
     "name": "stderr",
     "output_type": "stream",
     "text": [
      "Loaded model from AnnexML/iaprtc12_model.bin\n",
      "Total: 114.37 MB => labels: 0.55 MB, partitioning: 0.49 MB, embedding: 113.33 MB (matrix: 21.47 MB, embed: 90.44 MB) \n",
      "num_edge: 10, search_eps: 0.500000\n",
      "Build SearchIndex done! (15.55 sec, 23.33 MB)\n",
      "Load Predict Data: #data=1 #feature=2048 #label=0\n",
      "Done!\n",
      "Elapsed: 0.0069 sec, 6.9079 msec/sample (* 12 threads = 82.8953 msec/sample)\n",
      "Partitioning: 0.0022 sec, Embedding: 0.0043 sec, Aggregating: 0.0004 sec\n"
     ]
    },
    {
     "name": "stdout",
     "output_type": "stream",
     "text": [
      "Step 6: Nonzero attributions count = 38912\n"
     ]
    },
    {
     "name": "stderr",
     "output_type": "stream",
     "text": [
      "Loaded model from AnnexML/iaprtc12_model.bin\n",
      "Total: 114.37 MB => labels: 0.55 MB, partitioning: 0.49 MB, embedding: 113.33 MB (matrix: 21.47 MB, embed: 90.44 MB) \n",
      "num_edge: 10, search_eps: 0.500000\n",
      "Build SearchIndex done! (14.83 sec, 23.33 MB)\n",
      "Load Predict Data: #data=1 #feature=2048 #label=0\n",
      "Done!\n",
      "Elapsed: 0.0079 sec, 7.9420 msec/sample (* 12 threads = 95.3035 msec/sample)\n",
      "Partitioning: 0.0032 sec, Embedding: 0.0045 sec, Aggregating: 0.0003 sec\n"
     ]
    },
    {
     "name": "stdout",
     "output_type": "stream",
     "text": [
      "Step 7: Nonzero attributions count = 38912\n"
     ]
    },
    {
     "name": "stderr",
     "output_type": "stream",
     "text": [
      "Loaded model from AnnexML/iaprtc12_model.bin\n",
      "Total: 114.37 MB => labels: 0.55 MB, partitioning: 0.49 MB, embedding: 113.33 MB (matrix: 21.47 MB, embed: 90.44 MB) \n",
      "num_edge: 10, search_eps: 0.500000\n",
      "Build SearchIndex done! (13.97 sec, 23.33 MB)\n",
      "Load Predict Data: #data=1 #feature=2048 #label=0\n",
      "Done!\n",
      "Elapsed: 0.0081 sec, 8.0721 msec/sample (* 12 threads = 96.8657 msec/sample)\n",
      "Partitioning: 0.0027 sec, Embedding: 0.0050 sec, Aggregating: 0.0004 sec\n"
     ]
    },
    {
     "name": "stdout",
     "output_type": "stream",
     "text": [
      "Step 8: Nonzero attributions count = 38912\n"
     ]
    },
    {
     "name": "stderr",
     "output_type": "stream",
     "text": [
      "Loaded model from AnnexML/iaprtc12_model.bin\n",
      "Total: 114.37 MB => labels: 0.55 MB, partitioning: 0.49 MB, embedding: 113.33 MB (matrix: 21.47 MB, embed: 90.44 MB) \n",
      "num_edge: 10, search_eps: 0.500000\n",
      "Build SearchIndex done! (15.73 sec, 23.33 MB)\n",
      "Load Predict Data: #data=1 #feature=2048 #label=0\n",
      "Done!\n",
      "Elapsed: 0.0065 sec, 6.4759 msec/sample (* 12 threads = 77.7111 msec/sample)\n",
      "Partitioning: 0.0026 sec, Embedding: 0.0036 sec, Aggregating: 0.0002 sec\n"
     ]
    },
    {
     "name": "stdout",
     "output_type": "stream",
     "text": [
      "Step 9: Nonzero attributions count = 38912\n"
     ]
    },
    {
     "name": "stderr",
     "output_type": "stream",
     "text": [
      "Loaded model from AnnexML/iaprtc12_model.bin\n",
      "Total: 114.37 MB => labels: 0.55 MB, partitioning: 0.49 MB, embedding: 113.33 MB (matrix: 21.47 MB, embed: 90.44 MB) \n",
      "num_edge: 10, search_eps: 0.500000\n",
      "Build SearchIndex done! (14.85 sec, 23.33 MB)\n",
      "Load Predict Data: #data=1 #feature=2048 #label=0\n",
      "Done!\n",
      "Elapsed: 0.0065 sec, 6.4819 msec/sample (* 12 threads = 77.7826 msec/sample)\n",
      "Partitioning: 0.0017 sec, Embedding: 0.0042 sec, Aggregating: 0.0005 sec\n"
     ]
    },
    {
     "name": "stdout",
     "output_type": "stream",
     "text": [
      "Step 10: Nonzero attributions count = 38912\n"
     ]
    },
    {
     "name": "stderr",
     "output_type": "stream",
     "text": [
      "Loaded model from AnnexML/iaprtc12_model.bin\n",
      "Total: 114.37 MB => labels: 0.55 MB, partitioning: 0.49 MB, embedding: 113.33 MB (matrix: 21.47 MB, embed: 90.44 MB) \n",
      "num_edge: 10, search_eps: 0.500000\n",
      "Build SearchIndex done! (14.64 sec, 23.33 MB)\n",
      "Load Predict Data: #data=1 #feature=2048 #label=0\n",
      "Done!\n",
      "Elapsed: 0.0069 sec, 6.9361 msec/sample (* 12 threads = 83.2329 msec/sample)\n",
      "Partitioning: 0.0023 sec, Embedding: 0.0041 sec, Aggregating: 0.0005 sec\n"
     ]
    },
    {
     "name": "stdout",
     "output_type": "stream",
     "text": [
      "Step 11: Nonzero attributions count = 38912\n"
     ]
    },
    {
     "name": "stderr",
     "output_type": "stream",
     "text": [
      "Loaded model from AnnexML/iaprtc12_model.bin\n",
      "Total: 114.37 MB => labels: 0.55 MB, partitioning: 0.49 MB, embedding: 113.33 MB (matrix: 21.47 MB, embed: 90.44 MB) \n",
      "num_edge: 10, search_eps: 0.500000\n",
      "Build SearchIndex done! (15.76 sec, 23.33 MB)\n",
      "Load Predict Data: #data=1 #feature=2048 #label=0\n",
      "Done!\n",
      "Elapsed: 0.0074 sec, 7.3800 msec/sample (* 12 threads = 88.5601 msec/sample)\n",
      "Partitioning: 0.0027 sec, Embedding: 0.0043 sec, Aggregating: 0.0003 sec\n"
     ]
    },
    {
     "name": "stdout",
     "output_type": "stream",
     "text": [
      "Step 12: Nonzero attributions count = 38912\n"
     ]
    },
    {
     "name": "stderr",
     "output_type": "stream",
     "text": [
      "Loaded model from AnnexML/iaprtc12_model.bin\n",
      "Total: 114.37 MB => labels: 0.55 MB, partitioning: 0.49 MB, embedding: 113.33 MB (matrix: 21.47 MB, embed: 90.44 MB) \n",
      "num_edge: 10, search_eps: 0.500000\n",
      "Build SearchIndex done! (14.99 sec, 23.33 MB)\n",
      "Load Predict Data: #data=1 #feature=2048 #label=0\n",
      "Done!\n",
      "Elapsed: 0.0073 sec, 7.3099 msec/sample (* 12 threads = 87.7190 msec/sample)\n",
      "Partitioning: 0.0027 sec, Embedding: 0.0043 sec, Aggregating: 0.0003 sec\n"
     ]
    },
    {
     "name": "stdout",
     "output_type": "stream",
     "text": [
      "Step 13: Nonzero attributions count = 38912\n"
     ]
    },
    {
     "name": "stderr",
     "output_type": "stream",
     "text": [
      "Loaded model from AnnexML/iaprtc12_model.bin\n",
      "Total: 114.37 MB => labels: 0.55 MB, partitioning: 0.49 MB, embedding: 113.33 MB (matrix: 21.47 MB, embed: 90.44 MB) \n",
      "num_edge: 10, search_eps: 0.500000\n",
      "Build SearchIndex done! (16.05 sec, 23.33 MB)\n",
      "Load Predict Data: #data=1 #feature=2048 #label=0\n",
      "Done!\n",
      "Elapsed: 0.0081 sec, 8.0769 msec/sample (* 12 threads = 96.9229 msec/sample)\n",
      "Partitioning: 0.0027 sec, Embedding: 0.0052 sec, Aggregating: 0.0001 sec\n"
     ]
    },
    {
     "name": "stdout",
     "output_type": "stream",
     "text": [
      "Step 14: Nonzero attributions count = 38912\n"
     ]
    },
    {
     "name": "stderr",
     "output_type": "stream",
     "text": [
      "Loaded model from AnnexML/iaprtc12_model.bin\n",
      "Total: 114.37 MB => labels: 0.55 MB, partitioning: 0.49 MB, embedding: 113.33 MB (matrix: 21.47 MB, embed: 90.44 MB) \n",
      "num_edge: 10, search_eps: 0.500000\n",
      "Build SearchIndex done! (16.10 sec, 23.33 MB)\n",
      "Load Predict Data: #data=1 #feature=2048 #label=0\n",
      "Done!\n",
      "Elapsed: 0.0073 sec, 7.2951 msec/sample (* 12 threads = 87.5416 msec/sample)\n",
      "Partitioning: 0.0025 sec, Embedding: 0.0045 sec, Aggregating: 0.0003 sec\n"
     ]
    },
    {
     "name": "stdout",
     "output_type": "stream",
     "text": [
      "Step 15: Nonzero attributions count = 38912\n"
     ]
    },
    {
     "name": "stderr",
     "output_type": "stream",
     "text": [
      "Loaded model from AnnexML/iaprtc12_model.bin\n",
      "Total: 114.37 MB => labels: 0.55 MB, partitioning: 0.49 MB, embedding: 113.33 MB (matrix: 21.47 MB, embed: 90.44 MB) \n",
      "num_edge: 10, search_eps: 0.500000\n",
      "Build SearchIndex done! (15.34 sec, 23.33 MB)\n",
      "Load Predict Data: #data=1 #feature=2048 #label=0\n",
      "Done!\n",
      "Elapsed: 0.0083 sec, 8.2829 msec/sample (* 12 threads = 99.3948 msec/sample)\n",
      "Partitioning: 0.0023 sec, Embedding: 0.0055 sec, Aggregating: 0.0004 sec\n"
     ]
    },
    {
     "name": "stdout",
     "output_type": "stream",
     "text": [
      "Step 16: Nonzero attributions count = 38912\n"
     ]
    },
    {
     "name": "stderr",
     "output_type": "stream",
     "text": [
      "Loaded model from AnnexML/iaprtc12_model.bin\n",
      "Total: 114.37 MB => labels: 0.55 MB, partitioning: 0.49 MB, embedding: 113.33 MB (matrix: 21.47 MB, embed: 90.44 MB) \n",
      "num_edge: 10, search_eps: 0.500000\n",
      "Build SearchIndex done! (15.92 sec, 23.33 MB)\n",
      "Load Predict Data: #data=1 #feature=2048 #label=0\n",
      "Done!\n",
      "Elapsed: 0.0081 sec, 8.1091 msec/sample (* 12 threads = 97.3091 msec/sample)\n",
      "Partitioning: 0.0030 sec, Embedding: 0.0048 sec, Aggregating: 0.0002 sec\n"
     ]
    },
    {
     "name": "stdout",
     "output_type": "stream",
     "text": [
      "Step 17: Nonzero attributions count = 38912\n"
     ]
    },
    {
     "name": "stderr",
     "output_type": "stream",
     "text": [
      "Loaded model from AnnexML/iaprtc12_model.bin\n",
      "Total: 114.37 MB => labels: 0.55 MB, partitioning: 0.49 MB, embedding: 113.33 MB (matrix: 21.47 MB, embed: 90.44 MB) \n",
      "num_edge: 10, search_eps: 0.500000\n",
      "Build SearchIndex done! (15.61 sec, 23.33 MB)\n",
      "Load Predict Data: #data=1 #feature=2048 #label=0\n",
      "Done!\n",
      "Elapsed: 0.0078 sec, 7.7598 msec/sample (* 12 threads = 93.1177 msec/sample)\n",
      "Partitioning: 0.0023 sec, Embedding: 0.0050 sec, Aggregating: 0.0004 sec\n"
     ]
    },
    {
     "name": "stdout",
     "output_type": "stream",
     "text": [
      "Step 18: Nonzero attributions count = 38912\n"
     ]
    },
    {
     "name": "stderr",
     "output_type": "stream",
     "text": [
      "Loaded model from AnnexML/iaprtc12_model.bin\n",
      "Total: 114.37 MB => labels: 0.55 MB, partitioning: 0.49 MB, embedding: 113.33 MB (matrix: 21.47 MB, embed: 90.44 MB) \n",
      "num_edge: 10, search_eps: 0.500000\n",
      "Build SearchIndex done! (14.49 sec, 23.33 MB)\n",
      "Load Predict Data: #data=1 #feature=2048 #label=0\n",
      "Done!\n",
      "Elapsed: 0.0081 sec, 8.0791 msec/sample (* 12 threads = 96.9486 msec/sample)\n",
      "Partitioning: 0.0026 sec, Embedding: 0.0052 sec, Aggregating: 0.0002 sec\n"
     ]
    },
    {
     "name": "stdout",
     "output_type": "stream",
     "text": [
      "Step 19: Nonzero attributions count = 38912\n"
     ]
    },
    {
     "name": "stderr",
     "output_type": "stream",
     "text": [
      "Loaded model from AnnexML/iaprtc12_model.bin\n",
      "Total: 114.37 MB => labels: 0.55 MB, partitioning: 0.49 MB, embedding: 113.33 MB (matrix: 21.47 MB, embed: 90.44 MB) \n",
      "num_edge: 10, search_eps: 0.500000\n",
      "Build SearchIndex done! (15.79 sec, 23.33 MB)\n",
      "Load Predict Data: #data=1 #feature=2048 #label=0\n",
      "Done!\n",
      "Elapsed: 0.0077 sec, 7.7240 msec/sample (* 12 threads = 92.6886 msec/sample)\n",
      "Partitioning: 0.0031 sec, Embedding: 0.0044 sec, Aggregating: 0.0002 sec\n"
     ]
    },
    {
     "name": "stdout",
     "output_type": "stream",
     "text": [
      "Step 20: Nonzero attributions count = 38912\n"
     ]
    },
    {
     "name": "stderr",
     "output_type": "stream",
     "text": [
      "Loaded model from AnnexML/iaprtc12_model.bin\n",
      "Total: 114.37 MB => labels: 0.55 MB, partitioning: 0.49 MB, embedding: 113.33 MB (matrix: 21.47 MB, embed: 90.44 MB) \n",
      "num_edge: 10, search_eps: 0.500000\n",
      "Build SearchIndex done! (15.73 sec, 23.33 MB)\n",
      "Load Predict Data: #data=1 #feature=2048 #label=0\n",
      "Done!\n",
      "Elapsed: 0.0076 sec, 7.6230 msec/sample (* 12 threads = 91.4755 msec/sample)\n",
      "Partitioning: 0.0021 sec, Embedding: 0.0053 sec, Aggregating: 0.0002 sec\n"
     ]
    },
    {
     "name": "stdout",
     "output_type": "stream",
     "text": [
      "Step 21: Nonzero attributions count = 38912\n"
     ]
    },
    {
     "name": "stderr",
     "output_type": "stream",
     "text": [
      "Loaded model from AnnexML/iaprtc12_model.bin\n",
      "Total: 114.37 MB => labels: 0.55 MB, partitioning: 0.49 MB, embedding: 113.33 MB (matrix: 21.47 MB, embed: 90.44 MB) \n",
      "num_edge: 10, search_eps: 0.500000\n",
      "Build SearchIndex done! (15.75 sec, 23.33 MB)\n",
      "Load Predict Data: #data=1 #feature=2048 #label=0\n",
      "Done!\n",
      "Elapsed: 0.0076 sec, 7.6029 msec/sample (* 12 threads = 91.2352 msec/sample)\n",
      "Partitioning: 0.0026 sec, Embedding: 0.0049 sec, Aggregating: 0.0001 sec\n"
     ]
    },
    {
     "name": "stdout",
     "output_type": "stream",
     "text": [
      "Step 22: Nonzero attributions count = 38912\n"
     ]
    },
    {
     "name": "stderr",
     "output_type": "stream",
     "text": [
      "Loaded model from AnnexML/iaprtc12_model.bin\n",
      "Total: 114.37 MB => labels: 0.55 MB, partitioning: 0.49 MB, embedding: 113.33 MB (matrix: 21.47 MB, embed: 90.44 MB) \n",
      "num_edge: 10, search_eps: 0.500000\n",
      "Build SearchIndex done! (15.86 sec, 23.33 MB)\n",
      "Load Predict Data: #data=1 #feature=2048 #label=0\n",
      "Done!\n",
      "Elapsed: 0.0071 sec, 7.0789 msec/sample (* 12 threads = 84.9466 msec/sample)\n",
      "Partitioning: 0.0025 sec, Embedding: 0.0043 sec, Aggregating: 0.0003 sec\n"
     ]
    },
    {
     "name": "stdout",
     "output_type": "stream",
     "text": [
      "Step 23: Nonzero attributions count = 38912\n"
     ]
    },
    {
     "name": "stderr",
     "output_type": "stream",
     "text": [
      "Loaded model from AnnexML/iaprtc12_model.bin\n",
      "Total: 114.37 MB => labels: 0.55 MB, partitioning: 0.49 MB, embedding: 113.33 MB (matrix: 21.47 MB, embed: 90.44 MB) \n",
      "num_edge: 10, search_eps: 0.500000\n",
      "Build SearchIndex done! (15.65 sec, 23.33 MB)\n",
      "Load Predict Data: #data=1 #feature=2048 #label=0\n",
      "Done!\n",
      "Elapsed: 0.0084 sec, 8.4119 msec/sample (* 12 threads = 100.9426 msec/sample)\n",
      "Partitioning: 0.0032 sec, Embedding: 0.0050 sec, Aggregating: 0.0002 sec\n"
     ]
    },
    {
     "name": "stdout",
     "output_type": "stream",
     "text": [
      "Step 24: Nonzero attributions count = 38912\n"
     ]
    },
    {
     "name": "stderr",
     "output_type": "stream",
     "text": [
      "Loaded model from AnnexML/iaprtc12_model.bin\n",
      "Total: 114.37 MB => labels: 0.55 MB, partitioning: 0.49 MB, embedding: 113.33 MB (matrix: 21.47 MB, embed: 90.44 MB) \n",
      "num_edge: 10, search_eps: 0.500000\n",
      "Build SearchIndex done! (15.68 sec, 23.33 MB)\n",
      "Load Predict Data: #data=1 #feature=2048 #label=0\n",
      "Done!\n",
      "Elapsed: 0.0074 sec, 7.3719 msec/sample (* 12 threads = 88.4628 msec/sample)\n",
      "Partitioning: 0.0024 sec, Embedding: 0.0048 sec, Aggregating: 0.0002 sec\n"
     ]
    },
    {
     "name": "stdout",
     "output_type": "stream",
     "text": [
      "Step 25: Nonzero attributions count = 38912\n"
     ]
    },
    {
     "name": "stderr",
     "output_type": "stream",
     "text": [
      "Loaded model from AnnexML/iaprtc12_model.bin\n",
      "Total: 114.37 MB => labels: 0.55 MB, partitioning: 0.49 MB, embedding: 113.33 MB (matrix: 21.47 MB, embed: 90.44 MB) \n",
      "num_edge: 10, search_eps: 0.500000\n",
      "Build SearchIndex done! (15.83 sec, 23.33 MB)\n",
      "Load Predict Data: #data=1 #feature=2048 #label=0\n",
      "Done!\n",
      "Elapsed: 0.0075 sec, 7.5409 msec/sample (* 12 threads = 90.4913 msec/sample)\n",
      "Partitioning: 0.0024 sec, Embedding: 0.0048 sec, Aggregating: 0.0002 sec\n"
     ]
    },
    {
     "name": "stdout",
     "output_type": "stream",
     "text": [
      "Step 26: Nonzero attributions count = 38912\n"
     ]
    },
    {
     "name": "stderr",
     "output_type": "stream",
     "text": [
      "Loaded model from AnnexML/iaprtc12_model.bin\n",
      "Total: 114.37 MB => labels: 0.55 MB, partitioning: 0.49 MB, embedding: 113.33 MB (matrix: 21.47 MB, embed: 90.44 MB) \n",
      "num_edge: 10, search_eps: 0.500000\n",
      "Build SearchIndex done! (15.72 sec, 23.33 MB)\n",
      "Load Predict Data: #data=1 #feature=2048 #label=0\n",
      "Done!\n",
      "Elapsed: 0.0075 sec, 7.4742 msec/sample (* 12 threads = 89.6902 msec/sample)\n",
      "Partitioning: 0.0026 sec, Embedding: 0.0047 sec, Aggregating: 0.0002 sec\n"
     ]
    },
    {
     "name": "stdout",
     "output_type": "stream",
     "text": [
      "Step 27: Nonzero attributions count = 38912\n"
     ]
    },
    {
     "name": "stderr",
     "output_type": "stream",
     "text": [
      "Loaded model from AnnexML/iaprtc12_model.bin\n",
      "Total: 114.37 MB => labels: 0.55 MB, partitioning: 0.49 MB, embedding: 113.33 MB (matrix: 21.47 MB, embed: 90.44 MB) \n",
      "num_edge: 10, search_eps: 0.500000\n",
      "Build SearchIndex done! (15.77 sec, 23.33 MB)\n",
      "Load Predict Data: #data=1 #feature=2048 #label=0\n",
      "Done!\n",
      "Elapsed: 0.0082 sec, 8.1670 msec/sample (* 12 threads = 98.0043 msec/sample)\n",
      "Partitioning: 0.0030 sec, Embedding: 0.0049 sec, Aggregating: 0.0002 sec\n"
     ]
    },
    {
     "name": "stdout",
     "output_type": "stream",
     "text": [
      "Step 28: Nonzero attributions count = 38912\n"
     ]
    },
    {
     "name": "stderr",
     "output_type": "stream",
     "text": [
      "Loaded model from AnnexML/iaprtc12_model.bin\n",
      "Total: 114.37 MB => labels: 0.55 MB, partitioning: 0.49 MB, embedding: 113.33 MB (matrix: 21.47 MB, embed: 90.44 MB) \n",
      "num_edge: 10, search_eps: 0.500000\n",
      "Build SearchIndex done! (15.70 sec, 23.33 MB)\n",
      "Load Predict Data: #data=1 #feature=2048 #label=0\n",
      "Done!\n",
      "Elapsed: 0.0071 sec, 7.1290 msec/sample (* 12 threads = 85.5474 msec/sample)\n",
      "Partitioning: 0.0023 sec, Embedding: 0.0045 sec, Aggregating: 0.0003 sec\n"
     ]
    },
    {
     "name": "stdout",
     "output_type": "stream",
     "text": [
      "Step 29: Nonzero attributions count = 38912\n"
     ]
    },
    {
     "name": "stderr",
     "output_type": "stream",
     "text": [
      "Loaded model from AnnexML/iaprtc12_model.bin\n",
      "Total: 114.37 MB => labels: 0.55 MB, partitioning: 0.49 MB, embedding: 113.33 MB (matrix: 21.47 MB, embed: 90.44 MB) \n",
      "num_edge: 10, search_eps: 0.500000\n",
      "Build SearchIndex done! (16.00 sec, 23.33 MB)\n",
      "Load Predict Data: #data=1 #feature=2048 #label=0\n",
      "Done!\n",
      "Elapsed: 0.0078 sec, 7.8392 msec/sample (* 12 threads = 94.0704 msec/sample)\n",
      "Partitioning: 0.0026 sec, Embedding: 0.0047 sec, Aggregating: 0.0005 sec\n"
     ]
    },
    {
     "name": "stdout",
     "output_type": "stream",
     "text": [
      "Step 30: Nonzero attributions count = 38912\n"
     ]
    },
    {
     "name": "stderr",
     "output_type": "stream",
     "text": [
      "Loaded model from AnnexML/iaprtc12_model.bin\n",
      "Total: 114.37 MB => labels: 0.55 MB, partitioning: 0.49 MB, embedding: 113.33 MB (matrix: 21.47 MB, embed: 90.44 MB) \n",
      "num_edge: 10, search_eps: 0.500000\n",
      "Build SearchIndex done! (15.80 sec, 23.33 MB)\n",
      "Load Predict Data: #data=1 #feature=2048 #label=0\n",
      "Done!\n",
      "Elapsed: 0.0074 sec, 7.4470 msec/sample (* 12 threads = 89.3641 msec/sample)\n",
      "Partitioning: 0.0025 sec, Embedding: 0.0046 sec, Aggregating: 0.0003 sec\n"
     ]
    },
    {
     "name": "stdout",
     "output_type": "stream",
     "text": [
      "Step 31: Nonzero attributions count = 38912\n"
     ]
    },
    {
     "name": "stderr",
     "output_type": "stream",
     "text": [
      "Loaded model from AnnexML/iaprtc12_model.bin\n",
      "Total: 114.37 MB => labels: 0.55 MB, partitioning: 0.49 MB, embedding: 113.33 MB (matrix: 21.47 MB, embed: 90.44 MB) \n",
      "num_edge: 10, search_eps: 0.500000\n",
      "Build SearchIndex done! (15.77 sec, 23.33 MB)\n",
      "Load Predict Data: #data=1 #feature=2048 #label=0\n",
      "Done!\n",
      "Elapsed: 0.0080 sec, 8.0380 msec/sample (* 12 threads = 96.4565 msec/sample)\n",
      "Partitioning: 0.0024 sec, Embedding: 0.0054 sec, Aggregating: 0.0002 sec\n"
     ]
    },
    {
     "name": "stdout",
     "output_type": "stream",
     "text": [
      "Step 32: Nonzero attributions count = 38912\n"
     ]
    },
    {
     "name": "stderr",
     "output_type": "stream",
     "text": [
      "Loaded model from AnnexML/iaprtc12_model.bin\n",
      "Total: 114.37 MB => labels: 0.55 MB, partitioning: 0.49 MB, embedding: 113.33 MB (matrix: 21.47 MB, embed: 90.44 MB) \n",
      "num_edge: 10, search_eps: 0.500000\n",
      "Build SearchIndex done! (15.80 sec, 23.33 MB)\n",
      "Load Predict Data: #data=1 #feature=2048 #label=0\n",
      "Done!\n",
      "Elapsed: 0.0074 sec, 7.3760 msec/sample (* 12 threads = 88.5115 msec/sample)\n",
      "Partitioning: 0.0028 sec, Embedding: 0.0043 sec, Aggregating: 0.0003 sec\n"
     ]
    },
    {
     "name": "stdout",
     "output_type": "stream",
     "text": [
      "Step 33: Nonzero attributions count = 38912\n"
     ]
    },
    {
     "name": "stderr",
     "output_type": "stream",
     "text": [
      "Loaded model from AnnexML/iaprtc12_model.bin\n",
      "Total: 114.37 MB => labels: 0.55 MB, partitioning: 0.49 MB, embedding: 113.33 MB (matrix: 21.47 MB, embed: 90.44 MB) \n",
      "num_edge: 10, search_eps: 0.500000\n",
      "Build SearchIndex done! (15.68 sec, 23.33 MB)\n",
      "Load Predict Data: #data=1 #feature=2048 #label=0\n",
      "Done!\n",
      "Elapsed: 0.0079 sec, 7.9019 msec/sample (* 12 threads = 94.8229 msec/sample)\n",
      "Partitioning: 0.0029 sec, Embedding: 0.0048 sec, Aggregating: 0.0002 sec\n"
     ]
    },
    {
     "name": "stdout",
     "output_type": "stream",
     "text": [
      "Step 34: Nonzero attributions count = 38912\n"
     ]
    },
    {
     "name": "stderr",
     "output_type": "stream",
     "text": [
      "Loaded model from AnnexML/iaprtc12_model.bin\n",
      "Total: 114.37 MB => labels: 0.55 MB, partitioning: 0.49 MB, embedding: 113.33 MB (matrix: 21.47 MB, embed: 90.44 MB) \n",
      "num_edge: 10, search_eps: 0.500000\n",
      "Build SearchIndex done! (15.53 sec, 23.33 MB)\n",
      "Load Predict Data: #data=1 #feature=2048 #label=0\n",
      "Done!\n",
      "Elapsed: 0.0075 sec, 7.5240 msec/sample (* 12 threads = 90.2882 msec/sample)\n",
      "Partitioning: 0.0026 sec, Embedding: 0.0045 sec, Aggregating: 0.0004 sec\n"
     ]
    },
    {
     "name": "stdout",
     "output_type": "stream",
     "text": [
      "Step 35: Nonzero attributions count = 38912\n"
     ]
    },
    {
     "name": "stderr",
     "output_type": "stream",
     "text": [
      "Loaded model from AnnexML/iaprtc12_model.bin\n",
      "Total: 114.37 MB => labels: 0.55 MB, partitioning: 0.49 MB, embedding: 113.33 MB (matrix: 21.47 MB, embed: 90.44 MB) \n",
      "num_edge: 10, search_eps: 0.500000\n",
      "Build SearchIndex done! (15.75 sec, 23.33 MB)\n",
      "Load Predict Data: #data=1 #feature=2048 #label=0\n",
      "Done!\n",
      "Elapsed: 0.0088 sec, 8.7938 msec/sample (* 12 threads = 105.5260 msec/sample)\n",
      "Partitioning: 0.0036 sec, Embedding: 0.0047 sec, Aggregating: 0.0005 sec\n"
     ]
    },
    {
     "name": "stdout",
     "output_type": "stream",
     "text": [
      "Step 36: Nonzero attributions count = 38912\n"
     ]
    },
    {
     "name": "stderr",
     "output_type": "stream",
     "text": [
      "Loaded model from AnnexML/iaprtc12_model.bin\n",
      "Total: 114.37 MB => labels: 0.55 MB, partitioning: 0.49 MB, embedding: 113.33 MB (matrix: 21.47 MB, embed: 90.44 MB) \n",
      "num_edge: 10, search_eps: 0.500000\n",
      "Build SearchIndex done! (15.89 sec, 23.33 MB)\n",
      "Load Predict Data: #data=1 #feature=2048 #label=0\n",
      "Done!\n",
      "Elapsed: 0.0076 sec, 7.5800 msec/sample (* 12 threads = 90.9605 msec/sample)\n",
      "Partitioning: 0.0026 sec, Embedding: 0.0047 sec, Aggregating: 0.0003 sec\n"
     ]
    },
    {
     "name": "stdout",
     "output_type": "stream",
     "text": [
      "Step 37: Nonzero attributions count = 38912\n"
     ]
    },
    {
     "name": "stderr",
     "output_type": "stream",
     "text": [
      "Loaded model from AnnexML/iaprtc12_model.bin\n",
      "Total: 114.37 MB => labels: 0.55 MB, partitioning: 0.49 MB, embedding: 113.33 MB (matrix: 21.47 MB, embed: 90.44 MB) \n",
      "num_edge: 10, search_eps: 0.500000\n",
      "Build SearchIndex done! (15.68 sec, 23.33 MB)\n",
      "Load Predict Data: #data=1 #feature=2048 #label=0\n",
      "Done!\n",
      "Elapsed: 0.0071 sec, 7.0910 msec/sample (* 12 threads = 85.0925 msec/sample)\n",
      "Partitioning: 0.0024 sec, Embedding: 0.0042 sec, Aggregating: 0.0005 sec\n"
     ]
    },
    {
     "name": "stdout",
     "output_type": "stream",
     "text": [
      "Step 38: Nonzero attributions count = 38912\n"
     ]
    },
    {
     "name": "stderr",
     "output_type": "stream",
     "text": [
      "Loaded model from AnnexML/iaprtc12_model.bin\n",
      "Total: 114.37 MB => labels: 0.55 MB, partitioning: 0.49 MB, embedding: 113.33 MB (matrix: 21.47 MB, embed: 90.44 MB) \n",
      "num_edge: 10, search_eps: 0.500000\n",
      "Build SearchIndex done! (15.76 sec, 23.33 MB)\n",
      "Load Predict Data: #data=1 #feature=2048 #label=0\n",
      "Done!\n",
      "Elapsed: 0.0078 sec, 7.8230 msec/sample (* 12 threads = 93.8759 msec/sample)\n",
      "Partitioning: 0.0022 sec, Embedding: 0.0054 sec, Aggregating: 0.0002 sec\n"
     ]
    },
    {
     "name": "stdout",
     "output_type": "stream",
     "text": [
      "Step 39: Nonzero attributions count = 38912\n"
     ]
    },
    {
     "name": "stderr",
     "output_type": "stream",
     "text": [
      "Loaded model from AnnexML/iaprtc12_model.bin\n",
      "Total: 114.37 MB => labels: 0.55 MB, partitioning: 0.49 MB, embedding: 113.33 MB (matrix: 21.47 MB, embed: 90.44 MB) \n",
      "num_edge: 10, search_eps: 0.500000\n",
      "Build SearchIndex done! (15.87 sec, 23.33 MB)\n",
      "Load Predict Data: #data=1 #feature=2048 #label=0\n",
      "Done!\n",
      "Elapsed: 0.0076 sec, 7.6480 msec/sample (* 12 threads = 91.7759 msec/sample)\n",
      "Partitioning: 0.0024 sec, Embedding: 0.0051 sec, Aggregating: 0.0002 sec\n"
     ]
    },
    {
     "name": "stdout",
     "output_type": "stream",
     "text": [
      "Step 40: Nonzero attributions count = 38912\n"
     ]
    },
    {
     "name": "stderr",
     "output_type": "stream",
     "text": [
      "Loaded model from AnnexML/iaprtc12_model.bin\n",
      "Total: 114.37 MB => labels: 0.55 MB, partitioning: 0.49 MB, embedding: 113.33 MB (matrix: 21.47 MB, embed: 90.44 MB) \n",
      "num_edge: 10, search_eps: 0.500000\n",
      "Build SearchIndex done! (15.77 sec, 23.33 MB)\n",
      "Load Predict Data: #data=1 #feature=2048 #label=0\n",
      "Done!\n",
      "Elapsed: 0.0077 sec, 7.7310 msec/sample (* 12 threads = 92.7715 msec/sample)\n",
      "Partitioning: 0.0026 sec, Embedding: 0.0050 sec, Aggregating: 0.0001 sec\n"
     ]
    },
    {
     "name": "stdout",
     "output_type": "stream",
     "text": [
      "Step 41: Nonzero attributions count = 38912\n"
     ]
    },
    {
     "name": "stderr",
     "output_type": "stream",
     "text": [
      "Loaded model from AnnexML/iaprtc12_model.bin\n",
      "Total: 114.37 MB => labels: 0.55 MB, partitioning: 0.49 MB, embedding: 113.33 MB (matrix: 21.47 MB, embed: 90.44 MB) \n",
      "num_edge: 10, search_eps: 0.500000\n",
      "Build SearchIndex done! (16.02 sec, 23.33 MB)\n",
      "Load Predict Data: #data=1 #feature=2048 #label=0\n",
      "Done!\n",
      "Elapsed: 0.0071 sec, 7.1251 msec/sample (* 12 threads = 85.5017 msec/sample)\n",
      "Partitioning: 0.0026 sec, Embedding: 0.0042 sec, Aggregating: 0.0002 sec\n"
     ]
    },
    {
     "name": "stdout",
     "output_type": "stream",
     "text": [
      "Step 42: Nonzero attributions count = 38912\n"
     ]
    },
    {
     "name": "stderr",
     "output_type": "stream",
     "text": [
      "Loaded model from AnnexML/iaprtc12_model.bin\n",
      "Total: 114.37 MB => labels: 0.55 MB, partitioning: 0.49 MB, embedding: 113.33 MB (matrix: 21.47 MB, embed: 90.44 MB) \n",
      "num_edge: 10, search_eps: 0.500000\n",
      "Build SearchIndex done! (16.11 sec, 23.33 MB)\n",
      "Load Predict Data: #data=1 #feature=2048 #label=0\n",
      "Done!\n",
      "Elapsed: 0.0075 sec, 7.4902 msec/sample (* 12 threads = 89.8819 msec/sample)\n",
      "Partitioning: 0.0025 sec, Embedding: 0.0048 sec, Aggregating: 0.0002 sec\n"
     ]
    },
    {
     "name": "stdout",
     "output_type": "stream",
     "text": [
      "Step 43: Nonzero attributions count = 38912\n"
     ]
    },
    {
     "name": "stderr",
     "output_type": "stream",
     "text": [
      "Loaded model from AnnexML/iaprtc12_model.bin\n",
      "Total: 114.37 MB => labels: 0.55 MB, partitioning: 0.49 MB, embedding: 113.33 MB (matrix: 21.47 MB, embed: 90.44 MB) \n",
      "num_edge: 10, search_eps: 0.500000\n",
      "Build SearchIndex done! (16.21 sec, 23.33 MB)\n",
      "Load Predict Data: #data=1 #feature=2048 #label=0\n",
      "Done!\n",
      "Elapsed: 0.0102 sec, 10.1662 msec/sample (* 12 threads = 121.9940 msec/sample)\n",
      "Partitioning: 0.0038 sec, Embedding: 0.0062 sec, Aggregating: 0.0002 sec\n"
     ]
    },
    {
     "name": "stdout",
     "output_type": "stream",
     "text": [
      "Step 44: Nonzero attributions count = 38912\n"
     ]
    },
    {
     "name": "stderr",
     "output_type": "stream",
     "text": [
      "Loaded model from AnnexML/iaprtc12_model.bin\n",
      "Total: 114.37 MB => labels: 0.55 MB, partitioning: 0.49 MB, embedding: 113.33 MB (matrix: 21.47 MB, embed: 90.44 MB) \n",
      "num_edge: 10, search_eps: 0.500000\n",
      "Build SearchIndex done! (16.17 sec, 23.33 MB)\n",
      "Load Predict Data: #data=1 #feature=2048 #label=0\n",
      "Done!\n",
      "Elapsed: 0.0068 sec, 6.7890 msec/sample (* 12 threads = 81.4676 msec/sample)\n",
      "Partitioning: 0.0026 sec, Embedding: 0.0039 sec, Aggregating: 0.0003 sec\n"
     ]
    },
    {
     "name": "stdout",
     "output_type": "stream",
     "text": [
      "Step 45: Nonzero attributions count = 38912\n"
     ]
    },
    {
     "name": "stderr",
     "output_type": "stream",
     "text": [
      "Loaded model from AnnexML/iaprtc12_model.bin\n",
      "Total: 114.37 MB => labels: 0.55 MB, partitioning: 0.49 MB, embedding: 113.33 MB (matrix: 21.47 MB, embed: 90.44 MB) \n",
      "num_edge: 10, search_eps: 0.500000\n",
      "Build SearchIndex done! (17.10 sec, 23.33 MB)\n",
      "Load Predict Data: #data=1 #feature=2048 #label=0\n",
      "Done!\n",
      "Elapsed: 0.0088 sec, 8.7700 msec/sample (* 12 threads = 105.2399 msec/sample)\n",
      "Partitioning: 0.0027 sec, Embedding: 0.0058 sec, Aggregating: 0.0003 sec\n"
     ]
    },
    {
     "name": "stdout",
     "output_type": "stream",
     "text": [
      "Step 46: Nonzero attributions count = 38912\n"
     ]
    },
    {
     "name": "stderr",
     "output_type": "stream",
     "text": [
      "Loaded model from AnnexML/iaprtc12_model.bin\n",
      "Total: 114.37 MB => labels: 0.55 MB, partitioning: 0.49 MB, embedding: 113.33 MB (matrix: 21.47 MB, embed: 90.44 MB) \n",
      "num_edge: 10, search_eps: 0.500000\n",
      "Build SearchIndex done! (16.68 sec, 23.33 MB)\n",
      "Load Predict Data: #data=1 #feature=2048 #label=0\n",
      "Done!\n",
      "Elapsed: 0.0085 sec, 8.4989 msec/sample (* 12 threads = 101.9869 msec/sample)\n",
      "Partitioning: 0.0028 sec, Embedding: 0.0053 sec, Aggregating: 0.0003 sec\n"
     ]
    },
    {
     "name": "stdout",
     "output_type": "stream",
     "text": [
      "Step 47: Nonzero attributions count = 38912\n"
     ]
    },
    {
     "name": "stderr",
     "output_type": "stream",
     "text": [
      "Loaded model from AnnexML/iaprtc12_model.bin\n",
      "Total: 114.37 MB => labels: 0.55 MB, partitioning: 0.49 MB, embedding: 113.33 MB (matrix: 21.47 MB, embed: 90.44 MB) \n",
      "num_edge: 10, search_eps: 0.500000\n",
      "Build SearchIndex done! (16.76 sec, 23.33 MB)\n",
      "Load Predict Data: #data=1 #feature=2048 #label=0\n",
      "Done!\n",
      "Elapsed: 0.0062 sec, 6.2158 msec/sample (* 12 threads = 74.5897 msec/sample)\n",
      "Partitioning: 0.0023 sec, Embedding: 0.0037 sec, Aggregating: 0.0002 sec\n"
     ]
    },
    {
     "name": "stdout",
     "output_type": "stream",
     "text": [
      "Step 48: Nonzero attributions count = 38912\n"
     ]
    },
    {
     "name": "stderr",
     "output_type": "stream",
     "text": [
      "Loaded model from AnnexML/iaprtc12_model.bin\n",
      "Total: 114.37 MB => labels: 0.55 MB, partitioning: 0.49 MB, embedding: 113.33 MB (matrix: 21.47 MB, embed: 90.44 MB) \n",
      "num_edge: 10, search_eps: 0.500000\n",
      "Build SearchIndex..."
     ]
    },
    {
     "name": "stdout",
     "output_type": "stream",
     "text": [
      "Step 49: Nonzero attributions count = 38912\n"
     ]
    },
    {
     "name": "stderr",
     "output_type": "stream",
     "text": [
      "Build SearchIndex done! (16.17 sec, 23.33 MB)\n",
      "Load Predict Data: #data=1 #feature=2048 #label=0\n",
      "Done!\n",
      "Elapsed: 0.0078 sec, 7.8309 msec/sample (* 12 threads = 93.9703 msec/sample)\n",
      "Partitioning: 0.0026 sec, Embedding: 0.0050 sec, Aggregating: 0.0002 sec\n"
     ]
    }
   ],
   "source": [
    "# Usage example\n",
    "sample_input_2 = X_test_dense[2]  # Pick one test instance\n",
    "# example_index = 1 \n",
    "feature_importance_2 = integrated_gradients_annexml(sample_input_2)\n",
    "\n"
   ]
  },
  {
   "cell_type": "code",
   "execution_count": 17,
   "metadata": {},
   "outputs": [
    {
     "name": "stdout",
     "output_type": "stream",
     "text": [
      "Column 13 top three rows with highest values: [1539 1537 1536]\n",
      "Column 39 top three rows with highest values: [1117 1606 1222]\n",
      "Column 52 top three rows with highest values: [1117 1606 1222]\n",
      "Column 56 top three rows with highest values: [1117 1606 1222]\n",
      "Column 89 top three rows with highest values: [1539 1537 1536]\n",
      "Column 117 top three rows with highest values: [1539 1537 1536]\n",
      "Column 130 top three rows with highest values: [1539 1537 1536]\n",
      "Column 139 top three rows with highest values: [1117 1606 1222]\n",
      "Column 144 top three rows with highest values: [1539 1537 1536]\n",
      "Column 160 top three rows with highest values: [1117 1606 1222]\n",
      "Column 162 top three rows with highest values: [1539 1537 1536]\n",
      "Column 179 top three rows with highest values: [1539 1537 1536]\n",
      "Column 210 top three rows with highest values: [1117 1606 1222]\n",
      "Column 232 top three rows with highest values: [1117 1606 1222]\n",
      "Column 236 top three rows with highest values: [1539 1537 1536]\n",
      "Column 257 top three rows with highest values: [1539 1537 1536]\n",
      "Column 272 top three rows with highest values: [1117 1606 1222]\n",
      "Column 282 top three rows with highest values: [1539 1537 1536]\n",
      "Column 284 top three rows with highest values: [1117 1606 1222]\n"
     ]
    }
   ],
   "source": [
    "# Find the column numbers with non-zero values\n",
    "non_zero_columns = np.where(np.any(feature_importance_2 != 0, axis=0))[0]\n",
    "\n",
    "# Dictionary to store the top three rows for each non-zero column\n",
    "top_three_rows_per_column = {}\n",
    "\n",
    "for col in non_zero_columns:\n",
    "    # Get the values in the column\n",
    "    column_values = feature_importance_2[:, col]\n",
    "    \n",
    "    # Get the indices of the top three values\n",
    "    top_three_indices = np.argsort(column_values)[-3:][::-1]\n",
    "    \n",
    "    # Store the top three rows in the dictionary\n",
    "    top_three_rows_per_column[col] = top_three_indices\n",
    "\n",
    "# Print the results\n",
    "for col, rows in top_three_rows_per_column.items():\n",
    "    print(f\"Column {col} top three rows with highest values: {rows}\")"
   ]
  },
  {
   "cell_type": "code",
   "execution_count": 18,
   "metadata": {},
   "outputs": [
    {
     "name": "stdout",
     "output_type": "stream",
     "text": [
      "Classes sorted in descending order based on maximum values:\n",
      "Class 284: Max value = 0.23549713593264301, Feature number = 1117\n",
      "Class 56: Max value = 0.09594327760218789, Feature number = 1117\n",
      "Class 210: Max value = 0.09594327760218789, Feature number = 1117\n",
      "Class 52: Max value = 0.08722116145653444, Feature number = 1117\n",
      "Class 139: Max value = 0.08722116145653444, Feature number = 1117\n",
      "Class 160: Max value = 0.08722116145653444, Feature number = 1117\n",
      "Class 39: Max value = 0.07849904531088099, Feature number = 1117\n",
      "Class 232: Max value = 0.07849904531088099, Feature number = 1117\n",
      "Class 272: Max value = 0.06977692916522754, Feature number = 1117\n",
      "Class 13: Max value = -0.0, Feature number = 1\n",
      "Class 89: Max value = -0.0, Feature number = 1\n",
      "Class 117: Max value = -0.0, Feature number = 1\n",
      "Class 130: Max value = -0.0, Feature number = 1\n",
      "Class 144: Max value = -0.0, Feature number = 1\n",
      "Class 162: Max value = -0.0, Feature number = 1\n",
      "Class 179: Max value = -0.0, Feature number = 1\n",
      "Class 236: Max value = -0.0, Feature number = 1\n",
      "Class 257: Max value = -0.0, Feature number = 1\n",
      "Class 282: Max value = -0.0, Feature number = 1\n"
     ]
    }
   ],
   "source": [
    "# Assuming feature_importance is already defined\n",
    "# feature_importance = ...\n",
    "\n",
    "# Find the column numbers with non-zero values\n",
    "non_zero_columns = np.where(np.any(feature_importance_2 != 0, axis=0))[0]\n",
    "\n",
    "# Dictionary to store the maximum value and its row number for each non-zero column\n",
    "max_value_per_column = {}\n",
    "\n",
    "for col in non_zero_columns:\n",
    "    # Get the values in the column\n",
    "    column_values = feature_importance_2[:, col]\n",
    "    \n",
    "    # Find the maximum value and its row number\n",
    "    max_value = np.max(column_values)\n",
    "    max_row = np.argmax(column_values)\n",
    "    \n",
    "    # Store the maximum value and its row number in the dictionary\n",
    "    max_value_per_column[col] = (max_value, max_row)\n",
    "\n",
    "# Sort the columns in descending order based on the maximum values\n",
    "sorted_columns = sorted(max_value_per_column.items(), key=lambda x: x[1][0], reverse=True)\n",
    "\n",
    "# Print the results\n",
    "print(\"Classes sorted in descending order based on maximum values:\")\n",
    "for col, (max_value, max_row) in sorted_columns:\n",
    "    print(f\"Class {col}: Max value = {max_value}, Feature number = {max_row}\")"
   ]
  },
  {
   "cell_type": "code",
   "execution_count": 19,
   "metadata": {},
   "outputs": [
    {
     "data": {
      "image/png": "[encoded data removed]",
      "text/plain": [
       "<Figure size 1200x600 with 1 Axes>"
      ]
     },
     "metadata": {},
     "output_type": "display_data"
    },
    {
     "name": "stdout",
     "output_type": "stream",
     "text": [
      "Classes sorted in descending order based on maximum values:\n",
      "Class 284: Max value = 0.23549713593264301, Feature number = 1117\n",
      "Class 56: Max value = 0.09594327760218789, Feature number = 1117\n",
      "Class 210: Max value = 0.09594327760218789, Feature number = 1117\n",
      "Class 52: Max value = 0.08722116145653444, Feature number = 1117\n",
      "Class 139: Max value = 0.08722116145653444, Feature number = 1117\n",
      "Class 160: Max value = 0.08722116145653444, Feature number = 1117\n",
      "Class 39: Max value = 0.07849904531088099, Feature number = 1117\n",
      "Class 232: Max value = 0.07849904531088099, Feature number = 1117\n",
      "Class 272: Max value = 0.06977692916522754, Feature number = 1117\n"
     ]
    }
   ],
   "source": [
    "import numpy as np\n",
    "import matplotlib.pyplot as plt\n",
    "\n",
    "# Assuming feature_importance is already defined\n",
    "# feature_importance = ...\n",
    "\n",
    "# Find the column numbers with strictly non-zero values\n",
    "non_zero_columns = np.where(np.any(feature_importance_2 != 0, axis=0))[0]\n",
    "\n",
    "# Dictionary to store the maximum value and its row number for each non-zero column\n",
    "max_value_per_column = {}\n",
    "\n",
    "for col in non_zero_columns:\n",
    "    # Get the values in the column\n",
    "    column_values = feature_importance_2[:, col]\n",
    "    \n",
    "    # Find the maximum value and its row number\n",
    "    max_value = np.max(column_values)\n",
    "    max_row = np.argmax(column_values)\n",
    "    \n",
    "    # Store the maximum value and its row number in the dictionary\n",
    "    if max_value != 0:\n",
    "        max_value_per_column[col] = (max_value, max_row)\n",
    "\n",
    "# Sort the columns in descending order based on the maximum values\n",
    "sorted_columns = sorted(max_value_per_column.items(), key=lambda x: x[1][0], reverse=True)\n",
    "\n",
    "# Extract the class values and corresponding feature values\n",
    "classes = [col for col, _ in sorted_columns]\n",
    "max_values = [max_value for _, (max_value, _) in sorted_columns]\n",
    "feature_numbers = [max_row for _, (_, max_row) in sorted_columns]\n",
    "\n",
    "# Plot the results\n",
    "plt.figure(figsize=(12, 6))\n",
    "bars = plt.bar(classes, max_values, color='blue', alpha=0.7)\n",
    "\n",
    "# Highlight the bars with non-zero values and annotate them with their values, class numbers, and feature numbers\n",
    "for bar, max_value, class_num, feature_num in zip(bars, max_values, classes, feature_numbers):\n",
    "    bar.set_color('red')\n",
    "    plt.text(bar.get_x() + bar.get_width() / 2, bar.get_height(), f'Value: {max_value:.2f}\\nClass: {class_num}\\nFeature: {feature_num}', ha='center', va='bottom', color='black', fontsize=8)\n",
    "\n",
    "plt.xlabel('Class')\n",
    "plt.ylabel('Max Value')\n",
    "plt.title('Classes sorted in descending order based on maximum values')\n",
    "plt.xticks(rotation=90)\n",
    "plt.show()\n",
    "\n",
    "# Print the results\n",
    "print(\"Classes sorted in descending order based on maximum values:\")\n",
    "for col, (max_value, max_row) in sorted_columns:\n",
    "    print(f\"Class {col}: Max value = {max_value}, Feature number = {max_row}\")"
   ]
  },
  {
   "cell_type": "code",
   "execution_count": null,
   "metadata": {},
   "outputs": [],
   "source": []
  }
 ],
 "metadata": {
  "kernelspec": {
   "display_name": "Python 3 (ipykernel)",
   "language": "python",
   "name": "python3"
  },
  "language_info": {
   "codemirror_mode": {
    "name": "ipython",
    "version": 3
   },
   "file_extension": ".py",
   "mimetype": "text/x-python",
   "name": "python",
   "nbconvert_exporter": "python",
   "pygments_lexer": "ipython3",
   "version": "3.12.3"
  }
 },
 "nbformat": 4,
 "nbformat_minor": 2
}
